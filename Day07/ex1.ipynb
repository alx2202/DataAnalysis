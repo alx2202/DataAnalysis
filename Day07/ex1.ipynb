{
 "cells": [
  {
   "cell_type": "markdown",
   "id": "8fe12b69",
   "metadata": {},
   "source": [
    "# Ex 1\n",
    "\n",
    "Write a program that will display the results of multiplication of two numbers (1-10).\n",
    "\n",
    "Sample output:\n",
    "```\n",
    "1*1=1\n",
    "1*2=2\n",
    "...\n",
    "3*4=12\n",
    "...\n",
    "10*10=100\n",
    "```"
   ]
  }
 ],
 "metadata": {
  "kernelspec": {
   "display_name": "Python 3.9.7 64-bit ('base': conda)",
   "language": "python",
   "name": "python397jvsc74a57bd040d3a090f54c6569ab1632332b64b2c03c39dcf918b08424e98f38b5ae0af88f"
  },
  "language_info": {
   "codemirror_mode": {
    "name": "ipython",
    "version": 3
   },
   "file_extension": ".py",
   "mimetype": "text/x-python",
   "name": "python",
   "nbconvert_exporter": "python",
   "pygments_lexer": "ipython3",
   "version": "3.9.7"
  }
 },
 "nbformat": 4,
 "nbformat_minor": 5
}
