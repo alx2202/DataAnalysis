{
 "cells": [
  {
   "cell_type": "markdown",
   "id": "788721a7",
   "metadata": {},
   "source": [
    "# Ex 2\n",
    "\n",
    "Write a program calculating the total amount due for the purchased goods based \n",
    "on the weight and product name provided by the user. \n",
    "To store price information per kilogram of the products use a dictionary. \n",
    "List all available products in the store.\n",
    "\n",
    "```\n",
    "How we can do that?\n",
    "1. Create a dictionary with products, lets add:\n",
    "    potatoes - 1.2\n",
    "    tomatoes - 4.5\n",
    "    carrots - 0.5 \n",
    "2. Print the dictionary\n",
    "3. Ask the user about the product and check if is available in our dictionary\n",
    "4. Ask how many kilograms user wants to buy\n",
    "5. Calculate users due\n",
    "```"
   ]
  },
  {
   "cell_type": "code",
   "execution_count": 6,
   "id": "4ac66af8",
   "metadata": {},
   "outputs": [
    {
     "name": "stdout",
     "output_type": "stream",
     "text": [
      "potatoes - 1.20 PLN/kg\n",
      "tomatoes - 4.50 PLN/kg\n",
      "carrots - 0.50 PLN/kg\n",
      "What would you like to buy? tomatoes\n",
      "How many kilograms of tomatoes would you like to buy? 10\n",
      "For 10.0 kg of tomatoes you have to pay 45.00 PLN\n"
     ]
    }
   ],
   "source": [
    "products = {\n",
    "    'potatoes': 1.2, \n",
    "    'tomatoes': 4.5,\n",
    "    'carrots': 0.5,\n",
    "}\n",
    "\n",
    "for product, price in products.items():\n",
    "    print(f'{product} - {price:.2f} PLN/kg')\n",
    "\n",
    "product_name = input('What would you like to buy? ')\n",
    "\n",
    "if product_name in products:\n",
    "    number_of_kg = float(input(f'How many kilograms of {product_name} would you like to buy? '))\n",
    "    amount_due = products[product_name] * number_of_kg\n",
    "    print(f'For {number_of_kg} kg of {product_name} you have to pay {amount_due:.2f} PLN')\n",
    "else:\n",
    "    print('Sorry, we do not have this product :(')"
   ]
  },
  {
   "cell_type": "code",
   "execution_count": null,
   "id": "6213b022",
   "metadata": {},
   "outputs": [],
   "source": [
    "my_dict = {\n",
    "    'product_name' : ['potatoes', 'tomatoes','carrots'],\n",
    "    'kilo_gram'    : [5,          4,         6],\n",
    "    'price'        : [10,         6,         9],\n",
    "}\n",
    "\n",
    "my_dict = [\n",
    "    {\n",
    "        'product_name': 'potatoes',\n",
    "        'price': 10,\n",
    "    },\n",
    "    {\n",
    "        'product_name': 'tomatoes',\n",
    "        'price': 6,\n",
    "    },\n",
    "    {\n",
    "        'product_name': 'carrots',\n",
    "        'price': 9,\n",
    "    }\n",
    "]"
   ]
  }
 ],
 "metadata": {
  "kernelspec": {
   "display_name": "Python 3.9.7 64-bit ('base': conda)",
   "language": "python",
   "name": "python397jvsc74a57bd040d3a090f54c6569ab1632332b64b2c03c39dcf918b08424e98f38b5ae0af88f"
  },
  "language_info": {
   "codemirror_mode": {
    "name": "ipython",
    "version": 3
   },
   "file_extension": ".py",
   "mimetype": "text/x-python",
   "name": "python",
   "nbconvert_exporter": "python",
   "pygments_lexer": "ipython3",
   "version": "3.9.7"
  }
 },
 "nbformat": 4,
 "nbformat_minor": 5
}
