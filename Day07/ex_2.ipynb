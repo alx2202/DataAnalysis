{
 "cells": [
  {
   "cell_type": "markdown",
   "id": "3d54244a",
   "metadata": {},
   "source": [
    "# Ex 2\n",
    "\n",
    "Write a program calculating the total amount due for the purchased goods based \n",
    "on the weight and product name provided by the user. \n",
    "To store price information per kilogram of the products use a dictionary. \n",
    "List all available products in the store.\n",
    "\n",
    "```\n",
    "How we can do that?\n",
    "1. Create a dictionary with products, lets add:\n",
    "    potatoes - 1.2\n",
    "    tomatoes - 4.5\n",
    "    carrots - 0.5 \n",
    "2. Print the dictionary\n",
    "3. Ask the user about the product and check if is available in our dictionary\n",
    "4. Ask how many kilograms user wants to buy\n",
    "5. Calculate users due\n",
    "```"
   ]
  },
  {
   "cell_type": "code",
   "execution_count": null,
   "id": "64e5cec9",
   "metadata": {},
   "outputs": [],
   "source": []
  }
 ],
 "metadata": {
  "kernelspec": {
   "display_name": "Python 3.9.7 64-bit ('base': conda)",
   "language": "python",
   "name": "python397jvsc74a57bd040d3a090f54c6569ab1632332b64b2c03c39dcf918b08424e98f38b5ae0af88f"
  },
  "language_info": {
   "codemirror_mode": {
    "name": "ipython",
    "version": 3
   },
   "file_extension": ".py",
   "mimetype": "text/x-python",
   "name": "python",
   "nbconvert_exporter": "python",
   "pygments_lexer": "ipython3",
   "version": "3.9.7"
  }
 },
 "nbformat": 4,
 "nbformat_minor": 5
}
