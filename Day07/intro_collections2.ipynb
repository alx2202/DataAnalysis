{
 "cells": [
  {
   "cell_type": "markdown",
   "id": "f397dd82",
   "metadata": {},
   "source": [
    "# Collections 2\n",
    "\n",
    "## Dictionary\n",
    "- defined as `{ key: value }`\n",
    "- is mutable, ordered (before Python 3.7 was unordered)\n",
    "- what can be a key:\n",
    "    - almost all python data types can be a key\n",
    "    - to simplify, we can say that immutable data types can be a key\n",
    "    - to be precise, only hashable types can be a key - those, which have `__hash()__` method implemented\n",
    "- value can be anything\n",
    "- https://realpython.com/python-dicts/ "
   ]
  },
  {
   "cell_type": "code",
   "execution_count": 7,
   "id": "c44122af",
   "metadata": {},
   "outputs": [
    {
     "name": "stdout",
     "output_type": "stream",
     "text": [
      "Piotr\n",
      "Tom\n"
     ]
    },
    {
     "data": {
      "text/plain": [
       "1"
      ]
     },
     "execution_count": 7,
     "metadata": {},
     "output_type": "execute_result"
    }
   ],
   "source": [
    "my_dict = {\n",
    "    'first_name': 'Piotr',\n",
    "    'last_name': 'GG',\n",
    "    'shoe_number': 46,\n",
    "    'favourite_numbers': [1, 2, 3, 4, 5]  # the value can be anything\n",
    "}\n",
    "\n",
    "print(my_dict['first_name'])\n",
    "\n",
    "my_dict['first_name'] = 'Tom'\n",
    "print(my_dict['first_name'])\n",
    "\n",
    "my_dict['middle_name'] = 'Andrzej'\n",
    "del(my_dict['middle_name'])\n",
    "my_dict\n",
    "my_dict['favourite_numbers'][0]"
   ]
  },
  {
   "cell_type": "code",
   "execution_count": 13,
   "id": "2a17c8b0",
   "metadata": {},
   "outputs": [
    {
     "name": "stdout",
     "output_type": "stream",
     "text": [
      "None\n",
      "0\n",
      "False\n"
     ]
    }
   ],
   "source": [
    "# my_dict['height']  # KO: KeyError\n",
    "print(my_dict.get('height'))  # if the given key is not present in the dictionary, method will return None instead of raising an exception\n",
    "print(my_dict.get('height', 0))  # we can provide a default value in case the key does not exists in the dictionary\n",
    "print('height' in my_dict)"
   ]
  },
  {
   "cell_type": "code",
   "execution_count": 17,
   "id": "da00996c",
   "metadata": {},
   "outputs": [
    {
     "name": "stdout",
     "output_type": "stream",
     "text": [
      "first_name Tom\n",
      "last_name GG\n",
      "shoe_number 46\n",
      "favourite_numbers [1, 2, 3, 4, 5]\n"
     ]
    }
   ],
   "source": [
    "for key in my_dict:\n",
    "    print(key, my_dict[key])"
   ]
  },
  {
   "cell_type": "code",
   "execution_count": 18,
   "id": "d2bcb7df",
   "metadata": {},
   "outputs": [
    {
     "data": {
      "text/plain": [
       "dict_keys(['first_name', 'last_name', 'shoe_number', 'favourite_numbers'])"
      ]
     },
     "execution_count": 18,
     "metadata": {},
     "output_type": "execute_result"
    }
   ],
   "source": [
    "my_dict.keys()"
   ]
  },
  {
   "cell_type": "code",
   "execution_count": 19,
   "id": "24c3a515",
   "metadata": {},
   "outputs": [
    {
     "data": {
      "text/plain": [
       "dict_values(['Tom', 'GG', 46, [1, 2, 3, 4, 5]])"
      ]
     },
     "execution_count": 19,
     "metadata": {},
     "output_type": "execute_result"
    }
   ],
   "source": [
    "my_dict.values()"
   ]
  },
  {
   "cell_type": "code",
   "execution_count": 20,
   "id": "427b7854",
   "metadata": {},
   "outputs": [
    {
     "data": {
      "text/plain": [
       "dict_items([('first_name', 'Tom'), ('last_name', 'GG'), ('shoe_number', 46), ('favourite_numbers', [1, 2, 3, 4, 5])])"
      ]
     },
     "execution_count": 20,
     "metadata": {},
     "output_type": "execute_result"
    }
   ],
   "source": [
    "my_dict.items()"
   ]
  },
  {
   "cell_type": "code",
   "execution_count": 22,
   "id": "5b0a9818",
   "metadata": {},
   "outputs": [
    {
     "name": "stdout",
     "output_type": "stream",
     "text": [
      "first_name Tom\n",
      "last_name GG\n",
      "shoe_number 46\n",
      "favourite_numbers [1, 2, 3, 4, 5]\n"
     ]
    }
   ],
   "source": [
    "for key, value in my_dict.items():\n",
    "    print(key, value)"
   ]
  },
  {
   "cell_type": "code",
   "execution_count": 29,
   "id": "952a272c",
   "metadata": {},
   "outputs": [
    {
     "name": "stdout",
     "output_type": "stream",
     "text": [
      "('first_name', 'Tom')\n",
      "first_name Tom\n",
      "('last_name', 'GG')\n",
      "last_name GG\n",
      "('shoe_number', 46)\n",
      "shoe_number 46\n",
      "('favourite_numbers', [1, 2, 3, 4, 5])\n",
      "favourite_numbers [1, 2, 3, 4, 5]\n"
     ]
    }
   ],
   "source": [
    "for x in my_dict.items():\n",
    "    print(x)\n",
    "    print(x[0], x[1])"
   ]
  },
  {
   "cell_type": "code",
   "execution_count": null,
   "id": "53340f15",
   "metadata": {},
   "outputs": [],
   "source": []
  },
  {
   "cell_type": "code",
   "execution_count": null,
   "id": "1d81eeba",
   "metadata": {},
   "outputs": [],
   "source": []
  },
  {
   "cell_type": "code",
   "execution_count": null,
   "id": "c3e541d6",
   "metadata": {},
   "outputs": [],
   "source": []
  },
  {
   "cell_type": "code",
   "execution_count": null,
   "id": "526a8c98",
   "metadata": {},
   "outputs": [],
   "source": []
  },
  {
   "cell_type": "code",
   "execution_count": null,
   "id": "b124f1f9",
   "metadata": {},
   "outputs": [],
   "source": []
  }
 ],
 "metadata": {
  "kernelspec": {
   "display_name": "Python 3.9.7 64-bit ('base': conda)",
   "language": "python",
   "name": "python397jvsc74a57bd040d3a090f54c6569ab1632332b64b2c03c39dcf918b08424e98f38b5ae0af88f"
  },
  "language_info": {
   "codemirror_mode": {
    "name": "ipython",
    "version": 3
   },
   "file_extension": ".py",
   "mimetype": "text/x-python",
   "name": "python",
   "nbconvert_exporter": "python",
   "pygments_lexer": "ipython3",
   "version": "3.9.7"
  }
 },
 "nbformat": 4,
 "nbformat_minor": 5
}
