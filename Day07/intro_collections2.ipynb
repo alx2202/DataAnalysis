{
 "cells": [
  {
   "cell_type": "markdown",
   "id": "c4d47aa1",
   "metadata": {},
   "source": [
    "# Collections 2\n",
    "\n",
    "## Dictionary\n",
    "- defined as `{ key: value }`\n",
    "- is mutable, ordered (before Python 3.7 was unordered)\n",
    "- what can be a key:\n",
    "    - almost all python data types can be a key\n",
    "    - to simplify, we can say that immutable data types can be a key\n",
    "    - to be precise, only hashable types can be a key - those, which have `__hash()__` method implemented\n",
    "- value can be anything\n",
    "- https://realpython.com/python-dicts/ "
   ]
  },
  {
   "cell_type": "code",
   "execution_count": 7,
   "id": "b2c74848",
   "metadata": {},
   "outputs": [
    {
     "name": "stdout",
     "output_type": "stream",
     "text": [
      "Piotr\n",
      "Tom\n"
     ]
    },
    {
     "data": {
      "text/plain": [
       "1"
      ]
     },
     "execution_count": 7,
     "metadata": {},
     "output_type": "execute_result"
    }
   ],
   "source": [
    "my_dict = {\n",
    "    'first_name': 'Piotr',\n",
    "    'last_name': 'GG',\n",
    "    'shoe_number': 46,\n",
    "    'favourite_numbers': [1, 2, 3, 4, 5]  # the value can be anything\n",
    "}\n",
    "\n",
    "print(my_dict['first_name'])\n",
    "\n",
    "my_dict['first_name'] = 'Tom'\n",
    "print(my_dict['first_name'])\n",
    "\n",
    "my_dict['middle_name'] = 'Andrzej'\n",
    "del(my_dict['middle_name'])\n",
    "my_dict\n",
    "my_dict['favourite_numbers'][0]"
   ]
  },
  {
   "cell_type": "code",
   "execution_count": 13,
   "id": "0eb14afe",
   "metadata": {},
   "outputs": [
    {
     "name": "stdout",
     "output_type": "stream",
     "text": [
      "None\n",
      "0\n",
      "False\n"
     ]
    }
   ],
   "source": [
    "# my_dict['height']  # KO: KeyError\n",
    "print(my_dict.get('height'))  # if the given key is not present in the dictionary, method will return None instead of raising an exception\n",
    "print(my_dict.get('height', 0))  # we can provide a default value in case the key does not exists in the dictionary\n",
    "print('height' in my_dict)"
   ]
  },
  {
   "cell_type": "code",
   "execution_count": 17,
   "id": "4bcf5804",
   "metadata": {},
   "outputs": [
    {
     "name": "stdout",
     "output_type": "stream",
     "text": [
      "first_name Tom\n",
      "last_name GG\n",
      "shoe_number 46\n",
      "favourite_numbers [1, 2, 3, 4, 5]\n"
     ]
    }
   ],
   "source": [
    "for key in my_dict:\n",
    "    print(key, my_dict[key])"
   ]
  },
  {
   "cell_type": "code",
   "execution_count": 18,
   "id": "ff6a7b80",
   "metadata": {},
   "outputs": [
    {
     "data": {
      "text/plain": [
       "dict_keys(['first_name', 'last_name', 'shoe_number', 'favourite_numbers'])"
      ]
     },
     "execution_count": 18,
     "metadata": {},
     "output_type": "execute_result"
    }
   ],
   "source": [
    "my_dict.keys()"
   ]
  },
  {
   "cell_type": "code",
   "execution_count": 19,
   "id": "14d9e3bf",
   "metadata": {},
   "outputs": [
    {
     "data": {
      "text/plain": [
       "dict_values(['Tom', 'GG', 46, [1, 2, 3, 4, 5]])"
      ]
     },
     "execution_count": 19,
     "metadata": {},
     "output_type": "execute_result"
    }
   ],
   "source": [
    "my_dict.values()"
   ]
  },
  {
   "cell_type": "code",
   "execution_count": 20,
   "id": "836657cc",
   "metadata": {},
   "outputs": [
    {
     "data": {
      "text/plain": [
       "dict_items([('first_name', 'Tom'), ('last_name', 'GG'), ('shoe_number', 46), ('favourite_numbers', [1, 2, 3, 4, 5])])"
      ]
     },
     "execution_count": 20,
     "metadata": {},
     "output_type": "execute_result"
    }
   ],
   "source": [
    "my_dict.items()"
   ]
  },
  {
   "cell_type": "code",
   "execution_count": 22,
   "id": "2a4c28f6",
   "metadata": {},
   "outputs": [
    {
     "name": "stdout",
     "output_type": "stream",
     "text": [
      "first_name Tom\n",
      "last_name GG\n",
      "shoe_number 46\n",
      "favourite_numbers [1, 2, 3, 4, 5]\n"
     ]
    }
   ],
   "source": [
    "for key, value in my_dict.items():\n",
    "    print(key, value)"
   ]
  },
  {
   "cell_type": "code",
   "execution_count": 29,
   "id": "472e848a",
   "metadata": {},
   "outputs": [
    {
     "name": "stdout",
     "output_type": "stream",
     "text": [
      "('first_name', 'Tom')\n",
      "first_name Tom\n",
      "('last_name', 'GG')\n",
      "last_name GG\n",
      "('shoe_number', 46)\n",
      "shoe_number 46\n",
      "('favourite_numbers', [1, 2, 3, 4, 5])\n",
      "favourite_numbers [1, 2, 3, 4, 5]\n"
     ]
    }
   ],
   "source": [
    "for x in my_dict.items():\n",
    "    print(x)\n",
    "    print(x[0], x[1])"
   ]
  },
  {
   "cell_type": "markdown",
   "id": "1c78d952",
   "metadata": {},
   "source": [
    "## Set\n",
    "\n",
    "- defined as { }\n",
    "- is mutable, unordered\n",
    "- within set we store only unique elements - we don't have duplicates\n",
    "- on sets we can do set theory operations: union, intersection, difference\n",
    "- has to store immutable elements\n",
    "- https://realpython.com/python-sets/ \n",
    "- operations: https://commons.wikimedia.org/wiki/File:Set_Theory_Operations.svg\n"
   ]
  },
  {
   "cell_type": "code",
   "execution_count": 31,
   "id": "219d74f4",
   "metadata": {},
   "outputs": [
    {
     "name": "stdout",
     "output_type": "stream",
     "text": [
      "{50, 20, 40, 10, 30}\n",
      "<class 'set'>\n"
     ]
    }
   ],
   "source": [
    "my_set = {10, 20, 30, 40, 50}\n",
    "print(my_set)\n",
    "print(type(my_set))"
   ]
  },
  {
   "cell_type": "code",
   "execution_count": 33,
   "id": "5ffc32e4",
   "metadata": {},
   "outputs": [],
   "source": [
    "# indexing operator does not work...\n",
    "# my_set[0]  # KO: TypeError: 'set' object is not subscriptable"
   ]
  },
  {
   "cell_type": "code",
   "execution_count": 38,
   "id": "6a011370",
   "metadata": {},
   "outputs": [
    {
     "name": "stdout",
     "output_type": "stream",
     "text": [
      "{50, 20, 40, 10, 60, 30}\n",
      "{50, 20, 40, 60, 30}\n"
     ]
    }
   ],
   "source": [
    "my_set.add(60)\n",
    "my_set.add(60)\n",
    "my_set.add(60)\n",
    "my_set.add(60)\n",
    "print(my_set)\n",
    "\n",
    "my_set.remove(10)\n",
    "print(my_set)"
   ]
  },
  {
   "cell_type": "code",
   "execution_count": 41,
   "id": "cbad8de0",
   "metadata": {},
   "outputs": [
    {
     "data": {
      "text/plain": [
       "5"
      ]
     },
     "execution_count": 41,
     "metadata": {},
     "output_type": "execute_result"
    }
   ],
   "source": [
    "len(my_set)"
   ]
  },
  {
   "cell_type": "code",
   "execution_count": 50,
   "id": "d998bf33",
   "metadata": {},
   "outputs": [
    {
     "name": "stdout",
     "output_type": "stream",
     "text": [
      "50\n",
      "20\n",
      "40\n",
      "60\n",
      "30\n"
     ]
    }
   ],
   "source": [
    "for number in my_set:\n",
    "    print(number)"
   ]
  },
  {
   "cell_type": "code",
   "execution_count": 52,
   "id": "83411408",
   "metadata": {},
   "outputs": [
    {
     "name": "stdout",
     "output_type": "stream",
     "text": [
      "{50, 20, 40, 60, 30, 'Piotr'}\n"
     ]
    }
   ],
   "source": [
    "my_set.add('Piotr')\n",
    "print(my_set)"
   ]
  },
  {
   "cell_type": "markdown",
   "id": "8e205c20",
   "metadata": {},
   "source": [
    "### Set theory operations"
   ]
  },
  {
   "cell_type": "code",
   "execution_count": 56,
   "id": "ce1eefba",
   "metadata": {},
   "outputs": [
    {
     "name": "stdout",
     "output_type": "stream",
     "text": [
      "{1, 2, 3, 4, 5}\n",
      "{1, 2}\n",
      "{3}\n",
      "{3, 4, 5}\n"
     ]
    }
   ],
   "source": [
    "a = {1, 2, 3}\n",
    "b = {1, 2, 4, 5}\n",
    "\n",
    "print(a.union(b))\n",
    "print(a.intersection(b))\n",
    "print(a.difference(b))\n",
    "print(a.symmetric_difference(b))  # from union substract intersection"
   ]
  },
  {
   "cell_type": "code",
   "execution_count": 61,
   "id": "994a47df",
   "metadata": {},
   "outputs": [
    {
     "name": "stdout",
     "output_type": "stream",
     "text": [
      "{1, 2, 3, 4, 5}\n",
      "{1, 2}\n",
      "{3}\n",
      "{3, 4, 5}\n"
     ]
    }
   ],
   "source": [
    "print(a | b)  # union\n",
    "print(a & b)  # intersection\n",
    "print(a - b)  # difference\n",
    "print(a ^ b)  # symmetric difference"
   ]
  },
  {
   "cell_type": "code",
   "execution_count": 64,
   "id": "c58498e8",
   "metadata": {},
   "outputs": [
    {
     "name": "stdout",
     "output_type": "stream",
     "text": [
      "False\n",
      "True\n"
     ]
    }
   ],
   "source": [
    "print(a <= b)  # is a a subset of b, False\n",
    "c = {1, 2}\n",
    "print(c <= b)  # True"
   ]
  },
  {
   "cell_type": "markdown",
   "id": "7e2be077",
   "metadata": {},
   "source": [
    "## Sorting build-in python data structures"
   ]
  },
  {
   "cell_type": "code",
   "execution_count": 74,
   "id": "071e8a85",
   "metadata": {},
   "outputs": [
    {
     "name": "stdout",
     "output_type": "stream",
     "text": [
      "[10, 5, 2, 7, -8, -20]\n",
      "[10, 7, 5, 2, -8, -20]\n",
      "[40, 20, -100, -200]\n",
      "[-10, -4, 5, 8]\n"
     ]
    }
   ],
   "source": [
    "my_list = [10, 5, 2, 7, -8, -20]\n",
    "print(my_list)\n",
    "\n",
    "# lists have build-in method (.sort()) which allows us to sort the elements of this list\n",
    "# and it changes the list (not returning a copy)\n",
    "# my_list.sort()  # ascending order\n",
    "my_list.sort(reverse=True)  # descending order\n",
    "print(my_list)\n",
    "\n",
    "# for other collections (python build-ins or other iterable objects) we can use sorted() function.\n",
    "# https://docs.python.org/3/library/functions.html?highlight=sorted#sorted\n",
    "my_tuple = (-100, -200, 40, 20)\n",
    "sorted_list = sorted(my_tuple, reverse=True)\n",
    "print(sorted_list)\n",
    "\n",
    "my_set = {-10, 8, 5, -4}\n",
    "sorted_list = sorted(my_set)\n",
    "print(sorted_list)"
   ]
  },
  {
   "cell_type": "markdown",
   "id": "08681749",
   "metadata": {},
   "source": [
    "## Converting data types - collections"
   ]
  },
  {
   "cell_type": "code",
   "execution_count": 80,
   "id": "d0a2abc0",
   "metadata": {},
   "outputs": [
    {
     "name": "stdout",
     "output_type": "stream",
     "text": [
      "(1, 2, 3, 4, 5, 5, 5, 5, 5, 5) <class 'tuple'>\n",
      "[1, 2, 3, 4, 5, 5, 5, 5, 5, 5] <class 'list'>\n",
      "{1, 2, 3, 4, 5} <class 'set'>\n",
      "[1, 2, 3, 4, 5, 5, 5, 5, 5, 5]\n",
      "[1, 2, 3, 4, 5]\n"
     ]
    }
   ],
   "source": [
    "my_tuple = (1, 2, 3, 4, 5, 5, 5, 5, 5, 5)\n",
    "print(my_tuple, type(my_tuple))\n",
    "\n",
    "my_list = list(my_tuple)\n",
    "print(my_list, type(my_list))\n",
    "\n",
    "my_set = set(my_list)\n",
    "print(my_set, type(my_set))\n",
    "\n",
    "\n",
    "my_list = [1, 2, 3, 4, 5, 5, 5, 5, 5, 5]\n",
    "print(my_list)\n",
    "\n",
    "# I want to get rid of duplicates\n",
    "my_list = list(set(my_list))  # this operation causes that the order of elements will be different\n",
    "\n",
    "print(my_list)"
   ]
  }
 ],
 "metadata": {
  "kernelspec": {
   "display_name": "Python 3.9.7 64-bit ('base': conda)",
   "language": "python",
   "name": "python397jvsc74a57bd040d3a090f54c6569ab1632332b64b2c03c39dcf918b08424e98f38b5ae0af88f"
  },
  "language_info": {
   "codemirror_mode": {
    "name": "ipython",
    "version": 3
   },
   "file_extension": ".py",
   "mimetype": "text/x-python",
   "name": "python",
   "nbconvert_exporter": "python",
   "pygments_lexer": "ipython3",
   "version": "3.9.7"
  }
 },
 "nbformat": 4,
 "nbformat_minor": 5
}
