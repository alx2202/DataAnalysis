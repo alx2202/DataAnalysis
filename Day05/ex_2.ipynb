{
 "cells": [
  {
   "cell_type": "markdown",
   "id": "051736e3",
   "metadata": {},
   "source": [
    "# Ex 2\n",
    "\n",
    "Write a program that will calculate the result of the given operation \n",
    "(adding, subtracting, multiplying, dividing) based on the two numbers given. \n",
    "If an incorrect operation is specified, the program should display an appropriate error message.\n",
    "\n",
    "Sample program output:\n",
    "```\n",
    "Enter the first number: 10\n",
    "Enter the second number: 5\n",
    "Enter the type of operation (+, -, *, /): +\n",
    "Result: 15\n",
    "```"
   ]
  },
  {
   "cell_type": "code",
   "execution_count": 4,
   "id": "1a3d42d5",
   "metadata": {},
   "outputs": [
    {
     "name": "stdout",
     "output_type": "stream",
     "text": [
      "Enter the first number: 10\n",
      "Enter the second number: 56\n",
      "Enter the type of operation (+, -, *, /):@\n",
      "Invalid operation :(\n"
     ]
    }
   ],
   "source": [
    "number_1 = float(input('Enter the first number: '))\n",
    "number_2 = float(input('Enter the second number: '))\n",
    "operation = input('Enter the type of operation (+, -, *, /):')\n",
    "\n",
    "if operation == '+':\n",
    "    result = number_1 + number_2\n",
    "elif operation == '-':\n",
    "    result = number_1 - number_2\n",
    "elif operation == '*':\n",
    "    result = number_1 * number_2\n",
    "elif operation == '/':\n",
    "    result = number_1 / number_2\n",
    "else:\n",
    "    result = None\n",
    "\n",
    "    \n",
    "    \n",
    "if result is None:\n",
    "    print('Invalid operation :(')\n",
    "else:\n",
    "    print(f'{number_1}{operation}{number_2}={result}')"
   ]
  }
 ],
 "metadata": {
  "kernelspec": {
   "display_name": "Python 3.9.7 64-bit ('base': conda)",
   "language": "python",
   "name": "python397jvsc74a57bd040d3a090f54c6569ab1632332b64b2c03c39dcf918b08424e98f38b5ae0af88f"
  },
  "language_info": {
   "codemirror_mode": {
    "name": "ipython",
    "version": 3
   },
   "file_extension": ".py",
   "mimetype": "text/x-python",
   "name": "python",
   "nbconvert_exporter": "python",
   "pygments_lexer": "ipython3",
   "version": "3.9.7"
  }
 },
 "nbformat": 4,
 "nbformat_minor": 5
}
