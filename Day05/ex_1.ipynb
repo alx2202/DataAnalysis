{
 "cells": [
  {
   "cell_type": "markdown",
   "id": "524f890c",
   "metadata": {},
   "source": [
    "# Ex 1\n",
    "\n",
    "Write a program that calculates the cost of travel from city A to city B \n",
    "based on the number of kilometers given by the user, the price of fuel \n",
    "and fuel consumption. Ask the user for the cities names.\n",
    "\n",
    "Use a proportion formula to calculate this:\n",
    "```\n",
    "cost = distance * fuel_consumption / 100.0 * price\n",
    "cost = 420 * 5.5 / 100.0 * 4.55\n",
    "```\n",
    "\n",
    "Sample program input:\n",
    "```    \n",
    "City A: Warsaw\n",
    "City B: Gdańsk\n",
    "Distance Warsaw-Gdansk: 420\n",
    "Fuel price for 1l: 4.55\n",
    "Fuel consumption per 100 km: 5.5\n",
    "```\n",
    "\n",
    "Sample program output:\n",
    "```\n",
    "The cost of the Warsaw-Gdańsk journey is 105.11 PLN\n",
    "```"
   ]
  },
  {
   "cell_type": "code",
   "execution_count": 3,
   "id": "6fa45d71",
   "metadata": {},
   "outputs": [
    {
     "name": "stdout",
     "output_type": "stream",
     "text": [
      "City A: Warsaw\n",
      "City B: Gdańsk\n",
      "Distance Warsaw-Gdańsk: 420\n",
      "Fuel price for 1l: 4.55\n",
      "Fuel consumption per 100 km: 5.5\n",
      "The cost of the Warsaw-Gdańsk journey is 105.11 PLN\n"
     ]
    }
   ],
   "source": [
    "city_a = input('City A: ')\n",
    "city_b = input('City B: ')\n",
    "distance = float(input(f'Distance {city_a}-{city_b}: '))\n",
    "price = float(input('Fuel price for 1l: '))\n",
    "fuel_consumption = float(input('Fuel consumption per 100 km: '))\n",
    "\n",
    "cost = distance * fuel_consumption / 100.0 * price\n",
    "\n",
    "print(f'The cost of the {city_a}-{city_b} journey is {cost:.2f} PLN')"
   ]
  },
  {
   "cell_type": "code",
   "execution_count": null,
   "id": "97481701",
   "metadata": {},
   "outputs": [],
   "source": []
  }
 ],
 "metadata": {
  "kernelspec": {
   "display_name": "Python 3.9.7 64-bit ('base': conda)",
   "language": "python",
   "name": "python397jvsc74a57bd040d3a090f54c6569ab1632332b64b2c03c39dcf918b08424e98f38b5ae0af88f"
  },
  "language_info": {
   "codemirror_mode": {
    "name": "ipython",
    "version": 3
   },
   "file_extension": ".py",
   "mimetype": "text/x-python",
   "name": "python",
   "nbconvert_exporter": "python",
   "pygments_lexer": "ipython3",
   "version": "3.9.7"
  }
 },
 "nbformat": 4,
 "nbformat_minor": 5
}
