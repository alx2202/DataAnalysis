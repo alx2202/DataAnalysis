{
 "cells": [
  {
   "cell_type": "markdown",
   "id": "f9a6f32d",
   "metadata": {},
   "source": [
    "# Data types\n",
    "\n",
    "We have several basic data types build into Python:\n",
    "- string (`str`)\n",
    "- integers (`int`)\n",
    "- fractional numbers (`float`)\n",
    "- complex numbers (`complex`)\n",
    "- booleans (`bool`)\n",
    "- special type None (`None`)"
   ]
  },
  {
   "cell_type": "code",
   "execution_count": 7,
   "id": "aaeb2eaf",
   "metadata": {},
   "outputs": [
    {
     "name": "stdout",
     "output_type": "stream",
     "text": [
      "Hello world!\n",
      "Hello world!\n",
      "Hello\n",
      "world!\n",
      "Hello\n",
      "world!\n",
      "10\n",
      "-10\n",
      "0\n",
      "2.5\n",
      "-3.99\n",
      "0.0\n",
      "(3+5j)\n",
      "True\n",
      "False\n",
      "None\n"
     ]
    }
   ],
   "source": [
    "# literals - the values written into the code\n",
    "\n",
    "# str\n",
    "print('Hello world!')\n",
    "print(\"Hello world!\")\n",
    "print('''Hello\n",
    "world!''')\n",
    "print(\"\"\"Hello\n",
    "world!\"\"\")\n",
    "\n",
    "# int\n",
    "print(10)\n",
    "print(-10)\n",
    "print(0)\n",
    "\n",
    "# float\n",
    "print(2.5)\n",
    "print(-3.99)\n",
    "print(0.0)\n",
    "\n",
    "# complex numbers - <real path>+<imaginary part>j\n",
    "print(3+5j)\n",
    "\n",
    "# bool - T and F must be capital letters\n",
    "print(True)\n",
    "print(False)\n",
    "\n",
    "# None - in other languages it's null and means an empty value\n",
    "print(None)"
   ]
  },
  {
   "cell_type": "code",
   "execution_count": 16,
   "id": "7ee4b98e",
   "metadata": {},
   "outputs": [
    {
     "name": "stdout",
     "output_type": "stream",
     "text": [
      "13\n",
      "7\n",
      "30\n",
      "3.3333333333333335\n",
      "3\n",
      "1\n",
      "1000\n",
      "Hello world!\n",
      "HelloHelloHelloHelloHelloHelloHelloHelloHelloHello\n",
      "True\n",
      "False\n",
      "False\n",
      "True\n",
      "True\n",
      "True\n",
      "True\n",
      "True\n",
      "True\n"
     ]
    }
   ],
   "source": [
    "# Operators\n",
    "# other libraries can define how those operators will work on their objects, like on ndarrays (NumPy)\n",
    "# basic mathematical operators\n",
    "print(10 + 3)\n",
    "print(10 - 3)\n",
    "print(10 * 3)\n",
    "print(10 / 3)\n",
    "print(10 // 3)\n",
    "print(10 % 3)\n",
    "print(10 ** 3)\n",
    "\n",
    "# we can use those operators with some other data types\n",
    "print('Hello ' + 'world!')  # concatenation\n",
    "print('Hello' * 10)\n",
    "\n",
    "# comparison operators - always return bool\n",
    "print(1 == 1)  # True, warning - we have 2x=  == , = -> it's a differnt operator, assignment operator\n",
    "print(1 != 1)  # False\n",
    "print(1 > 2)  # False\n",
    "print(1 < 2)  # True\n",
    "print(1 <= 1)  # True\n",
    "print(1 >= 1)  # True\n",
    "\n",
    "# Logical operators - if we want to combine several conditions together\n",
    "print(True and True)  # True\n",
    "print(False or True)  # True\n",
    "print(not False)  # True\n"
   ]
  },
  {
   "cell_type": "code",
   "execution_count": null,
   "id": "1fddfa6c",
   "metadata": {},
   "outputs": [],
   "source": []
  },
  {
   "cell_type": "code",
   "execution_count": null,
   "id": "a2b9b200",
   "metadata": {},
   "outputs": [],
   "source": []
  },
  {
   "cell_type": "code",
   "execution_count": null,
   "id": "5636b22e",
   "metadata": {},
   "outputs": [],
   "source": []
  },
  {
   "cell_type": "code",
   "execution_count": null,
   "id": "bbcae31a",
   "metadata": {},
   "outputs": [],
   "source": []
  },
  {
   "cell_type": "code",
   "execution_count": null,
   "id": "f0934f60",
   "metadata": {},
   "outputs": [],
   "source": []
  },
  {
   "cell_type": "code",
   "execution_count": null,
   "id": "36bf10d2",
   "metadata": {},
   "outputs": [],
   "source": []
  }
 ],
 "metadata": {
  "kernelspec": {
   "display_name": "Python 3.9.7 64-bit ('base': conda)",
   "language": "python",
   "name": "python397jvsc74a57bd040d3a090f54c6569ab1632332b64b2c03c39dcf918b08424e98f38b5ae0af88f"
  },
  "language_info": {
   "codemirror_mode": {
    "name": "ipython",
    "version": 3
   },
   "file_extension": ".py",
   "mimetype": "text/x-python",
   "name": "python",
   "nbconvert_exporter": "python",
   "pygments_lexer": "ipython3",
   "version": "3.9.7"
  }
 },
 "nbformat": 4,
 "nbformat_minor": 5
}
