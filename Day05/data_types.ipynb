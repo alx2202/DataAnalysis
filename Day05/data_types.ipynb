{
 "cells": [
  {
   "cell_type": "markdown",
   "id": "3a4f7a14",
   "metadata": {},
   "source": [
    "# Data types\n",
    "\n",
    "We have several basic data types build into Python:\n",
    "- string (`str`)\n",
    "- integers (`int`)\n",
    "- fractional numbers (`float`)\n",
    "- complex numbers (`complex`)\n",
    "- booleans (`bool`)\n",
    "- special type None (`None`)"
   ]
  },
  {
   "cell_type": "code",
   "execution_count": 7,
   "id": "8c84f8ad",
   "metadata": {},
   "outputs": [
    {
     "name": "stdout",
     "output_type": "stream",
     "text": [
      "Hello world!\n",
      "Hello world!\n",
      "Hello\n",
      "world!\n",
      "Hello\n",
      "world!\n",
      "10\n",
      "-10\n",
      "0\n",
      "2.5\n",
      "-3.99\n",
      "0.0\n",
      "(3+5j)\n",
      "True\n",
      "False\n",
      "None\n"
     ]
    }
   ],
   "source": [
    "# literals - the values written into the code\n",
    "\n",
    "# str\n",
    "print('Hello world!')\n",
    "print(\"Hello world!\")\n",
    "print('''Hello\n",
    "world!''')\n",
    "print(\"\"\"Hello\n",
    "world!\"\"\")\n",
    "\n",
    "# int\n",
    "print(10)\n",
    "print(-10)\n",
    "print(0)\n",
    "\n",
    "# float\n",
    "print(2.5)\n",
    "print(-3.99)\n",
    "print(0.0)\n",
    "\n",
    "# complex numbers - <real path>+<imaginary part>j\n",
    "print(3+5j)\n",
    "\n",
    "# bool - T and F must be capital letters\n",
    "print(True)\n",
    "print(False)\n",
    "\n",
    "# None - in other languages it's null and means an empty value\n",
    "print(None)"
   ]
  },
  {
   "cell_type": "code",
   "execution_count": 17,
   "id": "5dc7419e",
   "metadata": {},
   "outputs": [
    {
     "name": "stdout",
     "output_type": "stream",
     "text": [
      "13\n",
      "7\n",
      "30\n",
      "3.3333333333333335\n",
      "3\n",
      "1\n",
      "1000\n",
      "Hello world!\n",
      "HelloHelloHelloHelloHelloHelloHelloHelloHelloHello\n",
      "True\n",
      "False\n",
      "False\n",
      "True\n",
      "True\n",
      "True\n"
     ]
    }
   ],
   "source": [
    "# Operators\n",
    "# other libraries can define how those operators will work on their objects, like on ndarrays (NumPy)\n",
    "# basic mathematical operators\n",
    "print(10 + 3)\n",
    "print(10 - 3)\n",
    "print(10 * 3)\n",
    "print(10 / 3)\n",
    "print(10 // 3)\n",
    "print(10 % 3)\n",
    "print(10 ** 3)\n",
    "\n",
    "# we can use those operators with some other data types\n",
    "print('Hello ' + 'world!')  # concatenation\n",
    "print('Hello' * 10)\n",
    "\n",
    "# comparison operators - always return bool\n",
    "print(1 == 1)  # True, warning - we have 2x=  == , = -> it's a differnt operator, assignment operator\n",
    "print(1 != 1)  # False\n",
    "print(1 > 2)  # False\n",
    "print(1 < 2)  # True\n",
    "print(1 <= 1)  # True\n",
    "print(1 >= 1)  # True"
   ]
  },
  {
   "attachments": {
    "Zrzut%20ekranu%202023-02-9%20o%2018.47.34.png": {
     "image/png": "[encoded data removed]"
    }
   },
   "cell_type": "markdown",
   "id": "bd9a1669",
   "metadata": {},
   "source": [
    "## Logical operators\n",
    "\n",
    "- conjunction - `and`\n",
    "- alternative - `or` \n",
    "- negation - `not`\n",
    "    - `not True` -> `False`\n",
    "    - `not False` -> `True`\n",
    "\n",
    "\n",
    "![Zrzut%20ekranu%202023-02-9%20o%2018.47.34.png](attachment:Zrzut%20ekranu%202023-02-9%20o%2018.47.34.png)"
   ]
  },
  {
   "cell_type": "code",
   "execution_count": 18,
   "id": "a2ffe433",
   "metadata": {},
   "outputs": [
    {
     "name": "stdout",
     "output_type": "stream",
     "text": [
      "True\n",
      "True\n",
      "True\n"
     ]
    }
   ],
   "source": [
    "# Logical operators - if we want to combine several conditions together\n",
    "print(True and True)  # True\n",
    "print(False or True)  # True\n",
    "print(not False)  # True"
   ]
  },
  {
   "cell_type": "markdown",
   "id": "aee63395",
   "metadata": {},
   "source": [
    "## How we can get data to our app from the user?\n",
    "\n",
    "If we are using Jupter Notebooks, then most of the time we either hard-code the data we need or we fetch data from files, external data sources, etc. \n",
    "\n",
    "But in plain python file or in Jupter Notebook file we can leverage `input()` function to ask user for the data."
   ]
  },
  {
   "cell_type": "code",
   "execution_count": 22,
   "id": "62aa9030",
   "metadata": {},
   "outputs": [
    {
     "name": "stdout",
     "output_type": "stream",
     "text": [
      "Provide your name: Piotr\n",
      "Your name is Piotr. Thank you for using this software!\n",
      "Your name is Piotr. Thank you for using this software!\n"
     ]
    }
   ],
   "source": [
    "# variables - first_name\n",
    "# assignment operator = \n",
    "# executing input function with one argument being string 'Provide your name: '\n",
    "first_name = input('Provide your name: ')\n",
    "print('Your name is ' + first_name + '. Thank you for using this software!')\n",
    "\n",
    "# f-string or formatted string - makes building strings much easier (instead of using concatenation)\n",
    "print(f'Your name is {first_name}. Thank you for using this software!')"
   ]
  },
  {
   "cell_type": "code",
   "execution_count": 23,
   "id": "ee55b599",
   "metadata": {},
   "outputs": [
    {
     "name": "stdout",
     "output_type": "stream",
     "text": [
      "Provide you shoe number: 46\n",
      "46\n",
      "<class 'str'>\n"
     ]
    }
   ],
   "source": [
    "shoe_number = input('Provide you shoe number: ')\n",
    "print(shoe_number)\n",
    "print(type(shoe_number))"
   ]
  },
  {
   "cell_type": "markdown",
   "id": "4e491f31",
   "metadata": {},
   "source": [
    "### How we can convert data types?\n",
    "\n",
    "In python we have functions that allow us to convert one data type to another. For example:\n",
    "- `int('10') -> 10`\n",
    "- `float('10') -> 10.0`\n",
    "\n",
    "we have those functions for all build-in data types:\n",
    "- `int()`, `float()`, `bool()`, `str()`, `complex()`"
   ]
  },
  {
   "cell_type": "code",
   "execution_count": 26,
   "id": "1dd8e8e6",
   "metadata": {},
   "outputs": [
    {
     "name": "stdout",
     "output_type": "stream",
     "text": [
      "10 <class 'int'>\n",
      "10.0 <class 'float'>\n"
     ]
    }
   ],
   "source": [
    "print(int('10'), type(int('10')))\n",
    "print(float('10'), type(float('10')))"
   ]
  },
  {
   "cell_type": "code",
   "execution_count": 30,
   "id": "750c2701",
   "metadata": {},
   "outputs": [
    {
     "name": "stdout",
     "output_type": "stream",
     "text": [
      "Provide you shoe number: 46\n",
      "46\n",
      "<class 'int'>\n"
     ]
    }
   ],
   "source": [
    "# input function always returns a string\n",
    "shoe_number = int(input('Provide you shoe number: '))\n",
    "print(shoe_number)\n",
    "print(type(shoe_number))"
   ]
  },
  {
   "cell_type": "markdown",
   "id": "219f8878",
   "metadata": {},
   "source": [
    "[Format spacification mini-language](https://docs.python.org/3/library/string.html#format-specification-mini-language)"
   ]
  },
  {
   "cell_type": "code",
   "execution_count": 39,
   "id": "c4eb4bc7",
   "metadata": {},
   "outputs": [
    {
     "name": "stdout",
     "output_type": "stream",
     "text": [
      "You are due: 5.5965 PLN.\n",
      "You are due: 5.60 PLN.\n"
     ]
    }
   ],
   "source": [
    "price_per_kg = 4.55\n",
    "no_kg = 1.23\n",
    "due = price_per_kg *  no_kg\n",
    "print(f'You are due: {due} PLN.')\n",
    "print(f'You are due: {due:.2f} PLN.')  # we can leverage format specifier"
   ]
  },
  {
   "cell_type": "code",
   "execution_count": 42,
   "id": "4f8e4b45",
   "metadata": {},
   "outputs": [
    {
     "name": "stdout",
     "output_type": "stream",
     "text": [
      "Provide distance: 420\n"
     ]
    }
   ],
   "source": [
    "# input function always return a string. If we want to operate on numbers, then we have to convert a string into a number\n",
    "distance = float('420')\n",
    "distance = float(input('Provide distance: '))"
   ]
  },
  {
   "cell_type": "markdown",
   "id": "2d12841b",
   "metadata": {},
   "source": [
    "## Conditional statements\n",
    "\n",
    "if condition: - required\n",
    "\n",
    "elif condition2: - optional, can be used several times\n",
    "\n",
    "else: - optional, can be only one\n",
    "\n",
    "```\n",
    "if condition:\n",
    "\tdo something when condition evaluates to True\n",
    "\n",
    "\n",
    "\n",
    "if condition:\n",
    "\tdo something when condition evaluates to True\n",
    "else:\n",
    "\tdo something when condition evaluates to False\n",
    "\n",
    "\n",
    "\n",
    "if condition1:\n",
    "\tdo something when condition1 evaluates to True\n",
    "elif condition2:\n",
    "\tdo something when condition2 evaluates to True\n",
    "else:\n",
    "\tdo something when all previous conditions are False\n",
    "\n",
    "\n",
    "\n",
    "if condition1:\n",
    "\tdo something when condition1 evaluates to True\n",
    "elif condition2:\n",
    "\tdo something when condition2 evaluates to True\n",
    "elif condition3:\n",
    "\tdo something when condition3 evaluates to True\n",
    "else:\n",
    "\tdo something when all previous conditions are False\n",
    "\n",
    "\n",
    "\n",
    "if condition1:\n",
    "\tdo something when condition1 evaluates to True\n",
    "elif condition2:\n",
    "\tdo something when condition2 evaluates to True\n",
    "\n",
    "```"
   ]
  },
  {
   "cell_type": "code",
   "execution_count": 8,
   "id": "ff714d4b",
   "metadata": {},
   "outputs": [
    {
     "name": "stdout",
     "output_type": "stream",
     "text": [
      "gross salary: 10000\n",
      "For which country you would like me to calculate net salary: it\n",
      "We do not support this country.\n"
     ]
    }
   ],
   "source": [
    "gross_salary = 10_000  # you can add _ to the number to make it more readable\n",
    "print('gross salary:', gross_salary)\n",
    "\n",
    "country = input('For which country you would like me to calculate net salary: ')\n",
    "\n",
    "if country == 'pl':\n",
    "    tax = 0.1\n",
    "elif country == 'fr':\n",
    "    tax = 0.15\n",
    "elif country == 'de':\n",
    "    tax = 0.08\n",
    "else:\n",
    "    tax = None\n",
    "\n",
    "if tax is not None:\n",
    "    net_salary = gross_salary * (1.0 - tax)\n",
    "    print('net salary:', net_salary)\n",
    "else:\n",
    "    print('We do not support this country.')"
   ]
  }
 ],
 "metadata": {
  "kernelspec": {
   "display_name": "Python 3.9.7 64-bit ('base': conda)",
   "language": "python",
   "name": "python397jvsc74a57bd040d3a090f54c6569ab1632332b64b2c03c39dcf918b08424e98f38b5ae0af88f"
  },
  "language_info": {
   "codemirror_mode": {
    "name": "ipython",
    "version": 3
   },
   "file_extension": ".py",
   "mimetype": "text/x-python",
   "name": "python",
   "nbconvert_exporter": "python",
   "pygments_lexer": "ipython3",
   "version": "3.9.7"
  }
 },
 "nbformat": 4,
 "nbformat_minor": 5
}
