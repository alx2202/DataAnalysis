{
 "cells": [
  {
   "cell_type": "markdown",
   "id": "5e583bc5",
   "metadata": {},
   "source": [
    "# Dates\n",
    "\n",
    "- https://realpython.com/python-datetime/\n",
    "- https://docs.python.org/3/library/datetime.html\n",
    "\n",
    "We have build-in support for dates and times in python but to use it we have to import `datetime` package so we can work with them. \n",
    "\n",
    "We can handle:\n",
    "- date\n",
    "- time\n",
    "- datetime"
   ]
  },
  {
   "cell_type": "code",
   "execution_count": 1,
   "id": "226cec2b",
   "metadata": {},
   "outputs": [],
   "source": [
    "import datetime"
   ]
  },
  {
   "cell_type": "code",
   "execution_count": 4,
   "id": "46d328a9",
   "metadata": {},
   "outputs": [
    {
     "data": {
      "text/plain": [
       "(datetime.date(2023, 3, 28), datetime.date)"
      ]
     },
     "execution_count": 4,
     "metadata": {},
     "output_type": "execute_result"
    }
   ],
   "source": [
    "# creating dates representation with datetime package\n",
    "my_date = datetime.date(year=2023, month=3, day=28)\n",
    "my_date, type(my_date)"
   ]
  },
  {
   "cell_type": "code",
   "execution_count": 7,
   "id": "f1188625",
   "metadata": {},
   "outputs": [
    {
     "data": {
      "text/plain": [
       "datetime.date(2023, 3, 28)"
      ]
     },
     "execution_count": 7,
     "metadata": {},
     "output_type": "execute_result"
    }
   ],
   "source": [
    "my_date = datetime.date.today()\n",
    "my_date"
   ]
  },
  {
   "cell_type": "code",
   "execution_count": 10,
   "id": "70c78818",
   "metadata": {},
   "outputs": [
    {
     "data": {
      "text/plain": [
       "(datetime.time(18, 58, 10), datetime.time)"
      ]
     },
     "execution_count": 10,
     "metadata": {},
     "output_type": "execute_result"
    }
   ],
   "source": [
    "# creating times\n",
    "my_time = datetime.time(hour=18, minute=58, second=10)\n",
    "my_time, type(my_time)"
   ]
  },
  {
   "cell_type": "code",
   "execution_count": 12,
   "id": "1fe8db15",
   "metadata": {},
   "outputs": [
    {
     "data": {
      "text/plain": [
       "(datetime.datetime(2023, 3, 28, 18, 59, 40), datetime.datetime)"
      ]
     },
     "execution_count": 12,
     "metadata": {},
     "output_type": "execute_result"
    }
   ],
   "source": [
    "# creating datetime (date with time)\n",
    "my_datetime = datetime.datetime(year=2023, month=3, day=28, hour=18, minute=59, second=40)\n",
    "my_datetime, type(my_datetime)"
   ]
  },
  {
   "cell_type": "code",
   "execution_count": 37,
   "id": "740e68d5",
   "metadata": {},
   "outputs": [
    {
     "data": {
      "text/plain": [
       "datetime.datetime(2023, 3, 28, 19, 1, 37, 28963)"
      ]
     },
     "execution_count": 37,
     "metadata": {},
     "output_type": "execute_result"
    }
   ],
   "source": [
    "my_datetime = datetime.datetime.now()\n",
    "my_datetime"
   ]
  },
  {
   "cell_type": "code",
   "execution_count": 42,
   "id": "b8d77195",
   "metadata": {},
   "outputs": [
    {
     "data": {
      "text/plain": [
       "(2023, 3, 28, 19, 1, 37, 28963)"
      ]
     },
     "execution_count": 42,
     "metadata": {},
     "output_type": "execute_result"
    }
   ],
   "source": [
    "# we can access particular elements of the datetime object\n",
    "my_datetime.year, my_datetime.month, my_datetime.day, my_datetime.hour, my_datetime.minute, my_datetime.second, my_datetime.microsecond"
   ]
  },
  {
   "cell_type": "code",
   "execution_count": 43,
   "id": "114fee9b",
   "metadata": {},
   "outputs": [
    {
     "data": {
      "text/plain": [
       "1"
      ]
     },
     "execution_count": 43,
     "metadata": {},
     "output_type": "execute_result"
    }
   ],
   "source": [
    "my_datetime.weekday()  # Monday - 0 -> Sunday - 6"
   ]
  },
  {
   "cell_type": "code",
   "execution_count": 44,
   "id": "14a3fd07",
   "metadata": {},
   "outputs": [
    {
     "data": {
      "text/plain": [
       "2"
      ]
     },
     "execution_count": 44,
     "metadata": {},
     "output_type": "execute_result"
    }
   ],
   "source": [
    "my_datetime.isoweekday()  # Monday - 1 -> Sunday - 7"
   ]
  },
  {
   "cell_type": "code",
   "execution_count": 45,
   "id": "9f901de6",
   "metadata": {},
   "outputs": [
    {
     "data": {
      "text/plain": [
       "datetime.IsoCalendarDate(year=2023, week=13, weekday=2)"
      ]
     },
     "execution_count": 45,
     "metadata": {},
     "output_type": "execute_result"
    }
   ],
   "source": [
    "my_datetime.isocalendar()"
   ]
  },
  {
   "cell_type": "code",
   "execution_count": 47,
   "id": "207d0b5e",
   "metadata": {},
   "outputs": [
    {
     "data": {
      "text/plain": [
       "13"
      ]
     },
     "execution_count": 47,
     "metadata": {},
     "output_type": "execute_result"
    }
   ],
   "source": [
    "my_datetime.isocalendar().week"
   ]
  },
  {
   "cell_type": "markdown",
   "id": "054a5a32",
   "metadata": {},
   "source": [
    "## How we can format our datetime?\n",
    "\n",
    "We want to transform a datetime (python) object into a string containg all the information about date and time in a format we want to have.\n",
    "\n",
    "`(datetime) -> (string)`\n",
    "\n",
    "We can use special method available within datetime object called `my_datetime.strftime(FORMAT)`.\n",
    "\n",
    "`strftime` -> `string from time`\n",
    "\n",
    "`FORMAT` - will contain tokens that we can put in any order we want, any tokens we want that represents certain parts of the the datetime (like hour, year, month, etc.). \n",
    "\n",
    "[Full list of available tokens we can use in `strftime` and `strptime`](https://docs.python.org/3/library/datetime.html#strftime-and-strptime-format-codes)."
   ]
  },
  {
   "cell_type": "code",
   "execution_count": 49,
   "id": "e14a3227",
   "metadata": {},
   "outputs": [
    {
     "data": {
      "text/plain": [
       "'28.03.2023 19:01:37'"
      ]
     },
     "execution_count": 49,
     "metadata": {},
     "output_type": "execute_result"
    }
   ],
   "source": [
    "my_datetime.strftime('%d.%m.%Y %H:%M:%S')  # gives me a string formatted according to provided format"
   ]
  },
  {
   "cell_type": "code",
   "execution_count": 50,
   "id": "12e46218",
   "metadata": {},
   "outputs": [
    {
     "data": {
      "text/plain": [
       "'03/28/2023 19:01:37'"
      ]
     },
     "execution_count": 50,
     "metadata": {},
     "output_type": "execute_result"
    }
   ],
   "source": [
    "my_datetime.strftime('%m/%d/%Y %H:%M:%S')"
   ]
  },
  {
   "cell_type": "markdown",
   "id": "3014117f",
   "metadata": {},
   "source": [
    "## Parsing date and time from different formats into pythons datetime objects\n",
    "\n",
    "[`EPOCH`](https://en.wikipedia.org/wiki/Epoch_(computing)) - \"the beginning of time in computer\". It's based on the operating system, for example for linux/unix/MacOS EPOCH is defined as 01.01.1970. For Windows it's 01.01.1601 (it also depends on the Windows version).\n",
    "\n",
    "For conversion of the current datetime and for testing we can use https://www.epochconverter.com/\n",
    "\n",
    "`1680024312` - Tuesday, March 28, 2023 7:25:12 PM GMT+02:00 DST.\n"
   ]
  },
  {
   "cell_type": "code",
   "execution_count": null,
   "id": "002e0b2e",
   "metadata": {},
   "outputs": [],
   "source": []
  }
 ],
 "metadata": {
  "kernelspec": {
   "display_name": "Python 3.9.7 64-bit ('base': conda)",
   "language": "python",
   "name": "python397jvsc74a57bd040d3a090f54c6569ab1632332b64b2c03c39dcf918b08424e98f38b5ae0af88f"
  },
  "language_info": {
   "codemirror_mode": {
    "name": "ipython",
    "version": 3
   },
   "file_extension": ".py",
   "mimetype": "text/x-python",
   "name": "python",
   "nbconvert_exporter": "python",
   "pygments_lexer": "ipython3",
   "version": "3.9.7"
  }
 },
 "nbformat": 4,
 "nbformat_minor": 5
}
