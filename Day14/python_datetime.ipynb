{
 "cells": [
  {
   "cell_type": "markdown",
   "id": "e44260ee",
   "metadata": {},
   "source": [
    "# Dates\n",
    "\n",
    "- https://realpython.com/python-datetime/\n",
    "- https://docs.python.org/3/library/datetime.html\n",
    "\n",
    "We have build-in support for dates and times in python but to use it we have to import `datetime` package so we can work with them. \n",
    "\n",
    "We can handle:\n",
    "- date\n",
    "- time\n",
    "- datetime"
   ]
  },
  {
   "cell_type": "code",
   "execution_count": 1,
   "id": "255a5db9",
   "metadata": {},
   "outputs": [],
   "source": [
    "import datetime"
   ]
  },
  {
   "cell_type": "code",
   "execution_count": 4,
   "id": "253bb421",
   "metadata": {},
   "outputs": [
    {
     "data": {
      "text/plain": [
       "(datetime.date(2023, 3, 28), datetime.date)"
      ]
     },
     "execution_count": 4,
     "metadata": {},
     "output_type": "execute_result"
    }
   ],
   "source": [
    "# creating dates representation with datetime package\n",
    "my_date = datetime.date(year=2023, month=3, day=28)\n",
    "my_date, type(my_date)"
   ]
  },
  {
   "cell_type": "code",
   "execution_count": 7,
   "id": "a2343230",
   "metadata": {},
   "outputs": [
    {
     "data": {
      "text/plain": [
       "datetime.date(2023, 3, 28)"
      ]
     },
     "execution_count": 7,
     "metadata": {},
     "output_type": "execute_result"
    }
   ],
   "source": [
    "my_date = datetime.date.today()\n",
    "my_date"
   ]
  },
  {
   "cell_type": "code",
   "execution_count": 10,
   "id": "3efa2242",
   "metadata": {},
   "outputs": [
    {
     "data": {
      "text/plain": [
       "(datetime.time(18, 58, 10), datetime.time)"
      ]
     },
     "execution_count": 10,
     "metadata": {},
     "output_type": "execute_result"
    }
   ],
   "source": [
    "# creating times\n",
    "my_time = datetime.time(hour=18, minute=58, second=10)\n",
    "my_time, type(my_time)"
   ]
  },
  {
   "cell_type": "code",
   "execution_count": 12,
   "id": "822a4d0c",
   "metadata": {},
   "outputs": [
    {
     "data": {
      "text/plain": [
       "(datetime.datetime(2023, 3, 28, 18, 59, 40), datetime.datetime)"
      ]
     },
     "execution_count": 12,
     "metadata": {},
     "output_type": "execute_result"
    }
   ],
   "source": [
    "# creating datetime (date with time)\n",
    "my_datetime = datetime.datetime(year=2023, month=3, day=28, hour=18, minute=59, second=40)\n",
    "my_datetime, type(my_datetime)"
   ]
  },
  {
   "cell_type": "code",
   "execution_count": 37,
   "id": "53adbdfc",
   "metadata": {},
   "outputs": [
    {
     "data": {
      "text/plain": [
       "datetime.datetime(2023, 3, 28, 19, 1, 37, 28963)"
      ]
     },
     "execution_count": 37,
     "metadata": {},
     "output_type": "execute_result"
    }
   ],
   "source": [
    "my_datetime = datetime.datetime.now()\n",
    "my_datetime"
   ]
  },
  {
   "cell_type": "code",
   "execution_count": 42,
   "id": "4f974caa",
   "metadata": {},
   "outputs": [
    {
     "data": {
      "text/plain": [
       "(2023, 3, 28, 19, 1, 37, 28963)"
      ]
     },
     "execution_count": 42,
     "metadata": {},
     "output_type": "execute_result"
    }
   ],
   "source": [
    "# we can access particular elements of the datetime object\n",
    "my_datetime.year, my_datetime.month, my_datetime.day, my_datetime.hour, my_datetime.minute, my_datetime.second, my_datetime.microsecond"
   ]
  },
  {
   "cell_type": "code",
   "execution_count": 43,
   "id": "16e9f37c",
   "metadata": {},
   "outputs": [
    {
     "data": {
      "text/plain": [
       "1"
      ]
     },
     "execution_count": 43,
     "metadata": {},
     "output_type": "execute_result"
    }
   ],
   "source": [
    "my_datetime.weekday()  # Monday - 0 -> Sunday - 6"
   ]
  },
  {
   "cell_type": "code",
   "execution_count": 44,
   "id": "516a3fb3",
   "metadata": {},
   "outputs": [
    {
     "data": {
      "text/plain": [
       "2"
      ]
     },
     "execution_count": 44,
     "metadata": {},
     "output_type": "execute_result"
    }
   ],
   "source": [
    "my_datetime.isoweekday()  # Monday - 1 -> Sunday - 7"
   ]
  },
  {
   "cell_type": "code",
   "execution_count": 45,
   "id": "186c5f74",
   "metadata": {},
   "outputs": [
    {
     "data": {
      "text/plain": [
       "datetime.IsoCalendarDate(year=2023, week=13, weekday=2)"
      ]
     },
     "execution_count": 45,
     "metadata": {},
     "output_type": "execute_result"
    }
   ],
   "source": [
    "my_datetime.isocalendar()"
   ]
  },
  {
   "cell_type": "code",
   "execution_count": 47,
   "id": "0608d5a3",
   "metadata": {},
   "outputs": [
    {
     "data": {
      "text/plain": [
       "13"
      ]
     },
     "execution_count": 47,
     "metadata": {},
     "output_type": "execute_result"
    }
   ],
   "source": [
    "my_datetime.isocalendar().week"
   ]
  },
  {
   "cell_type": "markdown",
   "id": "82e352b0",
   "metadata": {},
   "source": [
    "## How we can format our datetime?\n",
    "\n",
    "We want to transform a datetime (python) object into a string containg all the information about date and time in a format we want to have.\n",
    "\n",
    "`(datetime) -> (string)`\n",
    "\n",
    "We can use special method available within datetime object called `my_datetime.strftime(FORMAT)`.\n",
    "\n",
    "`strftime` -> `string from time`\n",
    "\n",
    "`FORMAT` - will contain tokens that we can put in any order we want, any tokens we want that represents certain parts of the the datetime (like hour, year, month, etc.). \n",
    "\n",
    "[Full list of available tokens we can use in `strftime` and `strptime`](https://docs.python.org/3/library/datetime.html#strftime-and-strptime-format-codes)."
   ]
  },
  {
   "cell_type": "code",
   "execution_count": 49,
   "id": "4da5aaab",
   "metadata": {},
   "outputs": [
    {
     "data": {
      "text/plain": [
       "'28.03.2023 19:01:37'"
      ]
     },
     "execution_count": 49,
     "metadata": {},
     "output_type": "execute_result"
    }
   ],
   "source": [
    "my_datetime.strftime('%d.%m.%Y %H:%M:%S')  # gives me a string formatted according to provided format"
   ]
  },
  {
   "cell_type": "code",
   "execution_count": 50,
   "id": "7fce45b4",
   "metadata": {},
   "outputs": [
    {
     "data": {
      "text/plain": [
       "'03/28/2023 19:01:37'"
      ]
     },
     "execution_count": 50,
     "metadata": {},
     "output_type": "execute_result"
    }
   ],
   "source": [
    "my_datetime.strftime('%m/%d/%Y %H:%M:%S')"
   ]
  },
  {
   "cell_type": "markdown",
   "id": "500b6b81",
   "metadata": {},
   "source": [
    "## Parsing date and time from different formats into pythons datetime objects\n",
    "\n",
    "[`EPOCH`](https://en.wikipedia.org/wiki/Epoch_(computing)) - \"the beginning of time in computer\". It's based on the operating system, for example for linux/unix/MacOS EPOCH is defined as 01.01.1970. For Windows it's 01.01.1601 (it also depends on the Windows version).\n",
    "\n",
    "For conversion of the current datetime and for testing we can use https://www.epochconverter.com/\n",
    "\n",
    "`1680024312` - Tuesday, March 28, 2023 7:25:12 PM GMT+02:00 DST.\n",
    "\n",
    "`1680024312` - it's an integer, in decimal system that represents the number of seconds from 01.01.1970 (EPOCH) till a certain date."
   ]
  },
  {
   "cell_type": "code",
   "execution_count": 52,
   "id": "b3bc1f08",
   "metadata": {},
   "outputs": [
    {
     "data": {
      "text/plain": [
       "datetime.datetime(2023, 3, 28, 19, 25, 12)"
      ]
     },
     "execution_count": 52,
     "metadata": {},
     "output_type": "execute_result"
    }
   ],
   "source": [
    "# from timestamp to datetime\n",
    "my_datetime = datetime.datetime.fromtimestamp(1680024312)\n",
    "my_datetime"
   ]
  },
  {
   "cell_type": "code",
   "execution_count": 55,
   "id": "52a6c10d",
   "metadata": {},
   "outputs": [
    {
     "data": {
      "text/plain": [
       "1680022780.0"
      ]
     },
     "execution_count": 55,
     "metadata": {},
     "output_type": "execute_result"
    }
   ],
   "source": [
    "# from datetime to timestamp\n",
    "my_datetime = datetime.datetime(year=2023, month=3, day=28, hour=18, minute=59, second=40)\n",
    "my_datetime.timestamp()"
   ]
  },
  {
   "cell_type": "markdown",
   "id": "00840ed7",
   "metadata": {},
   "source": [
    "We have a standard called [ISO 8601](https://en.wikipedia.org/wiki/ISO_8601) that defines how we can write datetime strings, intervals, etc."
   ]
  },
  {
   "cell_type": "code",
   "execution_count": 57,
   "id": "75cd4a80",
   "metadata": {},
   "outputs": [
    {
     "data": {
      "text/plain": [
       "datetime.datetime(2023, 3, 28, 19, 35, 30)"
      ]
     },
     "execution_count": 57,
     "metadata": {},
     "output_type": "execute_result"
    }
   ],
   "source": [
    "my_datetime = datetime.datetime.fromisoformat('2023-03-28T19:35:30')\n",
    "my_datetime"
   ]
  },
  {
   "cell_type": "markdown",
   "id": "764eff75",
   "metadata": {},
   "source": [
    "It's not always the case where we can work with ISO format or timestamp and sometimes we have a string with date and time that looks differently and we want to be able to convert this string to datetime object. \n",
    "\n",
    "We can do that using `strptime` function (string parse time)."
   ]
  },
  {
   "cell_type": "code",
   "execution_count": 59,
   "id": "e4ab6a2c",
   "metadata": {},
   "outputs": [
    {
     "data": {
      "text/plain": [
       "datetime.datetime(2023, 3, 28, 19, 37, 36)"
      ]
     },
     "execution_count": 59,
     "metadata": {},
     "output_type": "execute_result"
    }
   ],
   "source": [
    "# convert string with custom datetime format into a pythons datetime object\n",
    "my_datetime = datetime.datetime.strptime('28.03.2023 19:37:36', '%d.%m.%Y %H:%M:%S')\n",
    "my_datetime"
   ]
  },
  {
   "cell_type": "markdown",
   "id": "594cea61",
   "metadata": {},
   "source": [
    "The buildin support for dates and times in python is quite extensive but we can make our lives easier with using external library (which we have to install) called `python-dateutil`. \n",
    "\n",
    "Link to PyPI: https://pypi.org/project/python-dateutil/\n",
    "\n",
    "To install this library we have to invoke `pip install python-util`:"
   ]
  },
  {
   "cell_type": "code",
   "execution_count": 60,
   "id": "a23ff4cd",
   "metadata": {},
   "outputs": [
    {
     "name": "stdout",
     "output_type": "stream",
     "text": [
      "Requirement already satisfied: python-dateutil in /opt/anaconda3/lib/python3.9/site-packages (2.8.2)\r\n",
      "Requirement already satisfied: six>=1.5 in /opt/anaconda3/lib/python3.9/site-packages (from python-dateutil) (1.16.0)\r\n"
     ]
    }
   ],
   "source": [
    "!pip install python-dateutil"
   ]
  },
  {
   "cell_type": "code",
   "execution_count": null,
   "id": "e8240865",
   "metadata": {},
   "outputs": [],
   "source": []
  }
 ],
 "metadata": {
  "kernelspec": {
   "display_name": "Python 3.9.7 64-bit ('base': conda)",
   "language": "python",
   "name": "python397jvsc74a57bd040d3a090f54c6569ab1632332b64b2c03c39dcf918b08424e98f38b5ae0af88f"
  },
  "language_info": {
   "codemirror_mode": {
    "name": "ipython",
    "version": 3
   },
   "file_extension": ".py",
   "mimetype": "text/x-python",
   "name": "python",
   "nbconvert_exporter": "python",
   "pygments_lexer": "ipython3",
   "version": "3.9.7"
  }
 },
 "nbformat": 4,
 "nbformat_minor": 5
}
