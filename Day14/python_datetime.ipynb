{
 "cells": [
  {
   "cell_type": "markdown",
   "id": "8d3ecaaf",
   "metadata": {},
   "source": [
    "# Dates\n",
    "\n",
    "- https://realpython.com/python-datetime/\n",
    "- https://docs.python.org/3/library/datetime.html\n",
    "\n",
    "We have build-in support for dates and times in python but to use it we have to import `datetime` package so we can work with them. \n",
    "\n",
    "We can handle:\n",
    "- date\n",
    "- time\n",
    "- datetime"
   ]
  },
  {
   "cell_type": "code",
   "execution_count": 1,
   "id": "16ec9af0",
   "metadata": {},
   "outputs": [],
   "source": [
    "import datetime"
   ]
  },
  {
   "cell_type": "code",
   "execution_count": 4,
   "id": "1c4178d6",
   "metadata": {},
   "outputs": [
    {
     "data": {
      "text/plain": [
       "(datetime.date(2023, 3, 28), datetime.date)"
      ]
     },
     "execution_count": 4,
     "metadata": {},
     "output_type": "execute_result"
    }
   ],
   "source": [
    "# creating dates representation with datetime package\n",
    "my_date = datetime.date(year=2023, month=3, day=28)\n",
    "my_date, type(my_date)"
   ]
  },
  {
   "cell_type": "code",
   "execution_count": 7,
   "id": "a805a51a",
   "metadata": {},
   "outputs": [
    {
     "data": {
      "text/plain": [
       "datetime.date(2023, 3, 28)"
      ]
     },
     "execution_count": 7,
     "metadata": {},
     "output_type": "execute_result"
    }
   ],
   "source": [
    "my_date = datetime.date.today()\n",
    "my_date"
   ]
  },
  {
   "cell_type": "code",
   "execution_count": 10,
   "id": "3dea1fde",
   "metadata": {},
   "outputs": [
    {
     "data": {
      "text/plain": [
       "(datetime.time(18, 58, 10), datetime.time)"
      ]
     },
     "execution_count": 10,
     "metadata": {},
     "output_type": "execute_result"
    }
   ],
   "source": [
    "# creating times\n",
    "my_time = datetime.time(hour=18, minute=58, second=10)\n",
    "my_time, type(my_time)"
   ]
  },
  {
   "cell_type": "code",
   "execution_count": 12,
   "id": "be4d62ba",
   "metadata": {},
   "outputs": [
    {
     "data": {
      "text/plain": [
       "(datetime.datetime(2023, 3, 28, 18, 59, 40), datetime.datetime)"
      ]
     },
     "execution_count": 12,
     "metadata": {},
     "output_type": "execute_result"
    }
   ],
   "source": [
    "# creating datetime (date with time)\n",
    "my_datetime = datetime.datetime(year=2023, month=3, day=28, hour=18, minute=59, second=40)\n",
    "my_datetime, type(my_datetime)"
   ]
  },
  {
   "cell_type": "code",
   "execution_count": 37,
   "id": "ea372ae6",
   "metadata": {},
   "outputs": [
    {
     "data": {
      "text/plain": [
       "datetime.datetime(2023, 3, 28, 19, 1, 37, 28963)"
      ]
     },
     "execution_count": 37,
     "metadata": {},
     "output_type": "execute_result"
    }
   ],
   "source": [
    "my_datetime = datetime.datetime.now()\n",
    "my_datetime"
   ]
  },
  {
   "cell_type": "code",
   "execution_count": 42,
   "id": "14b99621",
   "metadata": {},
   "outputs": [
    {
     "data": {
      "text/plain": [
       "(2023, 3, 28, 19, 1, 37, 28963)"
      ]
     },
     "execution_count": 42,
     "metadata": {},
     "output_type": "execute_result"
    }
   ],
   "source": [
    "# we can access particular elements of the datetime object\n",
    "my_datetime.year, my_datetime.month, my_datetime.day, my_datetime.hour, my_datetime.minute, my_datetime.second, my_datetime.microsecond"
   ]
  },
  {
   "cell_type": "code",
   "execution_count": 43,
   "id": "efa6047c",
   "metadata": {},
   "outputs": [
    {
     "data": {
      "text/plain": [
       "1"
      ]
     },
     "execution_count": 43,
     "metadata": {},
     "output_type": "execute_result"
    }
   ],
   "source": [
    "my_datetime.weekday()  # Monday - 0 -> Sunday - 6"
   ]
  },
  {
   "cell_type": "code",
   "execution_count": 44,
   "id": "ea185de7",
   "metadata": {},
   "outputs": [
    {
     "data": {
      "text/plain": [
       "2"
      ]
     },
     "execution_count": 44,
     "metadata": {},
     "output_type": "execute_result"
    }
   ],
   "source": [
    "my_datetime.isoweekday()  # Monday - 1 -> Sunday - 7"
   ]
  },
  {
   "cell_type": "code",
   "execution_count": 45,
   "id": "0b8be2f0",
   "metadata": {},
   "outputs": [
    {
     "data": {
      "text/plain": [
       "datetime.IsoCalendarDate(year=2023, week=13, weekday=2)"
      ]
     },
     "execution_count": 45,
     "metadata": {},
     "output_type": "execute_result"
    }
   ],
   "source": [
    "my_datetime.isocalendar()"
   ]
  },
  {
   "cell_type": "code",
   "execution_count": 47,
   "id": "0159a950",
   "metadata": {},
   "outputs": [
    {
     "data": {
      "text/plain": [
       "13"
      ]
     },
     "execution_count": 47,
     "metadata": {},
     "output_type": "execute_result"
    }
   ],
   "source": [
    "my_datetime.isocalendar().week"
   ]
  },
  {
   "cell_type": "markdown",
   "id": "9aa87ad9",
   "metadata": {},
   "source": [
    "## How we can format our datetime?\n",
    "\n",
    "We want to transform a datetime (python) object into a string containg all the information about date and time in a format we want to have.\n",
    "\n",
    "`(datetime) -> (string)`\n",
    "\n",
    "We can use special method available within datetime object called `my_datetime.strftime(FORMAT)`.\n",
    "\n",
    "`strftime` -> `string from time`\n",
    "\n",
    "`FORMAT` - will contain tokens that we can put in any order we want, any tokens we want that represents certain parts of the the datetime (like hour, year, month, etc.). \n",
    "\n",
    "[Full list of available tokens we can use in `strftime` and `strptime`](https://docs.python.org/3/library/datetime.html#strftime-and-strptime-format-codes)."
   ]
  },
  {
   "cell_type": "code",
   "execution_count": 49,
   "id": "b8372020",
   "metadata": {},
   "outputs": [
    {
     "data": {
      "text/plain": [
       "'28.03.2023 19:01:37'"
      ]
     },
     "execution_count": 49,
     "metadata": {},
     "output_type": "execute_result"
    }
   ],
   "source": [
    "my_datetime.strftime('%d.%m.%Y %H:%M:%S')  # gives me a string formatted according to provided format"
   ]
  },
  {
   "cell_type": "code",
   "execution_count": 50,
   "id": "c6cdbe2d",
   "metadata": {},
   "outputs": [
    {
     "data": {
      "text/plain": [
       "'03/28/2023 19:01:37'"
      ]
     },
     "execution_count": 50,
     "metadata": {},
     "output_type": "execute_result"
    }
   ],
   "source": [
    "my_datetime.strftime('%m/%d/%Y %H:%M:%S')"
   ]
  },
  {
   "cell_type": "markdown",
   "id": "14d37771",
   "metadata": {},
   "source": [
    "## Parsing date and time from different formats into pythons datetime objects\n",
    "\n",
    "[`EPOCH`](https://en.wikipedia.org/wiki/Epoch_(computing)) - \"the beginning of time in computer\". It's based on the operating system, for example for linux/unix/MacOS EPOCH is defined as 01.01.1970. For Windows it's 01.01.1601 (it also depends on the Windows version).\n",
    "\n",
    "For conversion of the current datetime and for testing we can use https://www.epochconverter.com/\n",
    "\n",
    "`1680024312` - Tuesday, March 28, 2023 7:25:12 PM GMT+02:00 DST.\n",
    "\n",
    "`1680024312` - it's an integer, in decimal system that represents the number of seconds from 01.01.1970 (EPOCH) till a certain date."
   ]
  },
  {
   "cell_type": "code",
   "execution_count": 52,
   "id": "44527cb5",
   "metadata": {},
   "outputs": [
    {
     "data": {
      "text/plain": [
       "datetime.datetime(2023, 3, 28, 19, 25, 12)"
      ]
     },
     "execution_count": 52,
     "metadata": {},
     "output_type": "execute_result"
    }
   ],
   "source": [
    "# from timestamp to datetime\n",
    "my_datetime = datetime.datetime.fromtimestamp(1680024312)\n",
    "my_datetime"
   ]
  },
  {
   "cell_type": "code",
   "execution_count": 55,
   "id": "77ad2026",
   "metadata": {},
   "outputs": [
    {
     "data": {
      "text/plain": [
       "1680022780.0"
      ]
     },
     "execution_count": 55,
     "metadata": {},
     "output_type": "execute_result"
    }
   ],
   "source": [
    "# from datetime to timestamp\n",
    "my_datetime = datetime.datetime(year=2023, month=3, day=28, hour=18, minute=59, second=40)\n",
    "my_datetime.timestamp()"
   ]
  },
  {
   "cell_type": "markdown",
   "id": "06186963",
   "metadata": {},
   "source": [
    "We have a standard called [ISO 8601](https://en.wikipedia.org/wiki/ISO_8601) that defines how we can write datetime strings, intervals, etc."
   ]
  },
  {
   "cell_type": "code",
   "execution_count": 57,
   "id": "be8f48b8",
   "metadata": {},
   "outputs": [
    {
     "data": {
      "text/plain": [
       "datetime.datetime(2023, 3, 28, 19, 35, 30)"
      ]
     },
     "execution_count": 57,
     "metadata": {},
     "output_type": "execute_result"
    }
   ],
   "source": [
    "my_datetime = datetime.datetime.fromisoformat('2023-03-28T19:35:30')\n",
    "my_datetime"
   ]
  },
  {
   "cell_type": "markdown",
   "id": "7633c26b",
   "metadata": {},
   "source": [
    "It's not always the case where we can work with ISO format or timestamp and sometimes we have a string with date and time that looks differently and we want to be able to convert this string to datetime object. \n",
    "\n",
    "We can do that using `strptime` function (string parse time)."
   ]
  },
  {
   "cell_type": "code",
   "execution_count": 59,
   "id": "cc25cde9",
   "metadata": {},
   "outputs": [
    {
     "data": {
      "text/plain": [
       "datetime.datetime(2023, 3, 28, 19, 37, 36)"
      ]
     },
     "execution_count": 59,
     "metadata": {},
     "output_type": "execute_result"
    }
   ],
   "source": [
    "# convert string with custom datetime format into a pythons datetime object\n",
    "my_datetime = datetime.datetime.strptime('28.03.2023 19:37:36', '%d.%m.%Y %H:%M:%S')\n",
    "my_datetime"
   ]
  },
  {
   "cell_type": "markdown",
   "id": "fa7b6a29",
   "metadata": {},
   "source": [
    "The buildin support for dates and times in python is quite extensive but we can make our lives easier with using external library (which we have to install) called `python-dateutil`. \n",
    "\n",
    "Link to PyPI: https://pypi.org/project/python-dateutil/\n",
    "\n",
    "`python-dateutil` documentation: https://dateutil.readthedocs.io/en/stable/\n",
    "\n",
    "To install this library we have to invoke `pip install python-util`:"
   ]
  },
  {
   "cell_type": "code",
   "execution_count": 60,
   "id": "d93a9c8f",
   "metadata": {},
   "outputs": [
    {
     "name": "stdout",
     "output_type": "stream",
     "text": [
      "Requirement already satisfied: python-dateutil in /opt/anaconda3/lib/python3.9/site-packages (2.8.2)\r\n",
      "Requirement already satisfied: six>=1.5 in /opt/anaconda3/lib/python3.9/site-packages (from python-dateutil) (1.16.0)\r\n"
     ]
    }
   ],
   "source": [
    "!pip install python-dateutil"
   ]
  },
  {
   "cell_type": "code",
   "execution_count": 61,
   "id": "1371db83",
   "metadata": {},
   "outputs": [],
   "source": [
    "import dateutil.parser"
   ]
  },
  {
   "cell_type": "markdown",
   "id": "7e193979",
   "metadata": {},
   "source": [
    "With dateutil parser I can parse different string. This library will try to guess parts of the string and convert it properly. In most cases it will succed but sometimes it may make a mistake. "
   ]
  },
  {
   "cell_type": "code",
   "execution_count": 63,
   "id": "f9fb413b",
   "metadata": {},
   "outputs": [
    {
     "data": {
      "text/plain": [
       "(2023, 5, 3)"
      ]
     },
     "execution_count": 63,
     "metadata": {},
     "output_type": "execute_result"
    }
   ],
   "source": [
    "my_datetime = dateutil.parser.parse('05.03.2023 19:45:23')\n",
    "my_datetime.year, my_datetime.month, my_datetime.day"
   ]
  },
  {
   "cell_type": "code",
   "execution_count": 65,
   "id": "b07db030",
   "metadata": {},
   "outputs": [
    {
     "data": {
      "text/plain": [
       "(2023, 3, 5)"
      ]
     },
     "execution_count": 65,
     "metadata": {},
     "output_type": "execute_result"
    }
   ],
   "source": [
    "my_datetime = dateutil.parser.parse('05.03.2023 19:45:23', dayfirst=True)\n",
    "my_datetime.year, my_datetime.month, my_datetime.day"
   ]
  },
  {
   "cell_type": "code",
   "execution_count": 64,
   "id": "209a6a83",
   "metadata": {},
   "outputs": [
    {
     "data": {
      "text/plain": [
       "(2023, 3, 28)"
      ]
     },
     "execution_count": 64,
     "metadata": {},
     "output_type": "execute_result"
    }
   ],
   "source": [
    "my_datetime = dateutil.parser.parse('28.03.2023 19:45:23')\n",
    "my_datetime.year, my_datetime.month, my_datetime.day"
   ]
  },
  {
   "cell_type": "markdown",
   "id": "622623ca",
   "metadata": {},
   "source": [
    "In python we can do a basic on datetime objects."
   ]
  },
  {
   "cell_type": "code",
   "execution_count": 67,
   "id": "2f1368fe",
   "metadata": {},
   "outputs": [
    {
     "data": {
      "text/plain": [
       "(datetime.datetime(2023, 3, 28, 19, 51, 39, 45456),\n",
       " datetime.datetime(2020, 6, 5, 13, 9, 24))"
      ]
     },
     "execution_count": 67,
     "metadata": {},
     "output_type": "execute_result"
    }
   ],
   "source": [
    "dt1 = datetime.datetime.now()\n",
    "dt2 = dateutil.parser.parse('2020-06-05T13:09:24')\n",
    "dt1, dt2"
   ]
  },
  {
   "cell_type": "markdown",
   "id": "5aeaa194",
   "metadata": {},
   "source": [
    "If we add (`+`) or substract (`-`) two dates we are getting as a result a new `timedelta` object that will represent the time difference (hence `delta`) between those two dates."
   ]
  },
  {
   "cell_type": "markdown",
   "id": "3bd734e4",
   "metadata": {},
   "source": [
    "td = dt1 - dt2\n",
    "td"
   ]
  },
  {
   "cell_type": "code",
   "execution_count": 72,
   "id": "9c9d8e8f",
   "metadata": {},
   "outputs": [
    {
     "data": {
      "text/plain": [
       "(1026, 24135, 45456)"
      ]
     },
     "execution_count": 72,
     "metadata": {},
     "output_type": "execute_result"
    }
   ],
   "source": [
    "td.days, td.seconds, td.microseconds"
   ]
  },
  {
   "cell_type": "markdown",
   "id": "ac9f7144",
   "metadata": {},
   "source": [
    "With standard python approach we will have some issues when we would like to calculate the number of years/months/days, etc. between two datetime objects. In particular when we are dealing with [leap years](https://www.timeanddate.com/date/leapyear.html). To make that simpler we can use `dateutil` library and its `relativedelta` objects.\n",
    "\n",
    "We can provide two pythons datetime objects and getting relative delta between them. \n",
    "\n",
    "Now we have much more information about the difference between those two dates. This approach handles for us all the quirks of leap years, etc. "
   ]
  },
  {
   "cell_type": "code",
   "execution_count": 73,
   "id": "32268dc3",
   "metadata": {},
   "outputs": [
    {
     "data": {
      "text/plain": [
       "relativedelta(years=+2, months=+9, days=+23, hours=+6, minutes=+42, seconds=+15, microseconds=+45456)"
      ]
     },
     "execution_count": 73,
     "metadata": {},
     "output_type": "execute_result"
    }
   ],
   "source": [
    "from dateutil.relativedelta import relativedelta\n",
    "\n",
    "delta = relativedelta(dt1, dt2)\n",
    "delta"
   ]
  },
  {
   "cell_type": "code",
   "execution_count": 74,
   "id": "3f339b7e",
   "metadata": {},
   "outputs": [
    {
     "data": {
      "text/plain": [
       "(2, 9, 23)"
      ]
     },
     "execution_count": 74,
     "metadata": {},
     "output_type": "execute_result"
    }
   ],
   "source": [
    "delta.years, delta.months, delta.days"
   ]
  },
  {
   "cell_type": "markdown",
   "id": "2efa01fc",
   "metadata": {},
   "source": [
    "On one hand `relativedelta` works great with two dates and gives us more information about the difference between them. But we can use `relativedelta` to calculate new dates based on the certain date and the delta we want to add or substract. For example I'd like to now what is a date of the next Tuesday."
   ]
  },
  {
   "cell_type": "code",
   "execution_count": 75,
   "id": "77ecd8d8",
   "metadata": {},
   "outputs": [
    {
     "data": {
      "text/plain": [
       "datetime.datetime(2023, 3, 28, 20, 5, 28, 179465)"
      ]
     },
     "execution_count": 75,
     "metadata": {},
     "output_type": "execute_result"
    }
   ],
   "source": [
    "# in plain words I'd like to add 7 days to the current date.\n",
    "dt_now = datetime.datetime.now()\n",
    "dt_now"
   ]
  },
  {
   "cell_type": "code",
   "execution_count": 76,
   "id": "86616f4f",
   "metadata": {},
   "outputs": [
    {
     "data": {
      "text/plain": [
       "datetime.datetime(2023, 4, 4, 20, 5, 28, 179465)"
      ]
     },
     "execution_count": 76,
     "metadata": {},
     "output_type": "execute_result"
    }
   ],
   "source": [
    "# to the current datetime I'm adding new relativedelta object\n",
    "dt_now + relativedelta(days=7)"
   ]
  },
  {
   "cell_type": "code",
   "execution_count": 78,
   "id": "7e72b800",
   "metadata": {},
   "outputs": [
    {
     "data": {
      "text/plain": [
       "datetime.datetime(2024, 6, 4, 20, 5, 28, 179465)"
      ]
     },
     "execution_count": 78,
     "metadata": {},
     "output_type": "execute_result"
    }
   ],
   "source": [
    "dt_now + relativedelta(years=1, months=2, days=7)"
   ]
  },
  {
   "cell_type": "code",
   "execution_count": 79,
   "id": "0bd6a72f",
   "metadata": {},
   "outputs": [
    {
     "data": {
      "text/plain": [
       "datetime.datetime(2023, 3, 21, 20, 5, 28, 179465)"
      ]
     },
     "execution_count": 79,
     "metadata": {},
     "output_type": "execute_result"
    }
   ],
   "source": [
    "dt_now - relativedelta(days=7)"
   ]
  },
  {
   "cell_type": "markdown",
   "id": "c407950c",
   "metadata": {},
   "source": [
    "With `relativedelta` we have two types of arguments that represent slightly different effect, for example:\n",
    "- `days=7` - duration is 7 days, that we can add or substract from a datetime object, and we have similar arguments for: `years`, `months`, `days`, `hours`, `minutes`, `seconds`\n",
    "- `day=7` - is sets a day to be fixed at 7th of the month, similar arguments for: `year`, `month`, `day`, `hour`, `minute`, `second`."
   ]
  },
  {
   "cell_type": "code",
   "execution_count": 81,
   "id": "9cacb56a",
   "metadata": {},
   "outputs": [
    {
     "data": {
      "text/plain": [
       "datetime.datetime(2023, 3, 7, 20, 5, 28, 179465)"
      ]
     },
     "execution_count": 81,
     "metadata": {},
     "output_type": "execute_result"
    }
   ],
   "source": [
    "dt_now + relativedelta(day=7)"
   ]
  },
  {
   "cell_type": "markdown",
   "id": "9c09f5a1",
   "metadata": {},
   "source": [
    "This approach can be used to calculate some interesting dates without a problem:"
   ]
  },
  {
   "cell_type": "code",
   "execution_count": 83,
   "id": "20d188fe",
   "metadata": {},
   "outputs": [
    {
     "data": {
      "text/plain": [
       "datetime.datetime(2023, 3, 31, 20, 5, 28, 179465)"
      ]
     },
     "execution_count": 83,
     "metadata": {},
     "output_type": "execute_result"
    }
   ],
   "source": [
    "# last day of the current month (March)\n",
    "dt_now + relativedelta(day=31)"
   ]
  },
  {
   "cell_type": "code",
   "execution_count": 85,
   "id": "b08553b9",
   "metadata": {},
   "outputs": [
    {
     "data": {
      "text/plain": [
       "datetime.datetime(2023, 4, 30, 20, 5, 28, 179465)"
      ]
     },
     "execution_count": 85,
     "metadata": {},
     "output_type": "execute_result"
    }
   ],
   "source": [
    "# last day of the next month (April)\n",
    "dt_now + relativedelta(months=1, day=31)"
   ]
  },
  {
   "cell_type": "code",
   "execution_count": 89,
   "id": "88acae91",
   "metadata": {},
   "outputs": [
    {
     "data": {
      "text/plain": [
       "datetime.datetime(2023, 2, 28, 20, 5, 28, 179465)"
      ]
     },
     "execution_count": 89,
     "metadata": {},
     "output_type": "execute_result"
    }
   ],
   "source": [
    "# last day of the previous month (February)\n",
    "dt_now + relativedelta(months=-1, day=31)"
   ]
  },
  {
   "cell_type": "code",
   "execution_count": 88,
   "id": "9e579503",
   "metadata": {},
   "outputs": [
    {
     "data": {
      "text/plain": [
       "datetime.datetime(2023, 4, 1, 20, 5, 28, 179465)"
      ]
     },
     "execution_count": 88,
     "metadata": {},
     "output_type": "execute_result"
    }
   ],
   "source": [
    "# first day of next month\n",
    "dt_now + relativedelta(months=1, day=1)"
   ]
  }
 ],
 "metadata": {
  "kernelspec": {
   "display_name": "Python 3.9.7 64-bit ('base': conda)",
   "language": "python",
   "name": "python397jvsc74a57bd040d3a090f54c6569ab1632332b64b2c03c39dcf918b08424e98f38b5ae0af88f"
  },
  "language_info": {
   "codemirror_mode": {
    "name": "ipython",
    "version": 3
   },
   "file_extension": ".py",
   "mimetype": "text/x-python",
   "name": "python",
   "nbconvert_exporter": "python",
   "pygments_lexer": "ipython3",
   "version": "3.9.7"
  }
 },
 "nbformat": 4,
 "nbformat_minor": 5
}
