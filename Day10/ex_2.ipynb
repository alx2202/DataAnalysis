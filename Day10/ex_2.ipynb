{
 "cells": [
  {
   "cell_type": "markdown",
   "id": "2c44ff9d",
   "metadata": {},
   "source": [
    "# Exercise 2\n",
    "\n",
    "I want to see a list of all football matches between two polish teams.\n",
    "\n",
    "Data source: https://github.com/alx2202/DataAnalysis/raw/main/Day10/matches.csv"
   ]
  },
  {
   "cell_type": "code",
   "execution_count": null,
   "id": "f6395f2a",
   "metadata": {},
   "outputs": [],
   "source": []
  }
 ],
 "metadata": {
  "kernelspec": {
   "display_name": "Python 3.9.7 64-bit ('base': conda)",
   "language": "python",
   "name": "python397jvsc74a57bd040d3a090f54c6569ab1632332b64b2c03c39dcf918b08424e98f38b5ae0af88f"
  },
  "language_info": {
   "codemirror_mode": {
    "name": "ipython",
    "version": 3
   },
   "file_extension": ".py",
   "mimetype": "text/x-python",
   "name": "python",
   "nbconvert_exporter": "python",
   "pygments_lexer": "ipython3",
   "version": "3.9.7"
  }
 },
 "nbformat": 4,
 "nbformat_minor": 5
}
