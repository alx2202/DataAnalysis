{
 "cells": [
  {
   "cell_type": "markdown",
   "id": "7278f85e",
   "metadata": {},
   "source": [
    "# Lambda functions\n",
    "\n",
    "- function expression used as data\n",
    "- https://realpython.com/python-lambda/\n",
    "\n",
    "Standard function:\n",
    "\n",
    "```\n",
    "def MY_FUN(ARGUMENT_1):\n",
    "    return EXPRESSION\n",
    "```\n",
    "\n",
    "Lambda function:\n",
    "\n",
    "```\n",
    "MY_FUN = lambda ARGUMENT_1: EXPRESSION\n",
    "```"
   ]
  },
  {
   "cell_type": "code",
   "execution_count": 1,
   "id": "144eaca1",
   "metadata": {},
   "outputs": [
    {
     "data": {
      "text/plain": [
       "9"
      ]
     },
     "execution_count": 1,
     "metadata": {},
     "output_type": "execute_result"
    }
   ],
   "source": [
    "def square(number):\n",
    "    return number ** 2\n",
    "\n",
    "square(3)"
   ]
  },
  {
   "cell_type": "code",
   "execution_count": 2,
   "id": "9b6dee64",
   "metadata": {},
   "outputs": [
    {
     "data": {
      "text/plain": [
       "9"
      ]
     },
     "execution_count": 2,
     "metadata": {},
     "output_type": "execute_result"
    }
   ],
   "source": [
    "# the same function but now with lambda functions\n",
    "square = lambda number: number ** 2\n",
    "square(3)"
   ]
  },
  {
   "cell_type": "code",
   "execution_count": 4,
   "id": "dc5990d6",
   "metadata": {},
   "outputs": [
    {
     "data": {
      "text/plain": [
       "30"
      ]
     },
     "execution_count": 4,
     "metadata": {},
     "output_type": "execute_result"
    }
   ],
   "source": [
    "def two_number_addition(a, b):\n",
    "    return a + b\n",
    "\n",
    "two_number_addition(10, 20)"
   ]
  },
  {
   "cell_type": "code",
   "execution_count": 5,
   "id": "7f1ab497",
   "metadata": {},
   "outputs": [
    {
     "data": {
      "text/plain": [
       "30"
      ]
     },
     "execution_count": 5,
     "metadata": {},
     "output_type": "execute_result"
    }
   ],
   "source": [
    "two_number_addition = lambda a, b: a + b\n",
    "two_number_addition(10, 20)"
   ]
  },
  {
   "cell_type": "markdown",
   "id": "a8583079",
   "metadata": {},
   "source": [
    "## How can I use lambda functions?\n"
   ]
  },
  {
   "cell_type": "code",
   "execution_count": 6,
   "id": "8916a1d2",
   "metadata": {},
   "outputs": [
    {
     "data": {
      "text/plain": [
       "[10.0, 20.0, 30.0, 40.0, 50.0]"
      ]
     },
     "execution_count": 6,
     "metadata": {},
     "output_type": "execute_result"
    }
   ],
   "source": [
    "my_numbers = [100, 200, 300, 400, 500]\n",
    "\n",
    "# I want to have a new list of numbers based on my_numbers but each number should be divided by 10\n",
    "new_numbers = []\n",
    "for number in my_numbers:\n",
    "    new_numbers.append(number / 10)\n",
    "new_numbers"
   ]
  },
  {
   "cell_type": "markdown",
   "id": "b1d511c1",
   "metadata": {},
   "source": [
    "`map()` is returning an iterator objects, that we can iterate through using for loop or convert to a list. \n",
    "How `map()` really works? Map is taking each and every element from the iterable (`my_numbers`), then executes lambda function with this element as an argument and gives back the result."
   ]
  },
  {
   "cell_type": "code",
   "execution_count": 7,
   "id": "1015db2b",
   "metadata": {},
   "outputs": [
    {
     "data": {
      "text/plain": [
       "<map at 0x7f8a7119af70>"
      ]
     },
     "execution_count": 7,
     "metadata": {},
     "output_type": "execute_result"
    }
   ],
   "source": [
    "map(lambda number: number / 10, my_numbers)"
   ]
  },
  {
   "cell_type": "code",
   "execution_count": 9,
   "id": "883b8837",
   "metadata": {},
   "outputs": [
    {
     "name": "stdout",
     "output_type": "stream",
     "text": [
      "10.0\n",
      "20.0\n",
      "30.0\n",
      "40.0\n",
      "50.0\n"
     ]
    }
   ],
   "source": [
    "for x in map(lambda number: number / 10, my_numbers):\n",
    "    print(x)"
   ]
  },
  {
   "cell_type": "code",
   "execution_count": 11,
   "id": "8ca6dac8",
   "metadata": {},
   "outputs": [
    {
     "data": {
      "text/plain": [
       "[10.0, 20.0, 30.0, 40.0, 50.0]"
      ]
     },
     "execution_count": 11,
     "metadata": {},
     "output_type": "execute_result"
    }
   ],
   "source": [
    "list(map(lambda number: number / 10, my_numbers))  # I can easily convert iterator object into a list"
   ]
  },
  {
   "cell_type": "code",
   "execution_count": 18,
   "id": "4cb4a289",
   "metadata": {},
   "outputs": [
    {
     "data": {
      "text/plain": [
       "['110', '220', 33, 44, 55]"
      ]
     },
     "execution_count": 18,
     "metadata": {},
     "output_type": "execute_result"
    }
   ],
   "source": [
    "my_list_1 = ['1', '2', 3, 4, 5]\n",
    "my_list_2 = ['10', '20', 30, 40, 50]\n",
    "list( map(lambda num_1, num_2: num_1 + num_2, my_list_1, my_list_2) )  # I can provide more than 1 iterable "
   ]
  },
  {
   "cell_type": "markdown",
   "id": "9837a402",
   "metadata": {},
   "source": [
    "[`filter()`](https://docs.python.org/3/library/functions.html#filter) works in the similar way as `map()` but filters the elements from the original iterable, only those elements for which lambda function will return `True` will be emitted to the output."
   ]
  },
  {
   "cell_type": "code",
   "execution_count": 14,
   "id": "58db2b4e",
   "metadata": {},
   "outputs": [
    {
     "data": {
      "text/plain": [
       "[10, 2, 15, 6]"
      ]
     },
     "execution_count": 14,
     "metadata": {},
     "output_type": "execute_result"
    }
   ],
   "source": [
    "my_list = [-5, 10, -10, 2, 15, -8, 6]\n",
    "\n",
    "# I want to have only positive numbers\n",
    "# without filter() \n",
    "new_list = []\n",
    "for number in my_list:\n",
    "    if number > 0:\n",
    "        new_list.append(number)\n",
    "new_list"
   ]
  },
  {
   "cell_type": "code",
   "execution_count": 19,
   "id": "56e12efb",
   "metadata": {},
   "outputs": [
    {
     "data": {
      "text/plain": [
       "[10, 2, 15, 6]"
      ]
     },
     "execution_count": 19,
     "metadata": {},
     "output_type": "execute_result"
    }
   ],
   "source": [
    "# with filter\n",
    "list(filter(lambda number: number > 0, my_list))"
   ]
  },
  {
   "cell_type": "markdown",
   "id": "a121d27b",
   "metadata": {},
   "source": [
    "[`zip()`](https://docs.python.org/3/library/functions.html#zip) function takes several iterables (as many as we want) and combines them together (returns iterator of tuples). It's a good approach because this functions returns an iterator and calculates all the elements when we need them. In this example I'm converting the whole iterator to a new list but instead (to save memory) I can iterate through them using a for loop."
   ]
  },
  {
   "cell_type": "code",
   "execution_count": 26,
   "id": "b3264395",
   "metadata": {},
   "outputs": [
    {
     "data": {
      "text/plain": [
       "[(1, 10, 100), (2, 20, 200), (3, 30, 300)]"
      ]
     },
     "execution_count": 26,
     "metadata": {},
     "output_type": "execute_result"
    }
   ],
   "source": [
    "my_list_1 = [1, 2, 3, 4, 5]\n",
    "my_list_2 = [10, 20, 30, 40, 50]\n",
    "my_list_3 = [100, 200, 300, 400, 500]\n",
    "\n",
    "new_list = list(zip(my_list_1, my_list_2, my_list_3))\n",
    "new_list"
   ]
  },
  {
   "cell_type": "markdown",
   "id": "99816819",
   "metadata": {},
   "source": [
    "here I'm saving memory because I'm not creating a full list at once, just going through an iterator object that emits\n",
    "those elements one by one.\n",
    "\n",
    "```\n",
    "Python docs:\n",
    "zip() is lazy: The elements won’t be processed until the iterable is iterated on, e.g. by a for loop or by wrapping in a list.\n",
    "```"
   ]
  },
  {
   "cell_type": "code",
   "execution_count": 27,
   "id": "fd7467f7",
   "metadata": {},
   "outputs": [
    {
     "name": "stdout",
     "output_type": "stream",
     "text": [
      "1 10 100\n",
      "2 20 200\n",
      "3 30 300\n"
     ]
    }
   ],
   "source": [
    "for num_1, num_2, num_3 in zip(my_list_1, my_list_2, my_list_3):\n",
    "    print(num_1, num_2, num_3)"
   ]
  },
  {
   "cell_type": "code",
   "execution_count": 29,
   "id": "a7694ce8",
   "metadata": {},
   "outputs": [
    {
     "data": {
      "text/plain": [
       "[(1, 10, 100), (2, 20, 200), (3, 30, 300)]"
      ]
     },
     "execution_count": 29,
     "metadata": {},
     "output_type": "execute_result"
    }
   ],
   "source": [
    "my_list_1 = [1, 2, 3, 4, 5]\n",
    "my_list_2 = [10, 20, 30, 40, 50]\n",
    "my_list_3 = [100, 200, 300]  # this one is shorter!!!\n",
    "\n",
    "new_list = list(zip(my_list_1, my_list_2, my_list_3))\n",
    "new_list"
   ]
  }
 ],
 "metadata": {
  "kernelspec": {
   "display_name": "Python 3.9.7 64-bit ('base': conda)",
   "language": "python",
   "name": "python397jvsc74a57bd040d3a090f54c6569ab1632332b64b2c03c39dcf918b08424e98f38b5ae0af88f"
  },
  "language_info": {
   "codemirror_mode": {
    "name": "ipython",
    "version": 3
   },
   "file_extension": ".py",
   "mimetype": "text/x-python",
   "name": "python",
   "nbconvert_exporter": "python",
   "pygments_lexer": "ipython3",
   "version": "3.9.7"
  }
 },
 "nbformat": 4,
 "nbformat_minor": 5
}
