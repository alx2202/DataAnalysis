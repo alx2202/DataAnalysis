{
 "cells": [
  {
   "cell_type": "markdown",
   "id": "4fc4cbdf",
   "metadata": {},
   "source": [
    "# Ex 1\n",
    "\n",
    "Write a program that calculates the average temperature\n",
    "for a given week based on temperatures entered by the user.\n",
    "\n",
    "```\n",
    "average = sum of temperatures / 7\n",
    "\n",
    "before while loop:\n",
    "    define 2 variables:\n",
    "        - storing current day number, for which we are getting data, start with 1\n",
    "        - temperature sum variable, start with 0\n",
    "while:\n",
    "    condition: day number should less than or equal to 7\n",
    "    body of the while loop:\n",
    "        - get the temp from the user and convert to int and add (+=) to temperature sum variable\n",
    "        - increase the day number by one\n",
    "\n",
    "after while loop:\n",
    "    - calculate average: sum of temperature sum variable / 7\n",
    "    - print the result\n",
    "```"
   ]
  },
  {
   "cell_type": "code",
   "execution_count": 2,
   "id": "9f25dade",
   "metadata": {},
   "outputs": [
    {
     "name": "stdout",
     "output_type": "stream",
     "text": [
      "Provide temperature for day 1: 2\n",
      "Provide temperature for day 2: 3\n",
      "Provide temperature for day 3: 4\n",
      "Provide temperature for day 4: 5\n",
      "Provide temperature for day 5: 6\n",
      "Provide temperature for day 6: 7\n",
      "Provide temperature for day 7: 8\n",
      "Average temperature for this week is 5.0\n"
     ]
    }
   ],
   "source": [
    "day_number = 1\n",
    "temperature_sum = 0\n",
    "\n",
    "while day_number <= 7:\n",
    "    temperature_sum += int(input(f'Provide temperature for day {day_number}: '))\n",
    "    day_number += 1\n",
    "\n",
    "average = temperature_sum / 7\n",
    "print(f'Average temperature for this week is {average}')"
   ]
  },
  {
   "cell_type": "code",
   "execution_count": null,
   "id": "58a1b7cb",
   "metadata": {},
   "outputs": [],
   "source": []
  }
 ],
 "metadata": {
  "kernelspec": {
   "display_name": "Python 3.9.7 64-bit ('base': conda)",
   "language": "python",
   "name": "python397jvsc74a57bd040d3a090f54c6569ab1632332b64b2c03c39dcf918b08424e98f38b5ae0af88f"
  },
  "language_info": {
   "codemirror_mode": {
    "name": "ipython",
    "version": 3
   },
   "file_extension": ".py",
   "mimetype": "text/x-python",
   "name": "python",
   "nbconvert_exporter": "python",
   "pygments_lexer": "ipython3",
   "version": "3.9.7"
  }
 },
 "nbformat": 4,
 "nbformat_minor": 5
}
