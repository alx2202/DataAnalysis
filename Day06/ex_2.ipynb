{
 "cells": [
  {
   "cell_type": "markdown",
   "id": "ff498527",
   "metadata": {},
   "source": [
    "# Ex 2\n",
    "\n",
    "Create a tuple containing 10 different integers. Using the access and slicing operator, get:\n",
    "\n",
    "- second element (20)\n",
    "- next to last item (90)\n",
    "- items three to seven (inclusive) (30, 40, 50, 60, 70)\n",
    "- every third element (10, 40, 70, 100)\n",
    "- every second element counting from the end (100, 80, 60, 40, 20)"
   ]
  },
  {
   "cell_type": "code",
   "execution_count": 1,
   "id": "8d810a9f",
   "metadata": {},
   "outputs": [],
   "source": [
    "#    0   1   2   3   4   5   6   7   8   9 -> keys/indexes\n",
    "x = (10, 20, 30, 40, 50, 60, 70, 80, 90, 100)\n",
    "#    1   2   3   4   5   6   7   8   9   10 -> which elements\n",
    "#   -10  -9  -8  -7  -6  -5  -4  -3  -2  -1 -> negative indexes"
   ]
  },
  {
   "cell_type": "code",
   "execution_count": null,
   "id": "19193a44",
   "metadata": {},
   "outputs": [],
   "source": []
  }
 ],
 "metadata": {
  "kernelspec": {
   "display_name": "Python 3.9.7 64-bit ('base': conda)",
   "language": "python",
   "name": "python397jvsc74a57bd040d3a090f54c6569ab1632332b64b2c03c39dcf918b08424e98f38b5ae0af88f"
  },
  "language_info": {
   "codemirror_mode": {
    "name": "ipython",
    "version": 3
   },
   "file_extension": ".py",
   "mimetype": "text/x-python",
   "name": "python",
   "nbconvert_exporter": "python",
   "pygments_lexer": "ipython3",
   "version": "3.9.7"
  }
 },
 "nbformat": 4,
 "nbformat_minor": 5
}
