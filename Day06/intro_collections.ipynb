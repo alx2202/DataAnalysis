{
 "cells": [
  {
   "cell_type": "markdown",
   "id": "dd9fc851",
   "metadata": {},
   "source": [
    "# Collections"
   ]
  },
  {
   "cell_type": "markdown",
   "id": "1bec9974",
   "metadata": {},
   "source": [
    "## While loop\n",
    "\n",
    "```\n",
    "while CONDITION:\n",
    "\toperation1\n",
    "\toperation2\n",
    "\t...\n",
    "```"
   ]
  },
  {
   "cell_type": "code",
   "execution_count": 63,
   "id": "be8a66a9",
   "metadata": {},
   "outputs": [
    {
     "name": "stdout",
     "output_type": "stream",
     "text": [
      "0\n",
      "1\n",
      "2\n",
      "3\n",
      "4\n",
      "5\n",
      "6\n",
      "7\n",
      "8\n",
      "9\n",
      "After while loop\n"
     ]
    }
   ],
   "source": [
    "counter = 0\n",
    "while counter < 10:\n",
    "    print(counter)\n",
    "    counter += 1  # counter = counter + 1\n",
    "    \n",
    "print('After while loop')"
   ]
  },
  {
   "cell_type": "code",
   "execution_count": 64,
   "id": "cca4e0cc",
   "metadata": {},
   "outputs": [],
   "source": [
    "# infinite loop example\n",
    "# counter = 0\n",
    "# while counter < 10:\n",
    "#     print(counter)"
   ]
  },
  {
   "cell_type": "markdown",
   "id": "9a227331",
   "metadata": {},
   "source": [
    "## Tuple\n",
    "- defined as ( ,)\n",
    "- we can’t change a tuple contents after creation\n",
    "- it’s immutable\n",
    "- data within the tuple is ordered in the order of adding elements to the tuple\n",
    "- assignment operator (=) will not work with tuple, we will get TypeError\n",
    "- we use tuple to store heterogeneous data, data with different meaning, like a row from the excel table\n",
    "- https://realpython.com/python-lists-tuples/ \n",
    "- https://stackoverflow.com/questions/626759/whats-the-difference-between-lists-and-tuples "
   ]
  },
  {
   "cell_type": "code",
   "execution_count": 65,
   "id": "4db6b5a2",
   "metadata": {},
   "outputs": [
    {
     "name": "stdout",
     "output_type": "stream",
     "text": [
      "('Piotr', 'GG', 182, 46.5, True)\n",
      "GG\n",
      "True\n"
     ]
    }
   ],
   "source": [
    "# index     0        1     2    3     4\n",
    "my_tuple = ('Piotr', 'GG', 182, 46.5, True)\n",
    "print(my_tuple)\n",
    "print(my_tuple[1])\n",
    "print(my_tuple[4])"
   ]
  },
  {
   "cell_type": "code",
   "execution_count": 66,
   "id": "053dea77",
   "metadata": {},
   "outputs": [
    {
     "name": "stdout",
     "output_type": "stream",
     "text": [
      "((1, 2), ('a', 'b', 'c'), (True, False))\n",
      "b\n"
     ]
    }
   ],
   "source": [
    "#           0       1                2\n",
    "#            0  1    0    1    2      0     1\n",
    "my_tuple = ((1, 2), ('a', 'b', 'c'), (True, False))\n",
    "print(my_tuple)\n",
    "print(my_tuple[1][1])"
   ]
  },
  {
   "cell_type": "code",
   "execution_count": 67,
   "id": "e9fb16c8",
   "metadata": {},
   "outputs": [
    {
     "name": "stdout",
     "output_type": "stream",
     "text": [
      "b\n"
     ]
    }
   ],
   "source": [
    "my_tuple = (((('b'),),),)\n",
    "print(my_tuple[0][0][0])"
   ]
  },
  {
   "cell_type": "code",
   "execution_count": 68,
   "id": "7a2a6e0c",
   "metadata": {},
   "outputs": [],
   "source": [
    "# index     0    1    2    3    4    5    6    7    8    9\n",
    "my_tuple = ('a', 'b', 'c', 'd', 'e', 'f', 'g', 'h', 'i', 'j')\n",
    "# -index    -10  -9   -8   -7   -6   -5   -4   -3   -2   -1"
   ]
  },
  {
   "cell_type": "code",
   "execution_count": 69,
   "id": "358c8906",
   "metadata": {},
   "outputs": [
    {
     "name": "stdout",
     "output_type": "stream",
     "text": [
      "('a', 'b', 'c', 'd', 'e', 'f', 'g', 'h', 'i', 'j')\n"
     ]
    }
   ],
   "source": [
    "print(my_tuple)"
   ]
  },
  {
   "cell_type": "code",
   "execution_count": 70,
   "id": "1ca4b984",
   "metadata": {},
   "outputs": [
    {
     "name": "stdout",
     "output_type": "stream",
     "text": [
      "a\n"
     ]
    }
   ],
   "source": [
    "print(my_tuple[0])"
   ]
  },
  {
   "cell_type": "code",
   "execution_count": 71,
   "id": "a0a22425",
   "metadata": {},
   "outputs": [
    {
     "name": "stdout",
     "output_type": "stream",
     "text": [
      "('a', 'b', 'c')\n"
     ]
    }
   ],
   "source": [
    "print(my_tuple[0:3])  # 0:3 - left-closed, right-opened, right is not included"
   ]
  },
  {
   "cell_type": "code",
   "execution_count": 72,
   "id": "27dda7e0",
   "metadata": {},
   "outputs": [
    {
     "name": "stdout",
     "output_type": "stream",
     "text": [
      "('d', 'e', 'f', 'g')\n"
     ]
    }
   ],
   "source": [
    "print(my_tuple[3:7])"
   ]
  },
  {
   "cell_type": "code",
   "execution_count": 73,
   "id": "2917e7de",
   "metadata": {},
   "outputs": [
    {
     "name": "stdout",
     "output_type": "stream",
     "text": [
      "('f', 'g', 'h', 'i', 'j')\n"
     ]
    }
   ],
   "source": [
    "print(my_tuple[5:])  # from 5 till the end, we can skip end"
   ]
  },
  {
   "cell_type": "code",
   "execution_count": 74,
   "id": "0f077eb4",
   "metadata": {},
   "outputs": [
    {
     "name": "stdout",
     "output_type": "stream",
     "text": [
      "('a', 'b', 'c', 'd')\n"
     ]
    }
   ],
   "source": [
    "print(my_tuple[:4])  # we can skip start"
   ]
  },
  {
   "cell_type": "code",
   "execution_count": 75,
   "id": "33a6f13e",
   "metadata": {},
   "outputs": [
    {
     "name": "stdout",
     "output_type": "stream",
     "text": [
      "j\n"
     ]
    }
   ],
   "source": [
    "print(my_tuple[-1])"
   ]
  },
  {
   "cell_type": "code",
   "execution_count": 76,
   "id": "3b120928",
   "metadata": {},
   "outputs": [
    {
     "name": "stdout",
     "output_type": "stream",
     "text": [
      "('d', 'e', 'f', 'g', 'h')\n"
     ]
    }
   ],
   "source": [
    "print(my_tuple[3:-2])"
   ]
  },
  {
   "cell_type": "code",
   "execution_count": 77,
   "id": "2f6310ac",
   "metadata": {},
   "outputs": [
    {
     "name": "stdout",
     "output_type": "stream",
     "text": [
      "('a', 'c', 'e', 'g', 'i')\n"
     ]
    }
   ],
   "source": [
    "# [start:end:step] - start, end, step can be skipped\n",
    "print(my_tuple[::2])"
   ]
  },
  {
   "cell_type": "code",
   "execution_count": 78,
   "id": "a9237974",
   "metadata": {},
   "outputs": [
    {
     "name": "stdout",
     "output_type": "stream",
     "text": [
      "('j', 'h', 'f', 'd', 'b')\n"
     ]
    }
   ],
   "source": [
    "print(my_tuple[::-2])"
   ]
  },
  {
   "cell_type": "code",
   "execution_count": 79,
   "id": "ad33f92f",
   "metadata": {},
   "outputs": [
    {
     "name": "stdout",
     "output_type": "stream",
     "text": [
      "('j', 'i', 'h', 'g', 'f', 'e', 'd', 'c', 'b', 'a')\n"
     ]
    }
   ],
   "source": [
    "print(my_tuple[::-1])"
   ]
  },
  {
   "cell_type": "markdown",
   "id": "5239922e",
   "metadata": {},
   "source": [
    "## Useful functions"
   ]
  },
  {
   "cell_type": "code",
   "execution_count": 80,
   "id": "f7dc38bb",
   "metadata": {},
   "outputs": [
    {
     "name": "stdout",
     "output_type": "stream",
     "text": [
      "10\n"
     ]
    }
   ],
   "source": [
    "print(len(my_tuple))  # will return the length of the collection, how many elements we have in a collection"
   ]
  },
  {
   "cell_type": "code",
   "execution_count": 81,
   "id": "6ee3b20c",
   "metadata": {},
   "outputs": [
    {
     "name": "stdout",
     "output_type": "stream",
     "text": [
      "True\n",
      "False\n",
      "True\n"
     ]
    }
   ],
   "source": [
    "# in operator - to check if particular value is present in the collection\n",
    "print('a' in my_tuple)\n",
    "print('q' in my_tuple) \n",
    "print('q' not in my_tuple)"
   ]
  },
  {
   "cell_type": "code",
   "execution_count": 82,
   "id": "899518b4",
   "metadata": {},
   "outputs": [
    {
     "name": "stdout",
     "output_type": "stream",
     "text": [
      "10\n",
      "50\n",
      "150\n"
     ]
    }
   ],
   "source": [
    "numbers = (10, 20, 30, 40, 50)\n",
    "print(min(numbers))\n",
    "print(max(numbers))\n",
    "print(sum(numbers))"
   ]
  },
  {
   "cell_type": "code",
   "execution_count": 83,
   "id": "42143f8f",
   "metadata": {},
   "outputs": [
    {
     "name": "stdout",
     "output_type": "stream",
     "text": [
      "2\n",
      "1\n"
     ]
    }
   ],
   "source": [
    "print(numbers.index(30))  # index from the collection of first occurence of this value\n",
    "print(numbers.count(40))  # counts how many times particular value exists in a collection"
   ]
  },
  {
   "cell_type": "markdown",
   "id": "59e3b2f9",
   "metadata": {},
   "source": [
    "## List\n",
    "\n",
    "- defined as `[ ]`\n",
    "- is mutable, we can add new elements to the list after its creation, change and delete existing ones\n",
    "- as tuple, it’s ordered\n",
    "- we use list to store homogeneous data, same type but different values, like consecutive readings of the temperature\n",
    "- access operator `[start:stop:step]` works exactly the same as with tuples"
   ]
  },
  {
   "cell_type": "code",
   "execution_count": 84,
   "id": "348c41e9",
   "metadata": {},
   "outputs": [
    {
     "name": "stdout",
     "output_type": "stream",
     "text": [
      "[10, 20, 30, 40, 50]\n"
     ]
    }
   ],
   "source": [
    "my_list = [10, 20, 30, 40, 50]\n",
    "print(my_list)"
   ]
  },
  {
   "cell_type": "code",
   "execution_count": 85,
   "id": "e105e103",
   "metadata": {},
   "outputs": [
    {
     "data": {
      "text/plain": [
       "[10, 20]"
      ]
     },
     "execution_count": 85,
     "metadata": {},
     "output_type": "execute_result"
    }
   ],
   "source": [
    "my_list[0:2]"
   ]
  },
  {
   "cell_type": "markdown",
   "id": "11c475b2",
   "metadata": {},
   "source": [
    "### How to modify a list?\n",
    "\n",
    "https://docs.python.org/3/tutorial/datastructures.html#more-on-lists"
   ]
  },
  {
   "cell_type": "code",
   "execution_count": 86,
   "id": "7109e595",
   "metadata": {},
   "outputs": [
    {
     "name": "stdout",
     "output_type": "stream",
     "text": [
      "[10, 20, 30, 40, 50, 60, 70, 80, 90, 100]\n",
      "[11, 20, 30, 40, 50, 60, 70, 80, 90, 100]\n"
     ]
    }
   ],
   "source": [
    "my_list = [10, 20, 30, 40, 50, 60, 70, 80, 90, 100]\n",
    "\n",
    "# [] - access operator can be used not only to access the data from a collection but also to change it\n",
    "print(my_list)\n",
    "my_list[0] = 11\n",
    "print(my_list)"
   ]
  },
  {
   "cell_type": "code",
   "execution_count": 87,
   "id": "d5a65613",
   "metadata": {},
   "outputs": [
    {
     "name": "stdout",
     "output_type": "stream",
     "text": [
      "[1, 2, 30, 40, 50, 60, 70, 80, 90, 100]\n",
      "[1, 2, 3, 30, 40, 50, 60, 70, 80, 90, 100]\n",
      "[1, 2, 3, 30, 40, 50, 60, 70, 80, 90, 100, 110]\n",
      "[1, 12, 2, 3, 30, 40, 50, 60, 70, 80, 90, 100, 110]\n"
     ]
    }
   ],
   "source": [
    "my_list[0:2] = [1, 2]\n",
    "print(my_list)\n",
    "\n",
    "my_list[0:2] = [1, 2, 3]\n",
    "print(my_list)\n",
    "\n",
    "my_list.append(110)\n",
    "print(my_list)\n",
    "\n",
    "my_list.insert(1, 12)  # .insert(index, value)\n",
    "print(my_list)"
   ]
  },
  {
   "cell_type": "code",
   "execution_count": 89,
   "id": "cec729c2",
   "metadata": {},
   "outputs": [
    {
     "name": "stdout",
     "output_type": "stream",
     "text": [
      "[1, 12, 2, 3, 30, 40, 50, 60, 70, 80, 90, 100, 110, 1000, 2000, 3000, 1000, 2000, 3000]\n"
     ]
    }
   ],
   "source": [
    "my_list.extend([1000, 2000, 3000])\n",
    "print(my_list)"
   ]
  },
  {
   "cell_type": "code",
   "execution_count": 90,
   "id": "a1cc8872",
   "metadata": {},
   "outputs": [
    {
     "name": "stdout",
     "output_type": "stream",
     "text": [
      "[12, 2, 3, 30, 40, 50, 60, 70, 80, 90, 100, 110, 1000, 2000, 3000, 1000, 2000, 3000]\n"
     ]
    }
   ],
   "source": [
    "del(my_list[0])\n",
    "print(my_list)"
   ]
  },
  {
   "cell_type": "code",
   "execution_count": 95,
   "id": "a976ab62",
   "metadata": {},
   "outputs": [
    {
     "name": "stdout",
     "output_type": "stream",
     "text": [
      "[1, 4, 2, 3, 7, 5, 6]\n",
      "[1, 2, 3, 4, 5, 6, 7]\n"
     ]
    }
   ],
   "source": [
    "my_list = [1, 4, 2, 3, 7, 5, 6]\n",
    "print(my_list)\n",
    "my_list.sort()  # we are changing the original list\n",
    "print(my_list)"
   ]
  },
  {
   "cell_type": "code",
   "execution_count": 96,
   "id": "a0cf1af1",
   "metadata": {},
   "outputs": [
    {
     "name": "stdout",
     "output_type": "stream",
     "text": [
      "[1, 4, 2, 3, 7, 5, 6]\n",
      "[1, 2, 3, 4, 5, 6, 7]\n",
      "[1, 4, 2, 3, 7, 5, 6]\n"
     ]
    }
   ],
   "source": [
    "my_list = [1, 4, 2, 3, 7, 5, 6]\n",
    "print(my_list)\n",
    "sorted_list = sorted(my_list)  # sorted function accepts any collection and returns sorted elements in a list\n",
    "print(sorted_list)\n",
    "print(my_list)"
   ]
  },
  {
   "cell_type": "markdown",
   "id": "28fd45d0",
   "metadata": {},
   "source": [
    "\n",
    "## How we can iterate through collection?"
   ]
  },
  {
   "cell_type": "code",
   "execution_count": 98,
   "id": "aa48e914",
   "metadata": {},
   "outputs": [
    {
     "name": "stdout",
     "output_type": "stream",
     "text": [
      "10\n",
      "20\n",
      "30\n",
      "40\n",
      "50\n",
      "60\n",
      "70\n",
      "80\n",
      "90\n",
      "100\n"
     ]
    }
   ],
   "source": [
    "my_list = [10, 20, 30, 40, 50, 60, 70, 80, 90, 100]\n",
    "i = 0\n",
    "while i < len(my_list):\n",
    "    print(my_list[i])\n",
    "    i += 1"
   ]
  },
  {
   "cell_type": "code",
   "execution_count": 99,
   "id": "ace5ba3c",
   "metadata": {},
   "outputs": [
    {
     "name": "stdout",
     "output_type": "stream",
     "text": [
      "10\n",
      "20\n",
      "30\n",
      "40\n",
      "50\n",
      "60\n",
      "70\n",
      "80\n",
      "90\n",
      "100\n"
     ]
    }
   ],
   "source": [
    "my_list = [10, 20, 30, 40, 50, 60, 70, 80, 90, 100]\n",
    "\n",
    "# for LOCAL_VARIABLE in COLLECTION:\n",
    "for number in my_list:\n",
    "    print(number)"
   ]
  },
  {
   "cell_type": "code",
   "execution_count": null,
   "id": "eabf85d3",
   "metadata": {},
   "outputs": [],
   "source": []
  },
  {
   "cell_type": "code",
   "execution_count": null,
   "id": "d42f9b58",
   "metadata": {},
   "outputs": [],
   "source": []
  },
  {
   "cell_type": "code",
   "execution_count": null,
   "id": "65e4b2e6",
   "metadata": {},
   "outputs": [],
   "source": []
  },
  {
   "cell_type": "code",
   "execution_count": null,
   "id": "c56482eb",
   "metadata": {},
   "outputs": [],
   "source": []
  },
  {
   "cell_type": "code",
   "execution_count": null,
   "id": "49fdaf95",
   "metadata": {},
   "outputs": [],
   "source": []
  }
 ],
 "metadata": {
  "kernelspec": {
   "display_name": "Python 3.9.7 64-bit ('base': conda)",
   "language": "python",
   "name": "python397jvsc74a57bd040d3a090f54c6569ab1632332b64b2c03c39dcf918b08424e98f38b5ae0af88f"
  },
  "language_info": {
   "codemirror_mode": {
    "name": "ipython",
    "version": 3
   },
   "file_extension": ".py",
   "mimetype": "text/x-python",
   "name": "python",
   "nbconvert_exporter": "python",
   "pygments_lexer": "ipython3",
   "version": "3.9.7"
  }
 },
 "nbformat": 4,
 "nbformat_minor": 5
}
