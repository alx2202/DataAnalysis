{
 "cells": [
  {
   "cell_type": "markdown",
   "id": "37f12b46",
   "metadata": {},
   "source": [
    "# Collections"
   ]
  },
  {
   "cell_type": "markdown",
   "id": "6bd832ef",
   "metadata": {},
   "source": [
    "## While loop\n",
    "\n",
    "```\n",
    "while CONDITION:\n",
    "\toperation1\n",
    "\toperation2\n",
    "\t...\n",
    "```"
   ]
  },
  {
   "cell_type": "code",
   "execution_count": 3,
   "id": "ffdf0822",
   "metadata": {},
   "outputs": [
    {
     "name": "stdout",
     "output_type": "stream",
     "text": [
      "0\n",
      "1\n",
      "2\n",
      "3\n",
      "4\n",
      "5\n",
      "6\n",
      "7\n",
      "8\n",
      "9\n",
      "After while loop\n"
     ]
    }
   ],
   "source": [
    "counter = 0\n",
    "while counter < 10:\n",
    "    print(counter)\n",
    "    counter += 1  # counter = counter + 1\n",
    "    \n",
    "print('After while loop')"
   ]
  },
  {
   "cell_type": "code",
   "execution_count": 5,
   "id": "1f053969",
   "metadata": {},
   "outputs": [],
   "source": [
    "# infinite loop example\n",
    "# counter = 0\n",
    "# while counter < 10:\n",
    "#     print(counter)"
   ]
  },
  {
   "cell_type": "markdown",
   "id": "05d78913",
   "metadata": {},
   "source": [
    "## Tuple\n",
    "- defined as ( ,)\n",
    "- we can’t change a tuple contents after creation\n",
    "- it’s immutable\n",
    "- data within the tuple is ordered in the order of adding elements to the tuple\n",
    "- assignment operator (=) will not work with tuple, we will get TypeError\n",
    "- we use tuple to store heterogeneous data, data with different meaning, like a row from the excel table\n",
    "- https://realpython.com/python-lists-tuples/ \n",
    "- https://stackoverflow.com/questions/626759/whats-the-difference-between-lists-and-tuples "
   ]
  },
  {
   "cell_type": "code",
   "execution_count": 8,
   "id": "bb517184",
   "metadata": {},
   "outputs": [
    {
     "name": "stdout",
     "output_type": "stream",
     "text": [
      "('Piotr', 'GG', 182, 46.5, True)\n",
      "GG\n",
      "True\n"
     ]
    }
   ],
   "source": [
    "# index     0        1     2    3     4\n",
    "my_tuple = ('Piotr', 'GG', 182, 46.5, True)\n",
    "print(my_tuple)\n",
    "print(my_tuple[1])\n",
    "print(my_tuple[4])"
   ]
  },
  {
   "cell_type": "code",
   "execution_count": 10,
   "id": "7c6a791f",
   "metadata": {},
   "outputs": [
    {
     "name": "stdout",
     "output_type": "stream",
     "text": [
      "((1, 2), ('a', 'b', 'c'), (True, False))\n",
      "b\n"
     ]
    }
   ],
   "source": [
    "#           0       1                2\n",
    "#            0  1    0    1    2      0     1\n",
    "my_tuple = ((1, 2), ('a', 'b', 'c'), (True, False))\n",
    "print(my_tuple)\n",
    "print(my_tuple[1][1])"
   ]
  },
  {
   "cell_type": "code",
   "execution_count": 15,
   "id": "567643e7",
   "metadata": {},
   "outputs": [
    {
     "name": "stdout",
     "output_type": "stream",
     "text": [
      "b\n"
     ]
    }
   ],
   "source": [
    "my_tuple = (((('b'),),),)\n",
    "print(my_tuple[0][0][0])"
   ]
  },
  {
   "cell_type": "code",
   "execution_count": 16,
   "id": "6f869f5d",
   "metadata": {},
   "outputs": [],
   "source": [
    "# index     0    1    2    3    4    5    6    7    8    9\n",
    "my_tuple = ('a', 'b', 'c', 'd', 'e', 'f', 'g', 'h', 'i', 'j')\n",
    "# -index    -10  -9   -8   -7   -6   -5   -4   -3   -2   -1"
   ]
  },
  {
   "cell_type": "code",
   "execution_count": 19,
   "id": "2b7fb251",
   "metadata": {},
   "outputs": [
    {
     "name": "stdout",
     "output_type": "stream",
     "text": [
      "('a', 'b', 'c', 'd', 'e', 'f', 'g', 'h', 'i', 'j')\n"
     ]
    }
   ],
   "source": [
    "print(my_tuple)"
   ]
  },
  {
   "cell_type": "code",
   "execution_count": 21,
   "id": "65481072",
   "metadata": {},
   "outputs": [
    {
     "name": "stdout",
     "output_type": "stream",
     "text": [
      "a\n"
     ]
    }
   ],
   "source": [
    "print(my_tuple[0])"
   ]
  },
  {
   "cell_type": "code",
   "execution_count": 22,
   "id": "ad2bfa2b",
   "metadata": {},
   "outputs": [
    {
     "name": "stdout",
     "output_type": "stream",
     "text": [
      "('a', 'b', 'c')\n"
     ]
    }
   ],
   "source": [
    "print(my_tuple[0:3])  # 0:3 - left-closed, right-opened, right is not included"
   ]
  },
  {
   "cell_type": "code",
   "execution_count": 24,
   "id": "c0b16868",
   "metadata": {},
   "outputs": [
    {
     "name": "stdout",
     "output_type": "stream",
     "text": [
      "('d', 'e', 'f', 'g')\n"
     ]
    }
   ],
   "source": [
    "print(my_tuple[3:7])"
   ]
  },
  {
   "cell_type": "code",
   "execution_count": 27,
   "id": "79323861",
   "metadata": {},
   "outputs": [
    {
     "name": "stdout",
     "output_type": "stream",
     "text": [
      "('f', 'g', 'h', 'i', 'j')\n"
     ]
    }
   ],
   "source": [
    "print(my_tuple[5:])  # from 5 till the end, we can skip end"
   ]
  },
  {
   "cell_type": "code",
   "execution_count": 30,
   "id": "a102f29b",
   "metadata": {},
   "outputs": [
    {
     "name": "stdout",
     "output_type": "stream",
     "text": [
      "('a', 'b', 'c', 'd')\n"
     ]
    }
   ],
   "source": [
    "print(my_tuple[:4])  # we can skip start"
   ]
  },
  {
   "cell_type": "code",
   "execution_count": 31,
   "id": "8892ede4",
   "metadata": {},
   "outputs": [
    {
     "name": "stdout",
     "output_type": "stream",
     "text": [
      "j\n"
     ]
    }
   ],
   "source": [
    "print(my_tuple[-1])"
   ]
  },
  {
   "cell_type": "code",
   "execution_count": 36,
   "id": "92f70490",
   "metadata": {},
   "outputs": [
    {
     "name": "stdout",
     "output_type": "stream",
     "text": [
      "('d', 'e', 'f', 'g', 'h')\n"
     ]
    }
   ],
   "source": [
    "print(my_tuple[3:-2])"
   ]
  },
  {
   "cell_type": "code",
   "execution_count": 38,
   "id": "a074f68b",
   "metadata": {},
   "outputs": [
    {
     "name": "stdout",
     "output_type": "stream",
     "text": [
      "('a', 'c', 'e', 'g', 'i')\n"
     ]
    }
   ],
   "source": [
    "# [start:end:step] - start, end, step can be skipped\n",
    "print(my_tuple[::2])"
   ]
  },
  {
   "cell_type": "code",
   "execution_count": 40,
   "id": "e42dea02",
   "metadata": {},
   "outputs": [
    {
     "name": "stdout",
     "output_type": "stream",
     "text": [
      "('j', 'h', 'f', 'd', 'b')\n"
     ]
    }
   ],
   "source": [
    "print(my_tuple[::-2])"
   ]
  },
  {
   "cell_type": "code",
   "execution_count": 42,
   "id": "069f5c26",
   "metadata": {},
   "outputs": [
    {
     "name": "stdout",
     "output_type": "stream",
     "text": [
      "('j', 'i', 'h', 'g', 'f', 'e', 'd', 'c', 'b', 'a')\n"
     ]
    }
   ],
   "source": [
    "print(my_tuple[::-1])"
   ]
  },
  {
   "cell_type": "markdown",
   "id": "e9d1516b",
   "metadata": {},
   "source": [
    "## Useful functions"
   ]
  },
  {
   "cell_type": "code",
   "execution_count": 45,
   "id": "8da645ce",
   "metadata": {},
   "outputs": [
    {
     "name": "stdout",
     "output_type": "stream",
     "text": [
      "10\n"
     ]
    }
   ],
   "source": [
    "print(len(my_tuple))  # will return the length of the collection, how many elements we have in a collection"
   ]
  },
  {
   "cell_type": "code",
   "execution_count": 48,
   "id": "8908daf4",
   "metadata": {},
   "outputs": [
    {
     "name": "stdout",
     "output_type": "stream",
     "text": [
      "True\n",
      "False\n",
      "True\n"
     ]
    }
   ],
   "source": [
    "# in operator - to check if particular value is present in the collection\n",
    "print('a' in my_tuple)\n",
    "print('q' in my_tuple) \n",
    "print('q' not in my_tuple)"
   ]
  },
  {
   "cell_type": "code",
   "execution_count": 51,
   "id": "132ebf61",
   "metadata": {},
   "outputs": [
    {
     "name": "stdout",
     "output_type": "stream",
     "text": [
      "10\n",
      "50\n",
      "150\n"
     ]
    }
   ],
   "source": [
    "numbers = (10, 20, 30, 40, 50)\n",
    "print(min(numbers))\n",
    "print(max(numbers))\n",
    "print(sum(numbers))"
   ]
  },
  {
   "cell_type": "code",
   "execution_count": 52,
   "id": "79ee27c4",
   "metadata": {},
   "outputs": [
    {
     "name": "stdout",
     "output_type": "stream",
     "text": [
      "2\n",
      "1\n"
     ]
    }
   ],
   "source": [
    "print(numbers.index(30))  # index from the collection of first occurence of this value\n",
    "print(numbers.count(40))  # counts how many times particular value exists in a collection"
   ]
  },
  {
   "cell_type": "code",
   "execution_count": null,
   "id": "e831e5c7",
   "metadata": {},
   "outputs": [],
   "source": []
  }
 ],
 "metadata": {
  "kernelspec": {
   "display_name": "Python 3.9.7 64-bit ('base': conda)",
   "language": "python",
   "name": "python397jvsc74a57bd040d3a090f54c6569ab1632332b64b2c03c39dcf918b08424e98f38b5ae0af88f"
  },
  "language_info": {
   "codemirror_mode": {
    "name": "ipython",
    "version": 3
   },
   "file_extension": ".py",
   "mimetype": "text/x-python",
   "name": "python",
   "nbconvert_exporter": "python",
   "pygments_lexer": "ipython3",
   "version": "3.9.7"
  }
 },
 "nbformat": 4,
 "nbformat_minor": 5
}
