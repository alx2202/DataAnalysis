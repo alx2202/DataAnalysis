{
 "cells": [
  {
   "cell_type": "markdown",
   "id": "24e3d899",
   "metadata": {},
   "source": [
    "# Collections"
   ]
  },
  {
   "cell_type": "markdown",
   "id": "aebc816c",
   "metadata": {},
   "source": [
    "## While loop\n",
    "\n",
    "```\n",
    "while CONDITION:\n",
    "\toperation1\n",
    "\toperation2\n",
    "\t...\n",
    "```"
   ]
  },
  {
   "cell_type": "code",
   "execution_count": 63,
   "id": "d81d82b4",
   "metadata": {},
   "outputs": [
    {
     "name": "stdout",
     "output_type": "stream",
     "text": [
      "0\n",
      "1\n",
      "2\n",
      "3\n",
      "4\n",
      "5\n",
      "6\n",
      "7\n",
      "8\n",
      "9\n",
      "After while loop\n"
     ]
    }
   ],
   "source": [
    "counter = 0\n",
    "while counter < 10:\n",
    "    print(counter)\n",
    "    counter += 1  # counter = counter + 1\n",
    "    \n",
    "print('After while loop')"
   ]
  },
  {
   "cell_type": "code",
   "execution_count": 64,
   "id": "deaf0ad5",
   "metadata": {},
   "outputs": [],
   "source": [
    "# infinite loop example\n",
    "# counter = 0\n",
    "# while counter < 10:\n",
    "#     print(counter)"
   ]
  },
  {
   "cell_type": "markdown",
   "id": "347c989e",
   "metadata": {},
   "source": [
    "## Tuple\n",
    "- defined as ( ,)\n",
    "- we can’t change a tuple contents after creation\n",
    "- it’s immutable\n",
    "- data within the tuple is ordered in the order of adding elements to the tuple\n",
    "- assignment operator (=) will not work with tuple, we will get TypeError\n",
    "- we use tuple to store heterogeneous data, data with different meaning, like a row from the excel table\n",
    "- https://realpython.com/python-lists-tuples/ \n",
    "- https://stackoverflow.com/questions/626759/whats-the-difference-between-lists-and-tuples "
   ]
  },
  {
   "cell_type": "code",
   "execution_count": 65,
   "id": "493fbae8",
   "metadata": {},
   "outputs": [
    {
     "name": "stdout",
     "output_type": "stream",
     "text": [
      "('Piotr', 'GG', 182, 46.5, True)\n",
      "GG\n",
      "True\n"
     ]
    }
   ],
   "source": [
    "# index     0        1     2    3     4\n",
    "my_tuple = ('Piotr', 'GG', 182, 46.5, True)\n",
    "print(my_tuple)\n",
    "print(my_tuple[1])\n",
    "print(my_tuple[4])"
   ]
  },
  {
   "cell_type": "code",
   "execution_count": 66,
   "id": "c47b5940",
   "metadata": {},
   "outputs": [
    {
     "name": "stdout",
     "output_type": "stream",
     "text": [
      "((1, 2), ('a', 'b', 'c'), (True, False))\n",
      "b\n"
     ]
    }
   ],
   "source": [
    "#           0       1                2\n",
    "#            0  1    0    1    2      0     1\n",
    "my_tuple = ((1, 2), ('a', 'b', 'c'), (True, False))\n",
    "print(my_tuple)\n",
    "print(my_tuple[1][1])"
   ]
  },
  {
   "cell_type": "code",
   "execution_count": 67,
   "id": "dfbaf868",
   "metadata": {},
   "outputs": [
    {
     "name": "stdout",
     "output_type": "stream",
     "text": [
      "b\n"
     ]
    }
   ],
   "source": [
    "my_tuple = (((('b'),),),)\n",
    "print(my_tuple[0][0][0])"
   ]
  },
  {
   "cell_type": "code",
   "execution_count": 68,
   "id": "cff7fee7",
   "metadata": {},
   "outputs": [],
   "source": [
    "# index     0    1    2    3    4    5    6    7    8    9\n",
    "my_tuple = ('a', 'b', 'c', 'd', 'e', 'f', 'g', 'h', 'i', 'j')\n",
    "# -index    -10  -9   -8   -7   -6   -5   -4   -3   -2   -1"
   ]
  },
  {
   "cell_type": "code",
   "execution_count": 69,
   "id": "6a1aaa85",
   "metadata": {},
   "outputs": [
    {
     "name": "stdout",
     "output_type": "stream",
     "text": [
      "('a', 'b', 'c', 'd', 'e', 'f', 'g', 'h', 'i', 'j')\n"
     ]
    }
   ],
   "source": [
    "print(my_tuple)"
   ]
  },
  {
   "cell_type": "code",
   "execution_count": 70,
   "id": "f24aab9f",
   "metadata": {},
   "outputs": [
    {
     "name": "stdout",
     "output_type": "stream",
     "text": [
      "a\n"
     ]
    }
   ],
   "source": [
    "print(my_tuple[0])"
   ]
  },
  {
   "cell_type": "code",
   "execution_count": 71,
   "id": "ec6e3f2a",
   "metadata": {},
   "outputs": [
    {
     "name": "stdout",
     "output_type": "stream",
     "text": [
      "('a', 'b', 'c')\n"
     ]
    }
   ],
   "source": [
    "print(my_tuple[0:3])  # 0:3 - left-closed, right-opened, right is not included"
   ]
  },
  {
   "cell_type": "code",
   "execution_count": 72,
   "id": "9a6ce7c2",
   "metadata": {},
   "outputs": [
    {
     "name": "stdout",
     "output_type": "stream",
     "text": [
      "('d', 'e', 'f', 'g')\n"
     ]
    }
   ],
   "source": [
    "print(my_tuple[3:7])"
   ]
  },
  {
   "cell_type": "code",
   "execution_count": 73,
   "id": "c64f287d",
   "metadata": {},
   "outputs": [
    {
     "name": "stdout",
     "output_type": "stream",
     "text": [
      "('f', 'g', 'h', 'i', 'j')\n"
     ]
    }
   ],
   "source": [
    "print(my_tuple[5:])  # from 5 till the end, we can skip end"
   ]
  },
  {
   "cell_type": "code",
   "execution_count": 74,
   "id": "daa585b9",
   "metadata": {},
   "outputs": [
    {
     "name": "stdout",
     "output_type": "stream",
     "text": [
      "('a', 'b', 'c', 'd')\n"
     ]
    }
   ],
   "source": [
    "print(my_tuple[:4])  # we can skip start"
   ]
  },
  {
   "cell_type": "code",
   "execution_count": 75,
   "id": "d6861a9a",
   "metadata": {},
   "outputs": [
    {
     "name": "stdout",
     "output_type": "stream",
     "text": [
      "j\n"
     ]
    }
   ],
   "source": [
    "print(my_tuple[-1])"
   ]
  },
  {
   "cell_type": "code",
   "execution_count": 76,
   "id": "fc348f9a",
   "metadata": {},
   "outputs": [
    {
     "name": "stdout",
     "output_type": "stream",
     "text": [
      "('d', 'e', 'f', 'g', 'h')\n"
     ]
    }
   ],
   "source": [
    "print(my_tuple[3:-2])"
   ]
  },
  {
   "cell_type": "code",
   "execution_count": 77,
   "id": "c047ed77",
   "metadata": {},
   "outputs": [
    {
     "name": "stdout",
     "output_type": "stream",
     "text": [
      "('a', 'c', 'e', 'g', 'i')\n"
     ]
    }
   ],
   "source": [
    "# [start:end:step] - start, end, step can be skipped\n",
    "print(my_tuple[::2])"
   ]
  },
  {
   "cell_type": "code",
   "execution_count": 78,
   "id": "aedab04e",
   "metadata": {},
   "outputs": [
    {
     "name": "stdout",
     "output_type": "stream",
     "text": [
      "('j', 'h', 'f', 'd', 'b')\n"
     ]
    }
   ],
   "source": [
    "print(my_tuple[::-2])"
   ]
  },
  {
   "cell_type": "code",
   "execution_count": 79,
   "id": "9dcf73a6",
   "metadata": {},
   "outputs": [
    {
     "name": "stdout",
     "output_type": "stream",
     "text": [
      "('j', 'i', 'h', 'g', 'f', 'e', 'd', 'c', 'b', 'a')\n"
     ]
    }
   ],
   "source": [
    "print(my_tuple[::-1])"
   ]
  },
  {
   "cell_type": "markdown",
   "id": "3e5c589b",
   "metadata": {},
   "source": [
    "## Useful functions"
   ]
  },
  {
   "cell_type": "code",
   "execution_count": 80,
   "id": "a9cd62ad",
   "metadata": {},
   "outputs": [
    {
     "name": "stdout",
     "output_type": "stream",
     "text": [
      "10\n"
     ]
    }
   ],
   "source": [
    "print(len(my_tuple))  # will return the length of the collection, how many elements we have in a collection"
   ]
  },
  {
   "cell_type": "code",
   "execution_count": 81,
   "id": "5db02e0e",
   "metadata": {},
   "outputs": [
    {
     "name": "stdout",
     "output_type": "stream",
     "text": [
      "True\n",
      "False\n",
      "True\n"
     ]
    }
   ],
   "source": [
    "# in operator - to check if particular value is present in the collection\n",
    "print('a' in my_tuple)\n",
    "print('q' in my_tuple) \n",
    "print('q' not in my_tuple)"
   ]
  },
  {
   "cell_type": "code",
   "execution_count": 82,
   "id": "d28be9c8",
   "metadata": {},
   "outputs": [
    {
     "name": "stdout",
     "output_type": "stream",
     "text": [
      "10\n",
      "50\n",
      "150\n"
     ]
    }
   ],
   "source": [
    "numbers = (10, 20, 30, 40, 50)\n",
    "print(min(numbers))\n",
    "print(max(numbers))\n",
    "print(sum(numbers))"
   ]
  },
  {
   "cell_type": "code",
   "execution_count": 83,
   "id": "36f89b6d",
   "metadata": {},
   "outputs": [
    {
     "name": "stdout",
     "output_type": "stream",
     "text": [
      "2\n",
      "1\n"
     ]
    }
   ],
   "source": [
    "print(numbers.index(30))  # index from the collection of first occurence of this value\n",
    "print(numbers.count(40))  # counts how many times particular value exists in a collection"
   ]
  },
  {
   "cell_type": "markdown",
   "id": "04384ccf",
   "metadata": {},
   "source": [
    "## List\n",
    "\n",
    "- defined as `[ ]`\n",
    "- is mutable, we can add new elements to the list after its creation, change and delete existing ones\n",
    "- as tuple, it’s ordered\n",
    "- we use list to store homogeneous data, same type but different values, like consecutive readings of the temperature\n",
    "- access operator `[start:stop:step]` works exactly the same as with tuples"
   ]
  },
  {
   "cell_type": "code",
   "execution_count": 84,
   "id": "3db41ab1",
   "metadata": {},
   "outputs": [
    {
     "name": "stdout",
     "output_type": "stream",
     "text": [
      "[10, 20, 30, 40, 50]\n"
     ]
    }
   ],
   "source": [
    "my_list = [10, 20, 30, 40, 50]\n",
    "print(my_list)"
   ]
  },
  {
   "cell_type": "code",
   "execution_count": 85,
   "id": "807bdfd1",
   "metadata": {},
   "outputs": [
    {
     "data": {
      "text/plain": [
       "[10, 20]"
      ]
     },
     "execution_count": 85,
     "metadata": {},
     "output_type": "execute_result"
    }
   ],
   "source": [
    "my_list[0:2]"
   ]
  },
  {
   "cell_type": "markdown",
   "id": "47ef1e82",
   "metadata": {},
   "source": [
    "### How to modify a list?\n",
    "\n",
    "https://docs.python.org/3/tutorial/datastructures.html#more-on-lists"
   ]
  },
  {
   "cell_type": "code",
   "execution_count": 86,
   "id": "f2509761",
   "metadata": {},
   "outputs": [
    {
     "name": "stdout",
     "output_type": "stream",
     "text": [
      "[10, 20, 30, 40, 50, 60, 70, 80, 90, 100]\n",
      "[11, 20, 30, 40, 50, 60, 70, 80, 90, 100]\n"
     ]
    }
   ],
   "source": [
    "my_list = [10, 20, 30, 40, 50, 60, 70, 80, 90, 100]\n",
    "\n",
    "# [] - access operator can be used not only to access the data from a collection but also to change it\n",
    "print(my_list)\n",
    "my_list[0] = 11\n",
    "print(my_list)"
   ]
  },
  {
   "cell_type": "code",
   "execution_count": 87,
   "id": "ca5ec2e5",
   "metadata": {},
   "outputs": [
    {
     "name": "stdout",
     "output_type": "stream",
     "text": [
      "[1, 2, 30, 40, 50, 60, 70, 80, 90, 100]\n",
      "[1, 2, 3, 30, 40, 50, 60, 70, 80, 90, 100]\n",
      "[1, 2, 3, 30, 40, 50, 60, 70, 80, 90, 100, 110]\n",
      "[1, 12, 2, 3, 30, 40, 50, 60, 70, 80, 90, 100, 110]\n"
     ]
    }
   ],
   "source": [
    "my_list[0:2] = [1, 2]\n",
    "print(my_list)\n",
    "\n",
    "my_list[0:2] = [1, 2, 3]\n",
    "print(my_list)\n",
    "\n",
    "my_list.append(110)\n",
    "print(my_list)\n",
    "\n",
    "my_list.insert(1, 12)  # .insert(index, value)\n",
    "print(my_list)"
   ]
  },
  {
   "cell_type": "code",
   "execution_count": 89,
   "id": "3a2f76cc",
   "metadata": {},
   "outputs": [
    {
     "name": "stdout",
     "output_type": "stream",
     "text": [
      "[1, 12, 2, 3, 30, 40, 50, 60, 70, 80, 90, 100, 110, 1000, 2000, 3000, 1000, 2000, 3000]\n"
     ]
    }
   ],
   "source": [
    "my_list.extend([1000, 2000, 3000])\n",
    "print(my_list)"
   ]
  },
  {
   "cell_type": "code",
   "execution_count": 90,
   "id": "a1f39d44",
   "metadata": {},
   "outputs": [
    {
     "name": "stdout",
     "output_type": "stream",
     "text": [
      "[12, 2, 3, 30, 40, 50, 60, 70, 80, 90, 100, 110, 1000, 2000, 3000, 1000, 2000, 3000]\n"
     ]
    }
   ],
   "source": [
    "del(my_list[0])\n",
    "print(my_list)"
   ]
  },
  {
   "cell_type": "code",
   "execution_count": 95,
   "id": "e2cffe8a",
   "metadata": {},
   "outputs": [
    {
     "name": "stdout",
     "output_type": "stream",
     "text": [
      "[1, 4, 2, 3, 7, 5, 6]\n",
      "[1, 2, 3, 4, 5, 6, 7]\n"
     ]
    }
   ],
   "source": [
    "my_list = [1, 4, 2, 3, 7, 5, 6]\n",
    "print(my_list)\n",
    "my_list.sort()  # we are changing the original list\n",
    "print(my_list)"
   ]
  },
  {
   "cell_type": "code",
   "execution_count": 96,
   "id": "862c90df",
   "metadata": {},
   "outputs": [
    {
     "name": "stdout",
     "output_type": "stream",
     "text": [
      "[1, 4, 2, 3, 7, 5, 6]\n",
      "[1, 2, 3, 4, 5, 6, 7]\n",
      "[1, 4, 2, 3, 7, 5, 6]\n"
     ]
    }
   ],
   "source": [
    "my_list = [1, 4, 2, 3, 7, 5, 6]\n",
    "print(my_list)\n",
    "sorted_list = sorted(my_list)  # sorted function accepts any collection and returns sorted elements in a list\n",
    "print(sorted_list)\n",
    "print(my_list)"
   ]
  },
  {
   "cell_type": "markdown",
   "id": "124e990f",
   "metadata": {},
   "source": [
    "\n",
    "## How we can iterate through collection?"
   ]
  },
  {
   "cell_type": "code",
   "execution_count": 98,
   "id": "bf9ed05f",
   "metadata": {},
   "outputs": [
    {
     "name": "stdout",
     "output_type": "stream",
     "text": [
      "10\n",
      "20\n",
      "30\n",
      "40\n",
      "50\n",
      "60\n",
      "70\n",
      "80\n",
      "90\n",
      "100\n"
     ]
    }
   ],
   "source": [
    "my_list = [10, 20, 30, 40, 50, 60, 70, 80, 90, 100]\n",
    "i = 0\n",
    "while i < len(my_list):\n",
    "    print(my_list[i])\n",
    "    i += 1"
   ]
  },
  {
   "cell_type": "code",
   "execution_count": 99,
   "id": "23c1e5ae",
   "metadata": {},
   "outputs": [
    {
     "name": "stdout",
     "output_type": "stream",
     "text": [
      "10\n",
      "20\n",
      "30\n",
      "40\n",
      "50\n",
      "60\n",
      "70\n",
      "80\n",
      "90\n",
      "100\n"
     ]
    }
   ],
   "source": [
    "my_list = [10, 20, 30, 40, 50, 60, 70, 80, 90, 100]\n",
    "\n",
    "# for LOCAL_VARIABLE in COLLECTION:\n",
    "for number in my_list:\n",
    "    print(number)"
   ]
  },
  {
   "cell_type": "markdown",
   "id": "bff369c2",
   "metadata": {},
   "source": [
    "### range(start, stop - 1, step)"
   ]
  },
  {
   "cell_type": "code",
   "execution_count": 100,
   "id": "055bbc59",
   "metadata": {},
   "outputs": [
    {
     "name": "stdout",
     "output_type": "stream",
     "text": [
      "0\n",
      "1\n",
      "2\n",
      "3\n",
      "4\n",
      "5\n",
      "6\n",
      "7\n",
      "8\n",
      "9\n",
      "10\n"
     ]
    }
   ],
   "source": [
    "for number in range(11):\n",
    "    print(number)"
   ]
  },
  {
   "cell_type": "code",
   "execution_count": 101,
   "id": "da040741",
   "metadata": {},
   "outputs": [
    {
     "name": "stdout",
     "output_type": "stream",
     "text": [
      "-5\n",
      "-4\n",
      "-3\n",
      "-2\n",
      "-1\n",
      "0\n",
      "1\n",
      "2\n",
      "3\n",
      "4\n",
      "5\n"
     ]
    }
   ],
   "source": [
    "for number in range(-5, 6):\n",
    "    print(number)"
   ]
  },
  {
   "cell_type": "code",
   "execution_count": 102,
   "id": "5afdd0da",
   "metadata": {},
   "outputs": [
    {
     "name": "stdout",
     "output_type": "stream",
     "text": [
      "-10\n",
      "-8\n",
      "-6\n",
      "-4\n",
      "-2\n",
      "0\n",
      "2\n",
      "4\n",
      "6\n",
      "8\n",
      "10\n"
     ]
    }
   ],
   "source": [
    "for number in range(-10, 11, 2):\n",
    "    print(number)"
   ]
  },
  {
   "cell_type": "markdown",
   "id": "79229558",
   "metadata": {},
   "source": [
    "### enumerate(iterable)"
   ]
  },
  {
   "cell_type": "code",
   "execution_count": 106,
   "id": "8d910705",
   "metadata": {},
   "outputs": [
    {
     "name": "stdout",
     "output_type": "stream",
     "text": [
      "Tom\n",
      "Ann\n",
      "Chris\n",
      "Peter\n"
     ]
    }
   ],
   "source": [
    "names = ['Tom', 'Ann', 'Chris', 'Peter']\n",
    "for name in names:\n",
    "    print(name)"
   ]
  },
  {
   "cell_type": "code",
   "execution_count": 107,
   "id": "7ff310a0",
   "metadata": {},
   "outputs": [
    {
     "name": "stdout",
     "output_type": "stream",
     "text": [
      "(0, 'Tom') 0 Tom\n",
      "(1, 'Ann') 1 Ann\n",
      "(2, 'Chris') 2 Chris\n",
      "(3, 'Peter') 3 Peter\n"
     ]
    }
   ],
   "source": [
    "# if you want to have an access to both index and value\n",
    "names = ['Tom', 'Ann', 'Chris', 'Peter']\n",
    "for name in enumerate(names):\n",
    "    print(name, name[0], name[1])"
   ]
  },
  {
   "cell_type": "code",
   "execution_count": 110,
   "id": "ec986bb7",
   "metadata": {},
   "outputs": [
    {
     "name": "stdout",
     "output_type": "stream",
     "text": [
      "1. Tom\n",
      "2. Ann\n",
      "3. Chris\n",
      "4. Peter\n"
     ]
    }
   ],
   "source": [
    "names = ['Tom', 'Ann', 'Chris', 'Peter']\n",
    "for name in enumerate(names, start=1):\n",
    "    print(f'{name[0]}. {name[1]}')"
   ]
  },
  {
   "cell_type": "markdown",
   "id": "8e59f736",
   "metadata": {},
   "source": [
    "#### unpacking"
   ]
  },
  {
   "cell_type": "code",
   "execution_count": 120,
   "id": "f2ed3963",
   "metadata": {},
   "outputs": [
    {
     "name": "stdout",
     "output_type": "stream",
     "text": [
      "('Piotr', 'Grabski-Gradzinski')\n",
      "Piotr Grabski-Gradzinski\n",
      "Piotr Grabski-Gradzinski\n"
     ]
    }
   ],
   "source": [
    "my_data = ('Piotr', 'Grabski-Gradzinski')\n",
    "print(my_data)\n",
    "\n",
    "first_name = my_data[0]\n",
    "last_name = my_data[1]\n",
    "print(first_name, last_name)\n",
    "\n",
    "# the same operation but using unpacking feature of python\n",
    "first_name, last_name = my_data  # the number of elements in a collection must match the number of variables on the left side, otherwise we will get an exception/error.\n",
    "print(first_name, last_name)"
   ]
  },
  {
   "cell_type": "code",
   "execution_count": 123,
   "id": "e0a5d3a1",
   "metadata": {},
   "outputs": [
    {
     "name": "stdout",
     "output_type": "stream",
     "text": [
      "1. Tom\n",
      "2. Ann\n",
      "3. Chris\n",
      "4. Peter\n"
     ]
    }
   ],
   "source": [
    "names = ['Tom', 'Ann', 'Chris', 'Peter']\n",
    "for number, name in enumerate(names, start=1):\n",
    "    print(f'{number}. {name}')"
   ]
  },
  {
   "cell_type": "markdown",
   "id": "502a28cb",
   "metadata": {},
   "source": [
    "## String\n",
    "\n",
    "Strings can also be considered a collection, in a sense that it's a collection of characters."
   ]
  },
  {
   "cell_type": "code",
   "execution_count": 125,
   "id": "ee76d685",
   "metadata": {},
   "outputs": [
    {
     "name": "stdout",
     "output_type": "stream",
     "text": [
      "T\n",
      "o\n",
      " \n",
      "b\n",
      "e\n",
      " \n",
      "o\n",
      "r\n",
      " \n",
      "n\n",
      "o\n",
      "t\n",
      " \n",
      "t\n",
      "o\n",
      " \n",
      "b\n",
      "e\n"
     ]
    }
   ],
   "source": [
    "my_string = 'To be or not to be'\n",
    "for character in my_string:\n",
    "    print(character)"
   ]
  },
  {
   "cell_type": "code",
   "execution_count": 129,
   "id": "02d811c9",
   "metadata": {},
   "outputs": [
    {
     "name": "stdout",
     "output_type": "stream",
     "text": [
      "T\n",
      "o be\n",
      "eb ot ton ro eb oT\n"
     ]
    }
   ],
   "source": [
    "# Index oeprator works well with strings too, in the same way as with tuples or lists...\n",
    "print(my_string[0])\n",
    "print(my_string[1:5])\n",
    "print(my_string[::-1])"
   ]
  },
  {
   "cell_type": "code",
   "execution_count": 135,
   "id": "b29c45bb",
   "metadata": {},
   "outputs": [
    {
     "name": "stdout",
     "output_type": "stream",
     "text": [
      "TO BE OR NOT TO BE\n",
      "to be or not to be\n",
      "HELLO WORLD\n",
      "To Be Or Not To Be\n",
      "To be or not to be\n"
     ]
    }
   ],
   "source": [
    "# each method that is executed on a string gives a new, converted/changed string, the original one stays intact\n",
    "print(my_string.upper())\n",
    "print(my_string.lower())\n",
    "print(\"Hello world\".upper())\n",
    "print(my_string.title())\n",
    "print(my_string.capitalize())"
   ]
  },
  {
   "cell_type": "code",
   "execution_count": 146,
   "id": "7baa8f3f",
   "metadata": {},
   "outputs": [
    {
     "name": "stdout",
     "output_type": "stream",
     "text": [
      ">           Piotr.          <\n",
      ">Piotr.<\n",
      ">Piotr.          <\n",
      ">           Piotr.<\n",
      ">Piotr<\n"
     ]
    }
   ],
   "source": [
    "my_string = '           Piotr.          '\n",
    "print(f'>{my_string}<')\n",
    "print(f'>{my_string.strip()}<')  # removes non-printable characters from the beginning and the end of the string\n",
    "print(f'>{my_string.lstrip()}<')\n",
    "print(f'>{my_string.rstrip()}<')\n",
    "print(f'>{my_string.strip().strip(\".\")}<')"
   ]
  },
  {
   "cell_type": "code",
   "execution_count": 148,
   "id": "5d618a1a",
   "metadata": {},
   "outputs": [
    {
     "data": {
      "text/plain": [
       "['Piotr', 'Andrzej', 'Grabski-Gradzinski']"
      ]
     },
     "execution_count": 148,
     "metadata": {},
     "output_type": "execute_result"
    }
   ],
   "source": [
    "my_string = 'Piotr Andrzej Grabski-Gradzinski'\n",
    "my_string.split(' ')  # returns a list with splitted elements from the string"
   ]
  },
  {
   "cell_type": "code",
   "execution_count": 151,
   "id": "20f708f0",
   "metadata": {},
   "outputs": [
    {
     "name": "stdout",
     "output_type": "stream",
     "text": [
      "Tom;Chris;Mary\n"
     ]
    }
   ],
   "source": [
    "names = ['Tom', 'Chris', 'Mary']\n",
    "joined_names = ';'.join(names)\n",
    "print(joined_names)"
   ]
  },
  {
   "cell_type": "code",
   "execution_count": 153,
   "id": "67cb1fc5",
   "metadata": {},
   "outputs": [
    {
     "name": "stdout",
     "output_type": "stream",
     "text": [
      "T* be *r n*t t* be\n"
     ]
    }
   ],
   "source": [
    "my_string = 'To be or not to be'\n",
    "print(my_string.replace('o', '*'))"
   ]
  },
  {
   "cell_type": "code",
   "execution_count": 154,
   "id": "bf2e9307",
   "metadata": {},
   "outputs": [
    {
     "name": "stdout",
     "output_type": "stream",
     "text": [
      "True\n"
     ]
    }
   ],
   "source": [
    "print('to' in my_string)"
   ]
  },
  {
   "cell_type": "code",
   "execution_count": null,
   "id": "bb083d12",
   "metadata": {},
   "outputs": [],
   "source": []
  }
 ],
 "metadata": {
  "kernelspec": {
   "display_name": "Python 3.9.7 64-bit ('base': conda)",
   "language": "python",
   "name": "python397jvsc74a57bd040d3a090f54c6569ab1632332b64b2c03c39dcf918b08424e98f38b5ae0af88f"
  },
  "language_info": {
   "codemirror_mode": {
    "name": "ipython",
    "version": 3
   },
   "file_extension": ".py",
   "mimetype": "text/x-python",
   "name": "python",
   "nbconvert_exporter": "python",
   "pygments_lexer": "ipython3",
   "version": "3.9.7"
  }
 },
 "nbformat": 4,
 "nbformat_minor": 5
}
