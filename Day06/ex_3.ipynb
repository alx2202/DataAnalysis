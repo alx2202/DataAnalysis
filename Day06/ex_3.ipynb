{
 "cells": [
  {
   "cell_type": "markdown",
   "id": "7acfef84",
   "metadata": {},
   "source": [
    "# Ex 3\n",
    "\n",
    "Write a program that counts occurrences of positive and negative numbers in a given list of integers.\n",
    "\n",
    "- https://en.wikipedia.org/wiki/Negative_number\n",
    "- zero is usually (but not always) thought of as neither positive nor negative"
   ]
  },
  {
   "cell_type": "code",
   "execution_count": 1,
   "id": "06d90d52",
   "metadata": {},
   "outputs": [],
   "source": [
    "numbers = [1, 2, 3, -100, -10, 0, 4]\n",
    "\n",
    "positive_numbers = 0\n",
    "negative_numbers = 0"
   ]
  }
 ],
 "metadata": {
  "kernelspec": {
   "display_name": "Python 3.9.7 64-bit ('base': conda)",
   "language": "python",
   "name": "python397jvsc74a57bd040d3a090f54c6569ab1632332b64b2c03c39dcf918b08424e98f38b5ae0af88f"
  },
  "language_info": {
   "codemirror_mode": {
    "name": "ipython",
    "version": 3
   },
   "file_extension": ".py",
   "mimetype": "text/x-python",
   "name": "python",
   "nbconvert_exporter": "python",
   "pygments_lexer": "ipython3",
   "version": "3.9.7"
  }
 },
 "nbformat": 4,
 "nbformat_minor": 5
}
