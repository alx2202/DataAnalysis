{
 "cells": [
  {
   "cell_type": "markdown",
   "id": "1e4715ae",
   "metadata": {},
   "source": [
    "# Ex 3\n",
    "\n",
    "Write a program that counts occurrences of positive and negative numbers in a given list of integers.\n",
    "\n",
    "- https://en.wikipedia.org/wiki/Negative_number\n",
    "- zero is usually (but not always) thought of as neither positive nor negative"
   ]
  },
  {
   "cell_type": "code",
   "execution_count": 2,
   "id": "8c3ae460",
   "metadata": {},
   "outputs": [
    {
     "name": "stdout",
     "output_type": "stream",
     "text": [
      "Negative: 2, Positive: 4\n"
     ]
    }
   ],
   "source": [
    "numbers = [1, 2, 3, -100, -10, 0, 4]\n",
    "\n",
    "positive_numbers = 0\n",
    "negative_numbers = 0\n",
    "\n",
    "for number in numbers:\n",
    "    if number > 0:\n",
    "        positive_numbers += 1\n",
    "    elif number < 0:\n",
    "        negative_numbers += 1\n",
    "        \n",
    "print(f'Negative: {negative_numbers}, Positive: {positive_numbers}')"
   ]
  },
  {
   "cell_type": "code",
   "execution_count": null,
   "id": "b30903b9",
   "metadata": {},
   "outputs": [],
   "source": []
  }
 ],
 "metadata": {
  "kernelspec": {
   "display_name": "Python 3.9.7 64-bit ('base': conda)",
   "language": "python",
   "name": "python397jvsc74a57bd040d3a090f54c6569ab1632332b64b2c03c39dcf918b08424e98f38b5ae0af88f"
  },
  "language_info": {
   "codemirror_mode": {
    "name": "ipython",
    "version": 3
   },
   "file_extension": ".py",
   "mimetype": "text/x-python",
   "name": "python",
   "nbconvert_exporter": "python",
   "pygments_lexer": "ipython3",
   "version": "3.9.7"
  }
 },
 "nbformat": 4,
 "nbformat_minor": 5
}
