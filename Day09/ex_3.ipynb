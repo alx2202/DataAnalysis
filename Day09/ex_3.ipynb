{
 "cells": [
  {
   "cell_type": "markdown",
   "id": "64005eb4",
   "metadata": {},
   "source": [
    "# Exercise 3\n",
    "\n",
    "Write a function that will get document a number as an argument\n",
    "(in this format \"FV/BI/2023-1/10\") and will return a dictionary\n",
    "containing elements of this number.\n",
    "\n",
    "Number consists of:\n",
    "document type/department/year-quarter/number\n",
    "\n",
    "Example:\n",
    "`split_document_number_to_parts(\"FV/BI/2023-1/10\")`\n",
    "\n",
    "returns\n",
    "```\n",
    "{\n",
    "    \"document_type\": \"FV\",\n",
    "    \"department\": \"BI\",\n",
    "    \"year\": 2023,\n",
    "    \"quarter\": 1,\n",
    "    \"number\": 10\n",
    "}\n",
    "```\n",
    "\n",
    "##### Extra\n",
    "Throw an exception if number does not match the pattern. You can check it by the number of \"/\"."
   ]
  }
 ],
 "metadata": {
  "kernelspec": {
   "display_name": "Python 3.9.7 64-bit ('base': conda)",
   "language": "python",
   "name": "python397jvsc74a57bd040d3a090f54c6569ab1632332b64b2c03c39dcf918b08424e98f38b5ae0af88f"
  },
  "language_info": {
   "codemirror_mode": {
    "name": "ipython",
    "version": 3
   },
   "file_extension": ".py",
   "mimetype": "text/x-python",
   "name": "python",
   "nbconvert_exporter": "python",
   "pygments_lexer": "ipython3",
   "version": "3.9.7"
  }
 },
 "nbformat": 4,
 "nbformat_minor": 5
}
