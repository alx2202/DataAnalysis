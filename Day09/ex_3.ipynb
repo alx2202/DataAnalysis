{
 "cells": [
  {
   "cell_type": "markdown",
   "id": "64005eb4",
   "metadata": {},
   "source": [
    "# Exercise 3\n",
    "\n",
    "Write a function that will get document a number as an argument\n",
    "(in this format \"FV/BI/2023-1/10\") and will return a dictionary\n",
    "containing elements of this number.\n",
    "\n",
    "Number consists of:\n",
    "document type/department/year-quarter/number\n",
    "\n",
    "Example:\n",
    "`split_document_number_to_parts(\"FV/BI/2023-1/10\")`\n",
    "\n",
    "returns\n",
    "```\n",
    "{\n",
    "    \"document_type\": \"FV\",\n",
    "    \"department\": \"BI\",\n",
    "    \"year\": 2023,\n",
    "    \"quarter\": 1,\n",
    "    \"number\": 10\n",
    "}\n",
    "```\n",
    "\n",
    "##### Extra\n",
    "Throw an exception if number does not match the pattern. You can check it by the number of \"/\"."
   ]
  },
  {
   "cell_type": "markdown",
   "id": "f963ffc1",
   "metadata": {},
   "source": [
    "### Type hinting\n",
    "\n",
    "Hint on what data type we should provide as arguments and what data type will be returned.\n",
    "\n",
    "In thhis case:\n",
    "\n",
    "```\n",
    "def split_document_number_to_parts(document_number: str) -> dict:\n",
    "```\n",
    "\n",
    "`document_number` should be string (`str`) and this function will return a dictionary (`dict`)."
   ]
  },
  {
   "cell_type": "code",
   "execution_count": 3,
   "id": "027ab561",
   "metadata": {},
   "outputs": [],
   "source": [
    "def split_document_number_to_parts(document_number: str) -> dict:\n",
    "    if document_number.count('/') != 3:\n",
    "        raise ValueError('Document number must contain 4 sections separated by \"/\".')\n",
    "        \n",
    "    parts = document_number.split('/')\n",
    "    \n",
    "    return {\n",
    "        'document_type': parts[0],\n",
    "        'department': parts[1],\n",
    "        'year': parts[2].split('-')[0],\n",
    "        'quarter': parts[2].split('-')[1],\n",
    "        'number': parts[3]\n",
    "    }"
   ]
  },
  {
   "cell_type": "code",
   "execution_count": 5,
   "id": "8454886b",
   "metadata": {},
   "outputs": [
    {
     "data": {
      "text/plain": [
       "{'document_type': 'FV',\n",
       " 'department': 'BI',\n",
       " 'year': '2023',\n",
       " 'quarter': '1',\n",
       " 'number': '10'}"
      ]
     },
     "execution_count": 5,
     "metadata": {},
     "output_type": "execute_result"
    }
   ],
   "source": [
    "result = split_document_number_to_parts('FV/BI/2023-1/10')\n",
    "result"
   ]
  },
  {
   "cell_type": "code",
   "execution_count": 17,
   "id": "20593d51",
   "metadata": {},
   "outputs": [
    {
     "name": "stdout",
     "output_type": "stream",
     "text": [
      "We have an Exception: Document number must contain 4 sections separated by \"/\"., type: <class 'ValueError'>\n"
     ]
    }
   ],
   "source": [
    "# with except block we go from more specific to more generic exception\n",
    "try: \n",
    "    result = split_document_number_to_parts('FV/BI/10')\n",
    "    print(result)\n",
    "except TypeError as e:\n",
    "    print(f\"We have an TypeError: {e}\")\n",
    "except Exception as e:\n",
    "    print(f\"We have an Exception: {e}, type: {type(e)}\")"
   ]
  },
  {
   "cell_type": "code",
   "execution_count": 23,
   "id": "6f7584b8",
   "metadata": {},
   "outputs": [
    {
     "name": "stdout",
     "output_type": "stream",
     "text": [
      "LookupError: list index out of range\n"
     ]
    }
   ],
   "source": [
    "# python is going into the first except block that matches with the exception hierarchy\n",
    "# so, thats why we should have except block with more specific exceptions first and then more generic ones.\n",
    "try: \n",
    "    my_list = ['a', 'b', 'c', ]\n",
    "    print(my_list[100])\n",
    "except LookupError as e:\n",
    "    print(f\"LookupError: {e}\")\n",
    "except IndexError as e:\n",
    "    print(f\"IndexError: {e}\")"
   ]
  },
  {
   "cell_type": "code",
   "execution_count": null,
   "id": "47fec0c0",
   "metadata": {},
   "outputs": [],
   "source": []
  }
 ],
 "metadata": {
  "kernelspec": {
   "display_name": "Python 3.9.7 64-bit ('base': conda)",
   "language": "python",
   "name": "python397jvsc74a57bd040d3a090f54c6569ab1632332b64b2c03c39dcf918b08424e98f38b5ae0af88f"
  },
  "language_info": {
   "codemirror_mode": {
    "name": "ipython",
    "version": 3
   },
   "file_extension": ".py",
   "mimetype": "text/x-python",
   "name": "python",
   "nbconvert_exporter": "python",
   "pygments_lexer": "ipython3",
   "version": "3.9.7"
  }
 },
 "nbformat": 4,
 "nbformat_minor": 5
}
