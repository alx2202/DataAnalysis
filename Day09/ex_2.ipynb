{
 "cells": [
  {
   "cell_type": "markdown",
   "id": "8ad5193c",
   "metadata": {},
   "source": [
    "# Exercise 2\n",
    "\n",
    "Create a simple, function based calculator\n",
    "1. Ask for 2 numbers\n",
    "2. Ask for operation: `(+, -, *, /)`\n",
    "3. Do the calculation and present results"
   ]
  },
  {
   "cell_type": "code",
   "execution_count": 4,
   "id": "9008c082",
   "metadata": {},
   "outputs": [],
   "source": [
    "def add(a, b):\n",
    "    return a + b\n",
    "\n",
    "def substract(a, b):\n",
    "    return a - b\n",
    "\n",
    "def multiply(a, b):\n",
    "    return a * b\n",
    "\n",
    "def divide(a, b):\n",
    "    return a / b"
   ]
  },
  {
   "cell_type": "code",
   "execution_count": 9,
   "id": "eef82402",
   "metadata": {},
   "outputs": [
    {
     "name": "stdout",
     "output_type": "stream",
     "text": [
      "Provide number 1: 10\n",
      "Provide number 2: 20\n",
      "Provide operation (+, -, *, /): %\n",
      "You have provided wrong operation.\n"
     ]
    }
   ],
   "source": [
    "number_1 = float(input('Provide number 1: '))\n",
    "number_2 = float(input('Provide number 2: '))\n",
    "operation = input('Provide operation (+, -, *, /): ')\n",
    "\n",
    "result = None\n",
    "\n",
    "if operation == '+':\n",
    "    result = add(number_1, number_2)\n",
    "elif operation == '-':\n",
    "    result = substract(number_1, number_2)\n",
    "elif operation == '*':\n",
    "    result = multiply(number_1, number_2)\n",
    "elif operation == '/':\n",
    "    result = divide(number_1, number_2)\n",
    "    \n",
    "if result is not None:\n",
    "    print(f\"{number_1}{operation}{number_2}={result}\")\n",
    "else:\n",
    "    print('You have provided wrong operation.')"
   ]
  },
  {
   "cell_type": "code",
   "execution_count": 8,
   "id": "f9f9819c",
   "metadata": {},
   "outputs": [
    {
     "name": "stdout",
     "output_type": "stream",
     "text": [
      "Python 3.9.7\r\n"
     ]
    }
   ],
   "source": [
    "!python --version"
   ]
  },
  {
   "cell_type": "markdown",
   "id": "05e14284",
   "metadata": {},
   "source": [
    "For Python 3.10+ we can use `match` statement instead of `if ... elif ...`\n",
    "\n",
    "```python\n",
    "match operation:\n",
    "    case '+':\n",
    "        result = add(number_1, number_2)\n",
    "    case '-':\n",
    "        result = substract(number_1, number_2)\n",
    "    case '*':\n",
    "        result = multiply(number_1, number_2)\n",
    "    case '/':\n",
    "        result = divide(number_1, number_2)     \n",
    "```"
   ]
  },
  {
   "cell_type": "markdown",
   "id": "86a3d32c",
   "metadata": {},
   "source": [
    "For this exercise we can use another approach for handling errors or in particular incorrect values provided by the user:\n",
    "- operation that we don't support, like `%`\n",
    "- input that can't be converted into `float`\n",
    "\n",
    "For that process we can use exception handling. It's quite often when a function is not able to perform it's operation, like convert `Piotr` to `float`, the function is raising an exception (it's an object of a special class / type - `Exception`).\n",
    "\n",
    "Once the exception is raised if we don't catch, don't handle this exception the program will crash and we'll see:\n",
    "```\n",
    "---------------------------------------------------------------------------\n",
    "ValueError                                Traceback (most recent call last)\n",
    "/var/folders/__/0gvd5dsj22b9cbv4hzvln3pw0000gn/T/ipykernel_93138/396317710.py in <module>\n",
    "----> 1 number_1 = float(input('Provide number 1: '))\n",
    "      2 number_2 = float(input('Provide number 2: '))\n",
    "      3 operation = input('Provide operation (+, -, *, /): ')\n",
    "      4 \n",
    "      5 result = None\n",
    "\n",
    "ValueError: could not convert string to float: 'Piotr'\n",
    "```\n",
    "\n",
    "We can handle exception by using `try ... except` block and we can do something if exception occurs. "
   ]
  },
  {
   "cell_type": "code",
   "execution_count": 12,
   "id": "74211463",
   "metadata": {},
   "outputs": [
    {
     "name": "stdout",
     "output_type": "stream",
     "text": [
      "Provide number 1: 10\n",
      "Provide number 2: 20\n",
      "Provide operation (+, -, *, /): %\n",
      "You have provided wrong operation.\n"
     ]
    }
   ],
   "source": [
    "try: \n",
    "    number_1 = float(input('Provide number 1: '))\n",
    "    number_2 = float(input('Provide number 2: '))\n",
    "    operation = input('Provide operation (+, -, *, /): ')\n",
    "\n",
    "    result = None\n",
    "\n",
    "    if operation == '+':\n",
    "        result = add(number_1, number_2)\n",
    "    elif operation == '-':\n",
    "        result = substract(number_1, number_2)\n",
    "    elif operation == '*':\n",
    "        result = multiply(number_1, number_2)\n",
    "    elif operation == '/':\n",
    "        result = divide(number_1, number_2)\n",
    "\n",
    "    if result is not None:\n",
    "        print(f\"{number_1}{operation}{number_2}={result}\")\n",
    "    else:\n",
    "        print('You have provided wrong operation.')\n",
    "except ValueError:\n",
    "    print('Sorry, you have provided wrong value.')"
   ]
  },
  {
   "cell_type": "code",
   "execution_count": 17,
   "id": "0639521f",
   "metadata": {},
   "outputs": [
    {
     "name": "stdout",
     "output_type": "stream",
     "text": [
      "Provide number 1: 10\n",
      "Provide number 2: 20\n",
      "Provide operation (+, -, *, /): +\n",
      "Sorry, you have provided wrong value.\n"
     ]
    }
   ],
   "source": [
    "try: \n",
    "    number_1 = float(input('Provide number 1: '))\n",
    "    number_2 = float(input('Provide number 2: '))\n",
    "    operation = input('Provide operation (+, -, *, /): ')\n",
    "\n",
    "    if operation == '+':\n",
    "        result = add(number_1, number_2)\n",
    "    elif operation == '-':\n",
    "        result = substract(number_1, number_2)\n",
    "    elif operation == '*':\n",
    "        result = multiply(number_1, number_2)\n",
    "    elif operation == '/':\n",
    "        result = divide(number_1, number_2)\n",
    "    else:\n",
    "        raise ValueError()\n",
    "\n",
    "    print(f\"{number_1}{operation}{number_2}={result}\")\n",
    "except ValueError:\n",
    "    print('Sorry, you have provided wrong value.')"
   ]
  },
  {
   "cell_type": "markdown",
   "id": "87e9be7b",
   "metadata": {},
   "source": [
    "Very often exception happens in one place of the code (like in a nested function) but we know how to handle this exception in the other place. "
   ]
  },
  {
   "cell_type": "code",
   "execution_count": 20,
   "id": "17054d5e",
   "metadata": {},
   "outputs": [
    {
     "name": "stdout",
     "output_type": "stream",
     "text": [
      "Provide number 1: 20\n",
      "Provide number 2: 30\n",
      "Provide operation (+, -, *, /): %\n",
      "Sorry, you have provided wrong value.\n"
     ]
    }
   ],
   "source": [
    "def calculate(number_1, number_2, operation):\n",
    "    if operation == '+':\n",
    "        result = add(number_1, number_2)\n",
    "    elif operation == '-':\n",
    "        result = substract(number_1, number_2)\n",
    "    elif operation == '*':\n",
    "        result = multiply(number_1, number_2)\n",
    "    elif operation == '/':\n",
    "        result = divide(number_1, number_2)\n",
    "    else:\n",
    "        raise ValueError()\n",
    "        \n",
    "    return result\n",
    "\n",
    "\n",
    "try: \n",
    "    number_1 = float(input('Provide number 1: '))\n",
    "    number_2 = float(input('Provide number 2: '))\n",
    "    operation = input('Provide operation (+, -, *, /): ')\n",
    "\n",
    "    result = calculate(number_1, number_2, operation)\n",
    "\n",
    "    print(f\"{number_1}{operation}{number_2}={result}\")\n",
    "except ValueError:\n",
    "    print('Sorry, you have provided wrong value.')"
   ]
  }
 ],
 "metadata": {
  "kernelspec": {
   "display_name": "Python 3.9.7 64-bit ('base': conda)",
   "language": "python",
   "name": "python397jvsc74a57bd040d3a090f54c6569ab1632332b64b2c03c39dcf918b08424e98f38b5ae0af88f"
  },
  "language_info": {
   "codemirror_mode": {
    "name": "ipython",
    "version": 3
   },
   "file_extension": ".py",
   "mimetype": "text/x-python",
   "name": "python",
   "nbconvert_exporter": "python",
   "pygments_lexer": "ipython3",
   "version": "3.9.7"
  }
 },
 "nbformat": 4,
 "nbformat_minor": 5
}
