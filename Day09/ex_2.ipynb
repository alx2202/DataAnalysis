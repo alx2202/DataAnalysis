{
 "cells": [
  {
   "cell_type": "markdown",
   "id": "aec27014",
   "metadata": {},
   "source": [
    "# Exercise 2\n",
    "\n",
    "Create a simple, function based calculator\n",
    "1. Ask for 2 numbers\n",
    "2. Ask for operation: `(+, -, *, /)`\n",
    "3. Do the calculation and present results"
   ]
  }
 ],
 "metadata": {
  "kernelspec": {
   "display_name": "Python 3.9.7 64-bit ('base': conda)",
   "language": "python",
   "name": "python397jvsc74a57bd040d3a090f54c6569ab1632332b64b2c03c39dcf918b08424e98f38b5ae0af88f"
  },
  "language_info": {
   "codemirror_mode": {
    "name": "ipython",
    "version": 3
   },
   "file_extension": ".py",
   "mimetype": "text/x-python",
   "name": "python",
   "nbconvert_exporter": "python",
   "pygments_lexer": "ipython3",
   "version": "3.9.7"
  }
 },
 "nbformat": 4,
 "nbformat_minor": 5
}
