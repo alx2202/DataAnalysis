{
 "cells": [
  {
   "cell_type": "markdown",
   "id": "c3778beb",
   "metadata": {},
   "source": [
    "# Functions\n",
    "\n",
    "We can think of functions as a piece of code that closed within a box, that can be executed later. Thank to that we don't have repeat ourselves and execute same code over and over again.\n",
    "\n",
    "DRY - Don't Repeat Yourself - if you have a need to copy/paste portion of the code there is a huge chance it should extracted to a function, which then you can call many times."
   ]
  },
  {
   "cell_type": "code",
   "execution_count": 2,
   "id": "01d16b06",
   "metadata": {},
   "outputs": [
    {
     "name": "stdout",
     "output_type": "stream",
     "text": [
      "Hello world!\n"
     ]
    }
   ],
   "source": [
    "# So far we've executing functions... a lot of them...\n",
    "print('Hello world!')  # function execution, FUNCTION_NAME(ARGUMENTS)"
   ]
  },
  {
   "cell_type": "code",
   "execution_count": 4,
   "id": "9f112921",
   "metadata": {},
   "outputs": [],
   "source": [
    "def say_hi():\n",
    "    print('Hi!')"
   ]
  },
  {
   "cell_type": "code",
   "execution_count": 7,
   "id": "31fa2f73",
   "metadata": {},
   "outputs": [
    {
     "name": "stdout",
     "output_type": "stream",
     "text": [
      "Hi!\n",
      "Hi!\n",
      "Hi!\n"
     ]
    }
   ],
   "source": [
    "say_hi()\n",
    "say_hi()\n",
    "say_hi()"
   ]
  },
  {
   "cell_type": "markdown",
   "id": "e74539e6",
   "metadata": {},
   "source": [
    "We should think about the body (code) of the function as something that is separated from the external code (although it's not). If my code needs some data to work properly I should rely on function arguments. I can define what data (what arguments) are needed for my code inside the function to work properly."
   ]
  },
  {
   "cell_type": "code",
   "execution_count": 8,
   "id": "25082180",
   "metadata": {},
   "outputs": [],
   "source": [
    "def say_hi_to_someone(first_name):\n",
    "    print(f\"Hello {first_name}!\")"
   ]
  },
  {
   "cell_type": "code",
   "execution_count": 10,
   "id": "10bacc2c",
   "metadata": {},
   "outputs": [
    {
     "ename": "TypeError",
     "evalue": "say_hi_to_someone() missing 1 required positional argument: 'first_name'",
     "output_type": "error",
     "traceback": [
      "\u001b[0;31m---------------------------------------------------------------------------\u001b[0m",
      "\u001b[0;31mTypeError\u001b[0m                                 Traceback (most recent call last)",
      "\u001b[0;32m/var/folders/__/0gvd5dsj22b9cbv4hzvln3pw0000gn/T/ipykernel_92093/3688293468.py\u001b[0m in \u001b[0;36m<module>\u001b[0;34m\u001b[0m\n\u001b[0;32m----> 1\u001b[0;31m \u001b[0msay_hi_to_someone\u001b[0m\u001b[0;34m(\u001b[0m\u001b[0;34m)\u001b[0m\u001b[0;34m\u001b[0m\u001b[0;34m\u001b[0m\u001b[0m\n\u001b[0m",
      "\u001b[0;31mTypeError\u001b[0m: say_hi_to_someone() missing 1 required positional argument: 'first_name'"
     ]
    }
   ],
   "source": [
    "# say_hi_to_someone()  # KO: TypeError: say_hi_to_someone() missing 1 required positional argument: 'first_name'"
   ]
  },
  {
   "cell_type": "code",
   "execution_count": 11,
   "id": "c1f62d17",
   "metadata": {},
   "outputs": [
    {
     "name": "stdout",
     "output_type": "stream",
     "text": [
      "Hello Piotr!\n"
     ]
    }
   ],
   "source": [
    "say_hi_to_someone('Piotr')"
   ]
  },
  {
   "cell_type": "code",
   "execution_count": 12,
   "id": "09cd7d35",
   "metadata": {},
   "outputs": [
    {
     "name": "stdout",
     "output_type": "stream",
     "text": [
      "Hello John!\n"
     ]
    }
   ],
   "source": [
    "say_hi_to_someone('John')"
   ]
  },
  {
   "cell_type": "code",
   "execution_count": 13,
   "id": "f664ed80",
   "metadata": {},
   "outputs": [
    {
     "name": "stdout",
     "output_type": "stream",
     "text": [
      "Hello Tom!\n"
     ]
    }
   ],
   "source": [
    "users_first_name = 'Tom'\n",
    "say_hi_to_someone(users_first_name)"
   ]
  },
  {
   "cell_type": "code",
   "execution_count": 15,
   "id": "7c030149",
   "metadata": {},
   "outputs": [],
   "source": [
    "def say_hi_to_someone2(first_name, last_name):\n",
    "    print(f\"Hello {first_name} {last_name}!\")"
   ]
  },
  {
   "cell_type": "code",
   "execution_count": 18,
   "id": "b04772f5",
   "metadata": {},
   "outputs": [
    {
     "name": "stdout",
     "output_type": "stream",
     "text": [
      "Hello Piotr GG!\n"
     ]
    }
   ],
   "source": [
    "say_hi_to_someone2('Piotr', 'GG')"
   ]
  },
  {
   "cell_type": "code",
   "execution_count": 19,
   "id": "8949240a",
   "metadata": {},
   "outputs": [],
   "source": [
    "def my_sum(a, b):\n",
    "    return a + b"
   ]
  },
  {
   "cell_type": "code",
   "execution_count": 21,
   "id": "30eb8340",
   "metadata": {},
   "outputs": [
    {
     "name": "stdout",
     "output_type": "stream",
     "text": [
      "30\n"
     ]
    }
   ],
   "source": [
    "result = my_sum(10, 20)\n",
    "print(result)"
   ]
  }
 ],
 "metadata": {
  "kernelspec": {
   "display_name": "Python 3.9.7 64-bit ('base': conda)",
   "language": "python",
   "name": "python397jvsc74a57bd040d3a090f54c6569ab1632332b64b2c03c39dcf918b08424e98f38b5ae0af88f"
  },
  "language_info": {
   "codemirror_mode": {
    "name": "ipython",
    "version": 3
   },
   "file_extension": ".py",
   "mimetype": "text/x-python",
   "name": "python",
   "nbconvert_exporter": "python",
   "pygments_lexer": "ipython3",
   "version": "3.9.7"
  }
 },
 "nbformat": 4,
 "nbformat_minor": 5
}
