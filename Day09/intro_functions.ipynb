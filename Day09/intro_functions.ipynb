{
 "cells": [
  {
   "cell_type": "markdown",
   "id": "0e341983",
   "metadata": {},
   "source": [
    "# Functions\n",
    "\n",
    "We can think of functions as a piece of code that closed within a box, that can be executed later. Thank to that we don't have repeat ourselves and execute same code over and over again.\n",
    "\n",
    "DRY - Don't Repeat Yourself - if you have a need to copy/paste portion of the code there is a huge chance it should extracted to a function, which then you can call many times."
   ]
  },
  {
   "cell_type": "code",
   "execution_count": 2,
   "id": "231a9faf",
   "metadata": {},
   "outputs": [
    {
     "name": "stdout",
     "output_type": "stream",
     "text": [
      "Hello world!\n"
     ]
    }
   ],
   "source": [
    "# So far we've executing functions... a lot of them...\n",
    "print('Hello world!')  # function execution, FUNCTION_NAME(ARGUMENTS)"
   ]
  },
  {
   "cell_type": "code",
   "execution_count": 4,
   "id": "afa39401",
   "metadata": {},
   "outputs": [],
   "source": [
    "def say_hi():\n",
    "    print('Hi!')"
   ]
  },
  {
   "cell_type": "code",
   "execution_count": 7,
   "id": "a79e464f",
   "metadata": {},
   "outputs": [
    {
     "name": "stdout",
     "output_type": "stream",
     "text": [
      "Hi!\n",
      "Hi!\n",
      "Hi!\n"
     ]
    }
   ],
   "source": [
    "say_hi()\n",
    "say_hi()\n",
    "say_hi()"
   ]
  },
  {
   "cell_type": "markdown",
   "id": "4d1ed511",
   "metadata": {},
   "source": [
    "We should think about the body (code) of the function as something that is separated from the external code (although it's not). If my code needs some data to work properly I should rely on function arguments. I can define what data (what arguments) are needed for my code inside the function to work properly."
   ]
  },
  {
   "cell_type": "code",
   "execution_count": 8,
   "id": "dfedf113",
   "metadata": {},
   "outputs": [],
   "source": [
    "def say_hi_to_someone(first_name):\n",
    "    print(f\"Hello {first_name}!\")"
   ]
  },
  {
   "cell_type": "code",
   "execution_count": 10,
   "id": "c09ee1c8",
   "metadata": {},
   "outputs": [
    {
     "ename": "TypeError",
     "evalue": "say_hi_to_someone() missing 1 required positional argument: 'first_name'",
     "output_type": "error",
     "traceback": [
      "\u001b[0;31m---------------------------------------------------------------------------\u001b[0m",
      "\u001b[0;31mTypeError\u001b[0m                                 Traceback (most recent call last)",
      "\u001b[0;32m/var/folders/__/0gvd5dsj22b9cbv4hzvln3pw0000gn/T/ipykernel_92093/3688293468.py\u001b[0m in \u001b[0;36m<module>\u001b[0;34m\u001b[0m\n\u001b[0;32m----> 1\u001b[0;31m \u001b[0msay_hi_to_someone\u001b[0m\u001b[0;34m(\u001b[0m\u001b[0;34m)\u001b[0m\u001b[0;34m\u001b[0m\u001b[0;34m\u001b[0m\u001b[0m\n\u001b[0m",
      "\u001b[0;31mTypeError\u001b[0m: say_hi_to_someone() missing 1 required positional argument: 'first_name'"
     ]
    }
   ],
   "source": [
    "# say_hi_to_someone()  # KO: TypeError: say_hi_to_someone() missing 1 required positional argument: 'first_name'"
   ]
  },
  {
   "cell_type": "code",
   "execution_count": 11,
   "id": "20f8cbfd",
   "metadata": {},
   "outputs": [
    {
     "name": "stdout",
     "output_type": "stream",
     "text": [
      "Hello Piotr!\n"
     ]
    }
   ],
   "source": [
    "say_hi_to_someone('Piotr')"
   ]
  },
  {
   "cell_type": "code",
   "execution_count": 12,
   "id": "50c25dc2",
   "metadata": {},
   "outputs": [
    {
     "name": "stdout",
     "output_type": "stream",
     "text": [
      "Hello John!\n"
     ]
    }
   ],
   "source": [
    "say_hi_to_someone('John')"
   ]
  },
  {
   "cell_type": "code",
   "execution_count": 13,
   "id": "9df318b5",
   "metadata": {},
   "outputs": [
    {
     "name": "stdout",
     "output_type": "stream",
     "text": [
      "Hello Tom!\n"
     ]
    }
   ],
   "source": [
    "users_first_name = 'Tom'\n",
    "say_hi_to_someone(users_first_name)"
   ]
  },
  {
   "cell_type": "code",
   "execution_count": 15,
   "id": "2d667dc9",
   "metadata": {},
   "outputs": [],
   "source": [
    "def say_hi_to_someone2(first_name, last_name):\n",
    "    print(f\"Hello {first_name} {last_name}!\")"
   ]
  },
  {
   "cell_type": "code",
   "execution_count": 18,
   "id": "4763647e",
   "metadata": {},
   "outputs": [
    {
     "name": "stdout",
     "output_type": "stream",
     "text": [
      "Hello Piotr GG!\n"
     ]
    }
   ],
   "source": [
    "say_hi_to_someone2('Piotr', 'GG')"
   ]
  },
  {
   "cell_type": "code",
   "execution_count": 19,
   "id": "39ea8795",
   "metadata": {},
   "outputs": [],
   "source": [
    "def my_sum(a, b):\n",
    "    return a + b"
   ]
  },
  {
   "cell_type": "code",
   "execution_count": 22,
   "id": "c7a800c2",
   "metadata": {},
   "outputs": [
    {
     "name": "stdout",
     "output_type": "stream",
     "text": [
      "30\n"
     ]
    }
   ],
   "source": [
    "result = my_sum(10, 20)\n",
    "print(result)"
   ]
  },
  {
   "cell_type": "markdown",
   "id": "3d6de1a2",
   "metadata": {},
   "source": [
    "When defining function arguments we can have mandatory, required arguments for which we must provide a value once executing the function and also we can have arguments, that are optional, can be provided but it's not a requirement and we can assing a default value for those arguments."
   ]
  },
  {
   "cell_type": "code",
   "execution_count": 24,
   "id": "92d01899",
   "metadata": {},
   "outputs": [],
   "source": [
    "def packer(text, prefix='>>', sufix='<<'):\n",
    "    return f\"{prefix}{text}{sufix}\""
   ]
  },
  {
   "cell_type": "code",
   "execution_count": 26,
   "id": "2a5cc835",
   "metadata": {},
   "outputs": [
    {
     "name": "stdout",
     "output_type": "stream",
     "text": [
      ">>Hello world!<<\n"
     ]
    }
   ],
   "source": [
    "print(packer('Hello world!'))"
   ]
  },
  {
   "cell_type": "code",
   "execution_count": 28,
   "id": "6fd24987",
   "metadata": {},
   "outputs": [],
   "source": [
    "# print(packer())  # KO: first one is required and doesn't have a default value, TypeError: packer() missing 1 required positional argument: 'text'"
   ]
  },
  {
   "cell_type": "code",
   "execution_count": 29,
   "id": "f10a3fbd",
   "metadata": {},
   "outputs": [
    {
     "name": "stdout",
     "output_type": "stream",
     "text": [
      "[[Hello world!<<\n"
     ]
    }
   ],
   "source": [
    "print(packer('Hello world!', '[['))"
   ]
  },
  {
   "cell_type": "code",
   "execution_count": 30,
   "id": "2afb306c",
   "metadata": {},
   "outputs": [
    {
     "name": "stdout",
     "output_type": "stream",
     "text": [
      "[[Hello world!]]\n"
     ]
    }
   ],
   "source": [
    "print(packer('Hello world!', '[[', ']]'))"
   ]
  },
  {
   "cell_type": "markdown",
   "id": "f1f29349",
   "metadata": {},
   "source": [
    "In which way we can provide values to function arguments? We have 3 ways to do so and to use:\n",
    "- positional arguments\n",
    "- named arguments\n",
    "- mix of positional and named arguments"
   ]
  },
  {
   "cell_type": "code",
   "execution_count": null,
   "id": "0b196531",
   "metadata": {},
   "outputs": [],
   "source": [
    "def packer(text, prefix='>>', sufix='<<'):\n",
    "    return f\"{prefix}{text}{sufix}\""
   ]
  },
  {
   "cell_type": "markdown",
   "id": "56e709f7",
   "metadata": {},
   "source": [
    "### Positional arguments\n",
    "\n",
    "The assignment between the value and corresponding argument is based on a position."
   ]
  },
  {
   "cell_type": "code",
   "execution_count": 32,
   "id": "c322085a",
   "metadata": {},
   "outputs": [
    {
     "name": "stdout",
     "output_type": "stream",
     "text": [
      ">>Hello world!<<\n",
      "[[Hello world!<<\n",
      "[[Hello world!]]\n"
     ]
    }
   ],
   "source": [
    "print(packer('Hello world!'))\n",
    "print(packer('Hello world!', '[['))\n",
    "print(packer('Hello world!', '[[', ']]'))"
   ]
  },
  {
   "cell_type": "markdown",
   "id": "36814002",
   "metadata": {},
   "source": [
    "### Named arguments\n",
    "\n",
    "We can do in any order we want, we can provide pais of argument name and its value."
   ]
  },
  {
   "cell_type": "code",
   "execution_count": 35,
   "id": "831d9490",
   "metadata": {},
   "outputs": [
    {
     "name": "stdout",
     "output_type": "stream",
     "text": [
      "[[Hello world!]]\n",
      "[[Hello world!]]\n",
      ">>Hello world!]]\n"
     ]
    }
   ],
   "source": [
    "print(packer(prefix='[[', text='Hello world!', sufix=']]'))\n",
    "print(packer(sufix=']]', prefix='[[', text='Hello world!'))\n",
    "print(packer(sufix=']]', text='Hello world!'))"
   ]
  },
  {
   "cell_type": "markdown",
   "id": "75b6403e",
   "metadata": {},
   "source": [
    "### Mix of positional and named arguments\n",
    "\n",
    "With this approach we must follow a rule: positional arguments first (in the order as they are in function definition) and then named arguments (in any order we want)."
   ]
  },
  {
   "cell_type": "code",
   "execution_count": 36,
   "id": "04acdf7b",
   "metadata": {},
   "outputs": [
    {
     "name": "stdout",
     "output_type": "stream",
     "text": [
      ">>Hello world]]\n"
     ]
    }
   ],
   "source": [
    "print(packer('Hello world', sufix=']]'))"
   ]
  },
  {
   "cell_type": "code",
   "execution_count": 39,
   "id": "136fb745",
   "metadata": {},
   "outputs": [
    {
     "name": "stdout",
     "output_type": "stream",
     "text": [
      "[[Hello world]]\n"
     ]
    }
   ],
   "source": [
    "print(packer('Hello world', '[[', sufix=']]'))"
   ]
  },
  {
   "cell_type": "code",
   "execution_count": 41,
   "id": "992ba235",
   "metadata": {},
   "outputs": [],
   "source": [
    "# print(packer(sufix=']]', 'Hello world', '[['))  # KO: SyntaxError: positional argument follows keyword argument"
   ]
  }
 ],
 "metadata": {
  "kernelspec": {
   "display_name": "Python 3.9.7 64-bit ('base': conda)",
   "language": "python",
   "name": "python397jvsc74a57bd040d3a090f54c6569ab1632332b64b2c03c39dcf918b08424e98f38b5ae0af88f"
  },
  "language_info": {
   "codemirror_mode": {
    "name": "ipython",
    "version": 3
   },
   "file_extension": ".py",
   "mimetype": "text/x-python",
   "name": "python",
   "nbconvert_exporter": "python",
   "pygments_lexer": "ipython3",
   "version": "3.9.7"
  }
 },
 "nbformat": 4,
 "nbformat_minor": 5
}
