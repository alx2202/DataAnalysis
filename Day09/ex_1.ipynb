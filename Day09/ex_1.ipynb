{
 "cells": [
  {
   "cell_type": "markdown",
   "id": "2bc17f85",
   "metadata": {},
   "source": [
    "# Exercise 1\n",
    "\n",
    "Write a programme that will read the log file with users activity in the system.\n",
    "Display the information of how much time user spent in the system as the sum of \n",
    "numbers read from the file.\n",
    "\n",
    "Time in the system:\n",
    "- user-1: 92 s\n",
    "- user-2: 51 s\n",
    "- user-3: 20 s\n",
    "\n",
    "How we can do it?\n",
    "- open the file in reading mode\n",
    "- we can use a for loop to iterate through all the lines in the file\n",
    "- .strip() will remove non-printable characters from the beginning and the end of the line\n",
    "- split the line (`split()`) by ';'\n",
    "\n",
    "To store the information about user and time spent in the system we can use dictionary (key = user name, value = number of seconds)"
   ]
  },
  {
   "cell_type": "code",
   "execution_count": 5,
   "id": "88e5a207",
   "metadata": {},
   "outputs": [
    {
     "name": "stdout",
     "output_type": "stream",
     "text": [
      "user-5 - 26065\n",
      "user-4 - 46198\n",
      "user-10 - 37595\n",
      "user-3 - 9301\n",
      "user-9 - 40589\n",
      "user-1 - 44501\n",
      "user-7 - 35360\n",
      "user-6 - 27717\n",
      "user-8 - 5731\n",
      "user-2 - 27958\n"
     ]
    }
   ],
   "source": [
    "total_time = {}\n",
    "\n",
    "with open('logs_simple.txt', 'r') as file_handle:\n",
    "    for line in file_handle:\n",
    "        # 'user-5;37\\n' -> strip('user-5;37\\n') -> 'user-5;37' -> split('user-5;37') -> ['user-5', '37']\n",
    "        user_name, time_spent = line.strip().split(';')\n",
    "        if user_name not in total_time:\n",
    "            total_time[user_name] = 0\n",
    "            \n",
    "        total_time[user_name] += int(time_spent)     \n",
    "        \n",
    "for user_name, time_spent in total_time.items():\n",
    "    print(f\"{user_name} - {time_spent}\")"
   ]
  },
  {
   "cell_type": "code",
   "execution_count": 7,
   "id": "eab80125",
   "metadata": {},
   "outputs": [
    {
     "data": {
      "text/plain": [
       "{'user-5': 26065,\n",
       " 'user-4': 46198,\n",
       " 'user-10': 37595,\n",
       " 'user-3': 9301,\n",
       " 'user-9': 40589,\n",
       " 'user-1': 44501,\n",
       " 'user-7': 35360,\n",
       " 'user-6': 27717,\n",
       " 'user-8': 5731,\n",
       " 'user-2': 27958}"
      ]
     },
     "execution_count": 7,
     "metadata": {},
     "output_type": "execute_result"
    }
   ],
   "source": [
    "total_time"
   ]
  },
  {
   "cell_type": "markdown",
   "id": "9867b4b6",
   "metadata": {},
   "source": [
    "I don't like the output where the users are not sorted.\n",
    "\n",
    "How we can sort those users?\n",
    "\n",
    "`total_time.sort()` -> this will not work as dictionary does not contain `.sort()` method, lists do.\n",
    "\n",
    "Any workaround? We can try to use `sorted(ITERABLE)` function. This function accepts any iterable as argument and returns the list of sorted elements from this iterable. "
   ]
  },
  {
   "cell_type": "code",
   "execution_count": 9,
   "id": "389e4a26",
   "metadata": {},
   "outputs": [
    {
     "data": {
      "text/plain": [
       "['user-1',\n",
       " 'user-10',\n",
       " 'user-2',\n",
       " 'user-3',\n",
       " 'user-4',\n",
       " 'user-5',\n",
       " 'user-6',\n",
       " 'user-7',\n",
       " 'user-8',\n",
       " 'user-9']"
      ]
     },
     "execution_count": 9,
     "metadata": {},
     "output_type": "execute_result"
    }
   ],
   "source": [
    "sorted(total_time)"
   ]
  },
  {
   "cell_type": "code",
   "execution_count": 10,
   "id": "ce4f1889",
   "metadata": {
    "scrolled": true
   },
   "outputs": [
    {
     "name": "stdout",
     "output_type": "stream",
     "text": [
      "user-1 - 44501\n",
      "user-10 - 37595\n",
      "user-2 - 27958\n",
      "user-3 - 9301\n",
      "user-4 - 46198\n",
      "user-5 - 26065\n",
      "user-6 - 27717\n",
      "user-7 - 35360\n",
      "user-8 - 5731\n",
      "user-9 - 40589\n"
     ]
    }
   ],
   "source": [
    "for user_name in sorted(total_time):\n",
    "    print(f\"{user_name} - {total_time[user_name]}\")"
   ]
  },
  {
   "cell_type": "markdown",
   "id": "08444d58",
   "metadata": {},
   "source": [
    "Still we have issues with `user-10` which is not sorted correctly. That's a standard behaviour of sorting strings in python but there is a way to sort those user names better. \n",
    "\n",
    "For that we can use external library [natsort](https://pypi.org/project/natsort/).\n",
    "\n",
    "To install external libraries we have to find the name of the library (google...) and then we can use [pypi](https://pypi.org/) to get the proper library.\n",
    "\n",
    "Once we know the name of the library we want to install we can use `pip` (python install package) tool to install particular library within virtual environment.\n",
    "\n",
    "If we want to execute any console command (including `pip`) we have to start the code cell with `!`."
   ]
  },
  {
   "cell_type": "code",
   "execution_count": 11,
   "id": "3425bd75",
   "metadata": {},
   "outputs": [
    {
     "name": "stdout",
     "output_type": "stream",
     "text": [
      "Requirement already satisfied: natsort in /opt/anaconda3/lib/python3.9/site-packages (8.2.0)\r\n"
     ]
    }
   ],
   "source": [
    "!pip install natsort"
   ]
  },
  {
   "cell_type": "code",
   "execution_count": 13,
   "id": "61d42e04",
   "metadata": {},
   "outputs": [
    {
     "data": {
      "text/plain": [
       "['user-1',\n",
       " 'user-2',\n",
       " 'user-3',\n",
       " 'user-4',\n",
       " 'user-5',\n",
       " 'user-6',\n",
       " 'user-7',\n",
       " 'user-8',\n",
       " 'user-9',\n",
       " 'user-10']"
      ]
     },
     "execution_count": 13,
     "metadata": {},
     "output_type": "execute_result"
    }
   ],
   "source": [
    "from natsort import natsorted\n",
    "\n",
    "natsorted(total_time)"
   ]
  },
  {
   "cell_type": "code",
   "execution_count": 15,
   "id": "de0e412b",
   "metadata": {},
   "outputs": [
    {
     "name": "stdout",
     "output_type": "stream",
     "text": [
      "user-1 - 44501\n",
      "user-2 - 27958\n",
      "user-3 - 9301\n",
      "user-4 - 46198\n",
      "user-5 - 26065\n",
      "user-6 - 27717\n",
      "user-7 - 35360\n",
      "user-8 - 5731\n",
      "user-9 - 40589\n",
      "user-10 - 37595\n"
     ]
    }
   ],
   "source": [
    "for user_name in natsorted(total_time):\n",
    "    print(f\"{user_name} - {total_time[user_name]}\")"
   ]
  },
  {
   "cell_type": "code",
   "execution_count": 17,
   "id": "99ab3543",
   "metadata": {},
   "outputs": [
    {
     "data": {
      "text/plain": [
       "{'user-5': 26065,\n",
       " 'user-4': 46198,\n",
       " 'user-10': 37595,\n",
       " 'user-3': 9301,\n",
       " 'user-9': 40589,\n",
       " 'user-1': 44501,\n",
       " 'user-7': 35360,\n",
       " 'user-6': 27717,\n",
       " 'user-8': 5731,\n",
       " 'user-2': 27958}"
      ]
     },
     "execution_count": 17,
     "metadata": {},
     "output_type": "execute_result"
    }
   ],
   "source": [
    "total_time"
   ]
  },
  {
   "cell_type": "code",
   "execution_count": 18,
   "id": "025e4cb5",
   "metadata": {},
   "outputs": [],
   "source": [
    "import pandas as pd"
   ]
  },
  {
   "cell_type": "code",
   "execution_count": 20,
   "id": "086cb7ec",
   "metadata": {},
   "outputs": [
    {
     "data": {
      "text/html": [
       "<div>\n",
       "<style scoped>\n",
       "    .dataframe tbody tr th:only-of-type {\n",
       "        vertical-align: middle;\n",
       "    }\n",
       "\n",
       "    .dataframe tbody tr th {\n",
       "        vertical-align: top;\n",
       "    }\n",
       "\n",
       "    .dataframe thead th {\n",
       "        text-align: right;\n",
       "    }\n",
       "</style>\n",
       "<table border=\"1\" class=\"dataframe\">\n",
       "  <thead>\n",
       "    <tr style=\"text-align: right;\">\n",
       "      <th></th>\n",
       "      <th>total_time</th>\n",
       "    </tr>\n",
       "  </thead>\n",
       "  <tbody>\n",
       "    <tr>\n",
       "      <th>user-5</th>\n",
       "      <td>26065</td>\n",
       "    </tr>\n",
       "    <tr>\n",
       "      <th>user-4</th>\n",
       "      <td>46198</td>\n",
       "    </tr>\n",
       "    <tr>\n",
       "      <th>user-10</th>\n",
       "      <td>37595</td>\n",
       "    </tr>\n",
       "    <tr>\n",
       "      <th>user-3</th>\n",
       "      <td>9301</td>\n",
       "    </tr>\n",
       "    <tr>\n",
       "      <th>user-9</th>\n",
       "      <td>40589</td>\n",
       "    </tr>\n",
       "    <tr>\n",
       "      <th>user-1</th>\n",
       "      <td>44501</td>\n",
       "    </tr>\n",
       "    <tr>\n",
       "      <th>user-7</th>\n",
       "      <td>35360</td>\n",
       "    </tr>\n",
       "    <tr>\n",
       "      <th>user-6</th>\n",
       "      <td>27717</td>\n",
       "    </tr>\n",
       "    <tr>\n",
       "      <th>user-8</th>\n",
       "      <td>5731</td>\n",
       "    </tr>\n",
       "    <tr>\n",
       "      <th>user-2</th>\n",
       "      <td>27958</td>\n",
       "    </tr>\n",
       "  </tbody>\n",
       "</table>\n",
       "</div>"
      ],
      "text/plain": [
       "         total_time\n",
       "user-5        26065\n",
       "user-4        46198\n",
       "user-10       37595\n",
       "user-3         9301\n",
       "user-9        40589\n",
       "user-1        44501\n",
       "user-7        35360\n",
       "user-6        27717\n",
       "user-8         5731\n",
       "user-2        27958"
      ]
     },
     "execution_count": 20,
     "metadata": {},
     "output_type": "execute_result"
    }
   ],
   "source": [
    "df = pd.DataFrame({\n",
    "    'total_time': total_time.values()\n",
    "}, index=total_time.keys())\n",
    "df"
   ]
  },
  {
   "cell_type": "code",
   "execution_count": 23,
   "id": "f6f08343",
   "metadata": {
    "scrolled": true
   },
   "outputs": [
    {
     "data": {
      "text/plain": [
       "44501"
      ]
     },
     "execution_count": 23,
     "metadata": {},
     "output_type": "execute_result"
    }
   ],
   "source": [
    "df.loc['user-1', 'total_time']"
   ]
  },
  {
   "cell_type": "code",
   "execution_count": 24,
   "id": "d4f57ee1",
   "metadata": {},
   "outputs": [
    {
     "data": {
      "text/plain": [
       "(30101.5, 5731, 46198, 301015)"
      ]
     },
     "execution_count": 24,
     "metadata": {},
     "output_type": "execute_result"
    }
   ],
   "source": [
    "df['total_time'].mean(), df['total_time'].min(), df['total_time'].max(), df['total_time'].sum()"
   ]
  }
 ],
 "metadata": {
  "kernelspec": {
   "display_name": "Python 3.9.7 64-bit ('base': conda)",
   "language": "python",
   "name": "python397jvsc74a57bd040d3a090f54c6569ab1632332b64b2c03c39dcf918b08424e98f38b5ae0af88f"
  },
  "language_info": {
   "codemirror_mode": {
    "name": "ipython",
    "version": 3
   },
   "file_extension": ".py",
   "mimetype": "text/x-python",
   "name": "python",
   "nbconvert_exporter": "python",
   "pygments_lexer": "ipython3",
   "version": "3.9.7"
  }
 },
 "nbformat": 4,
 "nbformat_minor": 5
}
