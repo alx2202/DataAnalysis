{
 "cells": [
  {
   "cell_type": "markdown",
   "id": "04e447ef",
   "metadata": {},
   "source": [
    "# Exercise 1\n",
    "\n",
    "Write a programme that will read the log file with users activity in the system.\n",
    "Display the information of how much time user spent in the system as the sum of \n",
    "numbers read from the file.\n",
    "\n",
    "Time in the system:\n",
    "- user-1: 92 s\n",
    "- user-2: 51 s\n",
    "- user-3: 20 s\n",
    "\n",
    "How we can do it?\n",
    "- open the file in reading mode\n",
    "- we can use a for loop to iterate through all the lines in the file\n",
    "- .strip() will remove non-printable characters from the beginning and the end of the line\n",
    "- split the line (`split()`) by ';'\n",
    "\n",
    "To store the information about user and time spent in the system we can use dictionary (key = user name, value = number of seconds)"
   ]
  }
 ],
 "metadata": {
  "kernelspec": {
   "display_name": "Python 3.9.7 64-bit ('base': conda)",
   "language": "python",
   "name": "python397jvsc74a57bd040d3a090f54c6569ab1632332b64b2c03c39dcf918b08424e98f38b5ae0af88f"
  },
  "language_info": {
   "codemirror_mode": {
    "name": "ipython",
    "version": 3
   },
   "file_extension": ".py",
   "mimetype": "text/x-python",
   "name": "python",
   "nbconvert_exporter": "python",
   "pygments_lexer": "ipython3",
   "version": "3.9.7"
  }
 },
 "nbformat": 4,
 "nbformat_minor": 5
}
