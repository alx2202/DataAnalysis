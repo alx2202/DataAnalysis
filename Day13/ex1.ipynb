{
 "cells": [
  {
   "cell_type": "markdown",
   "id": "195d34e6",
   "metadata": {},
   "source": [
    "# Exercise 1\n",
    "\n",
    "Extract from `urls.txt` file unique domain names."
   ]
  },
  {
   "cell_type": "markdown",
   "id": "db6ff285",
   "metadata": {},
   "source": [
    "### Notes on reading files\n",
    "\n",
    "If we're reading a file in a line-by-line mode, new line character `\\n` is added to the string we are getting from the file. Most often we'd like to remove this new line character. We can use `.strip()` method on a string that removes all non-printable characters from the beginning and the end of the file.\n",
    "\n",
    "### Structure of the URL\n",
    "\n",
    "```\n",
    "http://www.toothpaste.ch/fr_ch/519/netuschil?param=value\n",
    "```\n",
    "\n",
    "```\n",
    "<protocol>://<domain>/<path>?<query_string>\n",
    "```\n",
    "\n",
    "- protocol: `http`, `https`\n",
    "\n",
    "### What our regular expression can look like\n",
    "\n",
    "```\n",
    "^https?://(www\\.)?([^/]+)/.*\n",
    "```\n",
    "\n",
    "\n",
    "```\n",
    "^(http|https)://(www\\.)?([^/]+)/.*\n",
    "```\n",
    "\n",
    "### How to sort a set?\n",
    "\n",
    "Set by itself can't be sorted but we can user `sorted()` function that accepts argument any collection and returns a sorted list of elements from this collection."
   ]
  },
  {
   "cell_type": "code",
   "execution_count": 10,
   "id": "a28680b1",
   "metadata": {},
   "outputs": [
    {
     "name": "stdout",
     "output_type": "stream",
     "text": [
      "dentalcare.be\n",
      "dentalcare.ch\n",
      "dentalcare.co.uk\n",
      "dentalcare.com.gr\n",
      "dentalcare.com.tr\n",
      "dentalcare.dk\n",
      "dentalcare.es\n",
      "dentalcare.fi\n",
      "dentalcare.fr\n",
      "dentalcare.it\n",
      "dentalcare.nl\n",
      "dentalcare.no\n",
      "dentalcare.pt\n",
      "dentalcare.ro\n",
      "dentalcare.ru\n",
      "dentalcare.se\n",
      "dentalcareabc.ru\n",
      "dentalcareeasy.ch\n",
      "dentalcareeasy.com.fr\n",
      "dentalcareeasy.com.pl\n",
      "dentalcareeasy.de\n",
      "dentalcareeasy.gr\n",
      "dentalcareeasy.it\n",
      "dentalcareeasy.nl\n",
      "dentalcaremax.co.uk\n",
      "dentalcaremax.ie\n",
      "dentalcarestore.co.uk\n",
      "dentalguard.de\n",
      "dentifrice.fr\n",
      "dentifriceeasyprotect.com\n",
      "dentifricemax.be\n",
      "dentifricemaxspa.ch\n",
      "dentifricemaxspa.com.pt\n",
      "past.ch\n",
      "smile.ro\n",
      "toothpaste.ch\n",
      "toothpaste.com\n",
      "toothpaste.fi\n"
     ]
    }
   ],
   "source": [
    "import re\n",
    "\n",
    "with open('urls.txt', encoding='utf-8') as file_handler:\n",
    "    domains = set()\n",
    "    for line in file_handler:\n",
    "        address = line.strip().lower()\n",
    "        domain = re.search(r'^(http|https)://(www\\.)?([^/]+)/.*', address)\n",
    "        domains.add(domain.group(3))\n",
    "    \n",
    "    for domain in sorted(domains):\n",
    "        print(domain)"
   ]
  },
  {
   "cell_type": "code",
   "execution_count": null,
   "id": "ac71d3aa",
   "metadata": {},
   "outputs": [],
   "source": []
  }
 ],
 "metadata": {
  "kernelspec": {
   "display_name": "Python 3.9.7 64-bit ('base': conda)",
   "language": "python",
   "name": "python397jvsc74a57bd040d3a090f54c6569ab1632332b64b2c03c39dcf918b08424e98f38b5ae0af88f"
  },
  "language_info": {
   "codemirror_mode": {
    "name": "ipython",
    "version": 3
   },
   "file_extension": ".py",
   "mimetype": "text/x-python",
   "name": "python",
   "nbconvert_exporter": "python",
   "pygments_lexer": "ipython3",
   "version": "3.9.7"
  }
 },
 "nbformat": 4,
 "nbformat_minor": 5
}
