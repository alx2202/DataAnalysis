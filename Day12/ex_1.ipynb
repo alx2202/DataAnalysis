{
 "cells": [
  {
   "cell_type": "markdown",
   "id": "a1d9404e",
   "metadata": {},
   "source": [
    "# Exercise 1\n",
    "\n",
    "Find all occurences of dates in the text (format `YYYY-MM-DD`) and reformat those dates to `DD.MM.YYYY` and print the result."
   ]
  },
  {
   "cell_type": "code",
   "execution_count": 1,
   "id": "3499aee8",
   "metadata": {},
   "outputs": [],
   "source": [
    "import re"
   ]
  },
  {
   "cell_type": "code",
   "execution_count": 2,
   "id": "a0aff06d",
   "metadata": {},
   "outputs": [
    {
     "name": "stdout",
     "output_type": "stream",
     "text": [
      "Pierwszą bitwą na terenie *Belgii* było oblężenie Liege w dniach 1914-10-05 - 1914-10-09. Po upadku Liege większość sił belgijskich wykonała odwrót w kierunku Antwerpii i Namuru. *Wojska niemieckie* w swoim marszu na teren Francji ominęły armię belgijską, która jednak stanowiła teraz poważne zagrożenie dla ich skrzydła, z którego to powodu miasto Namur było oblegane przez Niemców od 1914-10-20 do 1914-10-23.\n"
     ]
    }
   ],
   "source": [
    "text = 'Pierwszą bitwą na terenie *Belgii* było oblężenie Liege w dniach 1914-10-05 - 1914-10-09. Po upadku Liege większość sił belgijskich wykonała odwrót w kierunku Antwerpii i Namuru. *Wojska niemieckie* w swoim marszu na teren Francji ominęły armię belgijską, która jednak stanowiła teraz poważne zagrożenie dla ich skrzydła, z którego to powodu miasto Namur było oblegane przez Niemców od 1914-10-20 do 1914-10-23.'\n",
    "print(text)"
   ]
  },
  {
   "cell_type": "code",
   "execution_count": 5,
   "id": "8687ef10",
   "metadata": {},
   "outputs": [
    {
     "data": {
      "text/plain": [
       "'Pierwszą bitwą na terenie *Belgii* było oblężenie Liege w dniach 05.10.1914 - 09.10.1914. Po upadku Liege większość sił belgijskich wykonała odwrót w kierunku Antwerpii i Namuru. *Wojska niemieckie* w swoim marszu na teren Francji ominęły armię belgijską, która jednak stanowiła teraz poważne zagrożenie dla ich skrzydła, z którego to powodu miasto Namur było oblegane przez Niemców od 20.10.1914 do 23.10.1914.'"
      ]
     },
     "execution_count": 5,
     "metadata": {},
     "output_type": "execute_result"
    }
   ],
   "source": [
    "new_text = re.sub(r'(\\d{4})-(\\d{2})-(\\d{2})', r'\\3.\\2.\\1', text)\n",
    "new_text"
   ]
  }
 ],
 "metadata": {
  "kernelspec": {
   "display_name": "Python 3.9.7 64-bit ('base': conda)",
   "language": "python",
   "name": "python397jvsc74a57bd040d3a090f54c6569ab1632332b64b2c03c39dcf918b08424e98f38b5ae0af88f"
  },
  "language_info": {
   "codemirror_mode": {
    "name": "ipython",
    "version": 3
   },
   "file_extension": ".py",
   "mimetype": "text/x-python",
   "name": "python",
   "nbconvert_exporter": "python",
   "pygments_lexer": "ipython3",
   "version": "3.9.7"
  }
 },
 "nbformat": 4,
 "nbformat_minor": 5
}
