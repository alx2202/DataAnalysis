{
 "cells": [
  {
   "cell_type": "markdown",
   "id": "b36312fe",
   "metadata": {},
   "source": [
    "# Regular expressions\n",
    "\n",
    "[Great tool for testing regular expressions - regex101.com](https://regex101.com/)\n",
    "\n",
    "[Regular expressions on realpython (paid)](https://realpython.com/lessons/fun-further-reading/)\n",
    "\n",
    "What tokens we can use with regular expression:\n",
    "- `\\d` - digit\n",
    "- `\\D` - not a digit - applies to other tokens as well\n",
    "- `\\s` - whitespace character, like space, tab, new line\n",
    "- `\\w` - matches a-z, A-Z, 0-9, _\n",
    "- `^` - start of the string\n",
    "- `$` - end of the string\n",
    "- `[]` - character class - match a single character from a given set of characters\n",
    "- `.` - matches any character\n",
    "\n",
    "All the token above refer to one, singular character. To have match to several characters (based on the tokens above) we can use multiplicity:\n",
    "- `{X}` - the character before needs to be repeated exactly X times\n",
    "- `{X,}` - the character before needs to be repeated at least X times\n",
    "- `{X,Y}` - the character before needs to be repeated between X and Y times\n",
    "\n",
    "we have some shortcuts for creating common multiplicities:\n",
    "- `*` = `{0,}`\n",
    "- `+` = `{1,}`\n",
    "- `?` = `{0,1}`\n",
    "\n",
    "If we want to look for a character that has a special meaning in regular expressions we have to escape this character using `\\`, for example `\\.`.\n",
    "\n",
    "If we want to combine several regular expressions together we can use `|`.\n",
    "\n",
    "We can use `()` for groupping which will be useful when dealing with substitutions. Each capturing group, defined by `()` will allow us to use this portion of a matched text when replacing it with something else. We can referer to capturing group by `\\X` - (X - number of `()` pair).\n",
    "\n",
    "In python we have `re` module for handling regular expressions. [Docs](https://docs.python.org/3/library/re.html)\n",
    "\n",
    "What is available:\n",
    "- `.findall()` - return all non-overlapping matches of pattern in string, as a list of strings or tuples.\n",
    "- `.finditer()` - matches are returned one by one, in contrast to `findall` where we get all matches at one, better when dealing with huge texts. Instead of a list returns Match object for each match.\n",
    "- `.search()` - returns the first occurence\n",
    "- `.match()` - if zero or more characters at the beginning of string match the regular expression pattern, return a corresponding match object.\n",
    "- `.sub()` - we can look for matches as in the regular expression and replace it with something different.\n",
    "- `.split()` - we can split a string by a regular expresssion - is similar to string `.split()` method but we have possibility to use regular expression to split a string into parts."
   ]
  },
  {
   "cell_type": "code",
   "execution_count": 1,
   "id": "000bcf51",
   "metadata": {},
   "outputs": [],
   "source": [
    "import re"
   ]
  },
  {
   "cell_type": "code",
   "execution_count": 2,
   "id": "93edb645",
   "metadata": {},
   "outputs": [],
   "source": [
    "text = \"\"\"To be or not to be.\n",
    "ab-abc\n",
    "31-123\n",
    "00-123\n",
    "41-422\n",
    "123123123-123123123123\n",
    "1a\n",
    "1b\n",
    "1c\n",
    "2a\n",
    "3b\n",
    "4a\n",
    "13a\n",
    "\"\"\""
   ]
  },
  {
   "cell_type": "code",
   "execution_count": 4,
   "id": "8b95ff2e",
   "metadata": {},
   "outputs": [
    {
     "data": {
      "text/plain": [
       "['31-123', '00-123', '41-422', '23-123']"
      ]
     },
     "execution_count": 4,
     "metadata": {},
     "output_type": "execute_result"
    }
   ],
   "source": [
    "matches = re.findall(r'\\d{2}-\\d{3}', text)\n",
    "matches"
   ]
  },
  {
   "cell_type": "code",
   "execution_count": 6,
   "id": "17beceab",
   "metadata": {},
   "outputs": [
    {
     "data": {
      "text/plain": [
       "[('31', '123'), ('00', '123'), ('41', '422'), ('23', '123')]"
      ]
     },
     "execution_count": 6,
     "metadata": {},
     "output_type": "execute_result"
    }
   ],
   "source": [
    "matches = re.findall(r'(\\d{2})-(\\d{3})', text)\n",
    "matches"
   ]
  },
  {
   "cell_type": "code",
   "execution_count": 9,
   "id": "d25de5ba",
   "metadata": {},
   "outputs": [
    {
     "name": "stdout",
     "output_type": "stream",
     "text": [
      "<re.Match object; span=(27, 33), match='31-123'> 31-123 31\n",
      "<re.Match object; span=(34, 40), match='00-123'> 00-123 00\n",
      "<re.Match object; span=(41, 47), match='41-422'> 41-422 41\n",
      "<re.Match object; span=(55, 61), match='23-123'> 23-123 23\n"
     ]
    }
   ],
   "source": [
    "for match in re.finditer(r'(\\d{2})-(\\d{3})', text):\n",
    "    print(match, match.group(0), match.group(1))"
   ]
  },
  {
   "cell_type": "code",
   "execution_count": 12,
   "id": "43f43880",
   "metadata": {},
   "outputs": [
    {
     "name": "stdout",
     "output_type": "stream",
     "text": [
      "To be or not to be.\n",
      "ab-abc\n",
      "31-123\n",
      "00-123\n",
      "41-422\n",
      "123123123-123123123123\n",
      "1a\n",
      "1b\n",
      "1c\n",
      "2a\n",
      "3b\n",
      "4a\n",
      "13a\n",
      "\n",
      "To be or not to be.\n",
      "ab-abc\n",
      "123-31\n",
      "123-00\n",
      "422-41\n",
      "1231231123-23123123123\n",
      "1a\n",
      "1b\n",
      "1c\n",
      "2a\n",
      "3b\n",
      "4a\n",
      "13a\n",
      "\n"
     ]
    }
   ],
   "source": [
    "new_text = re.sub(r'(\\d{2})-(\\d{3})', r'\\2-\\1', text)\n",
    "print(text)\n",
    "print(new_text)"
   ]
  }
 ],
 "metadata": {
  "kernelspec": {
   "display_name": "Python 3.9.7 64-bit ('base': conda)",
   "language": "python",
   "name": "python397jvsc74a57bd040d3a090f54c6569ab1632332b64b2c03c39dcf918b08424e98f38b5ae0af88f"
  },
  "language_info": {
   "codemirror_mode": {
    "name": "ipython",
    "version": 3
   },
   "file_extension": ".py",
   "mimetype": "text/x-python",
   "name": "python",
   "nbconvert_exporter": "python",
   "pygments_lexer": "ipython3",
   "version": "3.9.7"
  }
 },
 "nbformat": 4,
 "nbformat_minor": 5
}
