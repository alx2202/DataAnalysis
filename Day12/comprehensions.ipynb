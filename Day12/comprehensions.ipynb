{
 "cells": [
  {
   "cell_type": "markdown",
   "id": "63b0bb88",
   "metadata": {},
   "source": [
    "# Comprehensions\n",
    "\n",
    "One line expression that will allow us to create lists, dictionaries and sets.\n",
    "\n",
    "```\n",
    "[EXPRESSION for VARIABLE in ITERABLE]\n",
    "```\n",
    "\n",
    "I'm iterating through ITERABLE, each element from the ITERABLE is available in VARIABLE and the result of the EXPRESSION (that can use VARIABLE) will be appended/added to the list.\n",
    "\n",
    "It's very convenient for simple transformations, operations. \n",
    "\n",
    "We should avoid using comprehensions when the enclosed logic is bigger and the code becames less readable.\n",
    "\n",
    "We have several types of comprehensions, for:\n",
    "- lists\n",
    "- dictionaries (dict)\n",
    "- sets \n",
    "- generators - we don't have tuple comprehensions (`()`) - this expression will create generator. Generators emit elements in lazy way."
   ]
  },
  {
   "cell_type": "markdown",
   "id": "edf6df92",
   "metadata": {},
   "source": [
    "## list comprehensions"
   ]
  },
  {
   "cell_type": "code",
   "execution_count": 3,
   "id": "699843d1",
   "metadata": {},
   "outputs": [
    {
     "data": {
      "text/plain": [
       "[0, 10, 20, 30, 40, 50, 60, 70, 80, 90, 100]"
      ]
     },
     "execution_count": 3,
     "metadata": {},
     "output_type": "execute_result"
    }
   ],
   "source": [
    "numbers = []\n",
    "for number in range(0, 11):\n",
    "    numbers.append(number * 10)\n",
    "numbers"
   ]
  },
  {
   "cell_type": "code",
   "execution_count": 4,
   "id": "8ae64251",
   "metadata": {},
   "outputs": [
    {
     "data": {
      "text/plain": [
       "[0, 10, 20, 30, 40, 50, 60, 70, 80, 90, 100]"
      ]
     },
     "execution_count": 4,
     "metadata": {},
     "output_type": "execute_result"
    }
   ],
   "source": [
    "# the same result but achieved with list comprehensions\n",
    "numbers = [number * 10 for number in range(0, 11)]\n",
    "numbers"
   ]
  },
  {
   "cell_type": "markdown",
   "id": "de998168",
   "metadata": {},
   "source": [
    "## set comprehensions"
   ]
  },
  {
   "cell_type": "code",
   "execution_count": 6,
   "id": "88b28af3",
   "metadata": {},
   "outputs": [
    {
     "data": {
      "text/plain": [
       "({' ', 'T', 'b', 'e', 'n', 'o', 'r', 't'}, set)"
      ]
     },
     "execution_count": 6,
     "metadata": {},
     "output_type": "execute_result"
    }
   ],
   "source": [
    "my_string = \"To be or not to be\"\n",
    "characters = {character for character in my_string}\n",
    "characters, type(characters)"
   ]
  },
  {
   "cell_type": "code",
   "execution_count": 7,
   "id": "e23f8451",
   "metadata": {},
   "outputs": [
    {
     "data": {
      "text/plain": [
       "{' ', 'T', 'b', 'e', 'n', 'o', 'r', 't'}"
      ]
     },
     "execution_count": 7,
     "metadata": {},
     "output_type": "execute_result"
    }
   ],
   "source": [
    "my_string = \"To be or not to be\"\n",
    "characters = set()\n",
    "for character in my_string:\n",
    "    characters.add(character)\n",
    "    \n",
    "characters"
   ]
  },
  {
   "cell_type": "markdown",
   "id": "8e7e0049",
   "metadata": {},
   "source": [
    "## dict comprehensions"
   ]
  },
  {
   "cell_type": "code",
   "execution_count": 9,
   "id": "71253563",
   "metadata": {},
   "outputs": [
    {
     "data": {
      "text/plain": [
       "({'T': 1, 'o': 4, ' ': 5, 'b': 2, 'e': 2, 'r': 1, 'n': 1, 't': 2}, dict)"
      ]
     },
     "execution_count": 9,
     "metadata": {},
     "output_type": "execute_result"
    }
   ],
   "source": [
    "my_string = \"To be or not to be\"\n",
    "letter_mapping = dict()\n",
    "for letter in my_string:\n",
    "    letter_mapping[letter] = my_string.count(letter)\n",
    "letter_mapping, type(letter_mapping)"
   ]
  },
  {
   "cell_type": "code",
   "execution_count": 10,
   "id": "b8835ec4",
   "metadata": {},
   "outputs": [
    {
     "data": {
      "text/plain": [
       "({'T': 1, 'o': 4, ' ': 5, 'b': 2, 'e': 2, 'r': 1, 'n': 1, 't': 2}, dict)"
      ]
     },
     "execution_count": 10,
     "metadata": {},
     "output_type": "execute_result"
    }
   ],
   "source": [
    "my_string = \"To be or not to be\"\n",
    "letter_mapping = {letter: my_string.count(letter) for letter in my_string}\n",
    "letter_mapping, type(letter_mapping)"
   ]
  }
 ],
 "metadata": {
  "kernelspec": {
   "display_name": "Python 3.9.7 64-bit ('base': conda)",
   "language": "python",
   "name": "python397jvsc74a57bd040d3a090f54c6569ab1632332b64b2c03c39dcf918b08424e98f38b5ae0af88f"
  },
  "language_info": {
   "codemirror_mode": {
    "name": "ipython",
    "version": 3
   },
   "file_extension": ".py",
   "mimetype": "text/x-python",
   "name": "python",
   "nbconvert_exporter": "python",
   "pygments_lexer": "ipython3",
   "version": "3.9.7"
  }
 },
 "nbformat": 4,
 "nbformat_minor": 5
}
