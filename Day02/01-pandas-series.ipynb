{
 "cells": [
  {
   "cell_type": "code",
   "execution_count": 1,
   "id": "122c410a",
   "metadata": {},
   "outputs": [],
   "source": [
    "import pandas as pd"
   ]
  },
  {
   "cell_type": "code",
   "execution_count": 3,
   "id": "afefa4a7",
   "metadata": {},
   "outputs": [
    {
     "data": {
      "text/plain": [
       "0     Warsaw\n",
       "1     Gdańsk\n",
       "2     Kraków\n",
       "3     Poznan\n",
       "4    Wroclaw\n",
       "dtype: object"
      ]
     },
     "execution_count": 3,
     "metadata": {},
     "output_type": "execute_result"
    }
   ],
   "source": [
    "cities = [\"Warsaw\",\"Gdańsk\",\"Kraków\",\"Poznan\",\"Wroclaw\"]\n",
    "cities_serie = pd.Series(cities)\n",
    "cities_serie"
   ]
  },
  {
   "cell_type": "code",
   "execution_count": 4,
   "id": "eec45322",
   "metadata": {},
   "outputs": [
    {
     "data": {
      "text/plain": [
       "array(['Warsaw', 'Gdańsk', 'Kraków', 'Poznan', 'Wroclaw'], dtype=object)"
      ]
     },
     "execution_count": 4,
     "metadata": {},
     "output_type": "execute_result"
    }
   ],
   "source": [
    "cities_serie.values"
   ]
  },
  {
   "cell_type": "code",
   "execution_count": 6,
   "id": "ae833edc",
   "metadata": {},
   "outputs": [
    {
     "data": {
      "text/plain": [
       "[0, 1, 2, 3, 4]"
      ]
     },
     "execution_count": 6,
     "metadata": {},
     "output_type": "execute_result"
    }
   ],
   "source": [
    "list( cities_serie.index )"
   ]
  },
  {
   "cell_type": "code",
   "execution_count": 7,
   "id": "ad37059f",
   "metadata": {},
   "outputs": [
    {
     "data": {
      "text/plain": [
       "5"
      ]
     },
     "execution_count": 7,
     "metadata": {},
     "output_type": "execute_result"
    }
   ],
   "source": [
    "len(cities_serie)"
   ]
  },
  {
   "cell_type": "code",
   "execution_count": 8,
   "id": "498bd3f2",
   "metadata": {},
   "outputs": [
    {
     "data": {
      "text/plain": [
       "WI     Warsaw\n",
       "GD     Gdańsk\n",
       "KR     Kraków\n",
       "PO     Poznan\n",
       "DW    Wroclaw\n",
       "dtype: object"
      ]
     },
     "execution_count": 8,
     "metadata": {},
     "output_type": "execute_result"
    }
   ],
   "source": [
    "cities = [\"Warsaw\",\"Gdańsk\",\"Kraków\",\"Poznan\",\"Wroclaw\"]\n",
    "plates = [\"WI\", \"GD\", \"KR\", \"PO\", \"DW\"]\n",
    "cities_serie = pd.Series(cities, plates)\n",
    "cities_serie"
   ]
  },
  {
   "cell_type": "code",
   "execution_count": 9,
   "id": "14a4371a",
   "metadata": {},
   "outputs": [
    {
     "data": {
      "text/plain": [
       "Index(['WI', 'GD', 'KR', 'PO', 'DW'], dtype='object')"
      ]
     },
     "execution_count": 9,
     "metadata": {},
     "output_type": "execute_result"
    }
   ],
   "source": [
    "cities_serie.index"
   ]
  },
  {
   "cell_type": "code",
   "execution_count": 10,
   "id": "e282db73",
   "metadata": {},
   "outputs": [
    {
     "data": {
      "text/plain": [
       "Poland      38321543\n",
       "Germany     84123567\n",
       "Russia     150765222\n",
       "USA        320987654\n",
       "UK          62123456\n",
       "dtype: int64"
      ]
     },
     "execution_count": 10,
     "metadata": {},
     "output_type": "execute_result"
    }
   ],
   "source": [
    "countries = [\"Poland\", \"Germany\", \"Russia\", \"USA\", \"UK\"]\n",
    "population = [38321543, 84123567, 150765222, 320987654, 62123456]\n",
    "serie = pd.Series(population, countries)\n",
    "serie"
   ]
  },
  {
   "cell_type": "code",
   "execution_count": 11,
   "id": "41aabb77",
   "metadata": {},
   "outputs": [],
   "source": [
    "def convert_pop(x):\n",
    "    if x<50_000_000:\n",
    "        return \"L\"\n",
    "    if x<80_000_000:\n",
    "        return \"M\"\n",
    "    return \"H\""
   ]
  },
  {
   "cell_type": "code",
   "execution_count": 14,
   "id": "a96b88b5",
   "metadata": {},
   "outputs": [
    {
     "data": {
      "text/plain": [
       "'L'"
      ]
     },
     "execution_count": 14,
     "metadata": {},
     "output_type": "execute_result"
    }
   ],
   "source": [
    "convert_pop(2_000_000)"
   ]
  },
  {
   "cell_type": "code",
   "execution_count": 15,
   "id": "74a15c5e",
   "metadata": {},
   "outputs": [
    {
     "data": {
      "text/plain": [
       "Poland     L\n",
       "Germany    H\n",
       "Russia     H\n",
       "USA        H\n",
       "UK         M\n",
       "dtype: object"
      ]
     },
     "execution_count": 15,
     "metadata": {},
     "output_type": "execute_result"
    }
   ],
   "source": [
    "serie.apply(convert_pop)"
   ]
  },
  {
   "cell_type": "code",
   "execution_count": null,
   "id": "bcc32051",
   "metadata": {},
   "outputs": [],
   "source": []
  }
 ],
 "metadata": {
  "kernelspec": {
   "display_name": "Python 3 (ipykernel)",
   "language": "python",
   "name": "python3"
  },
  "language_info": {
   "codemirror_mode": {
    "name": "ipython",
    "version": 3
   },
   "file_extension": ".py",
   "mimetype": "text/x-python",
   "name": "python",
   "nbconvert_exporter": "python",
   "pygments_lexer": "ipython3",
   "version": "3.9.12"
  }
 },
 "nbformat": 4,
 "nbformat_minor": 5
}
