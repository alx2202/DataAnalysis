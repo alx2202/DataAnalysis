{
 "cells": [
  {
   "cell_type": "code",
   "execution_count": 8,
   "id": "8bce051a",
   "metadata": {},
   "outputs": [
    {
     "name": "stdout",
     "output_type": "stream",
     "text": [
      "Line \n",
      "number\n"
     ]
    }
   ],
   "source": [
    "# open file\n",
    "fd = open(\"textfile1.txt\", \"rt\") # opening for reading as text files\n",
    "\n",
    "# read the content\n",
    "#s = fd.read() # reading whole content\n",
    "s = fd.read(5) # read 5 bytes starting from begining\n",
    "print(s)\n",
    "\n",
    "s = fd.read(6) # read next 6 bytes\n",
    "print(s)\n",
    "\n",
    "\n",
    "# close file\n",
    "fd.close()"
   ]
  },
  {
   "cell_type": "code",
   "execution_count": 11,
   "id": "4ce6a1fc",
   "metadata": {},
   "outputs": [
    {
     "name": "stdout",
     "output_type": "stream",
     "text": [
      "Line number 1\n",
      "Line number 2\n",
      "Line number 3\n",
      "Line number 4\n",
      "Line number 5\n"
     ]
    }
   ],
   "source": [
    "# how to read text file line by line\n",
    "\n",
    "fd = open(\"textfile1.txt\", \"rt\") # opening for reading as text files\n",
    "\n",
    "for line in fd:\n",
    "    print(line.strip()) # remove white characters (like new line sequence with .strip() method )\n",
    "\n",
    "# close file\n",
    "fd.close()"
   ]
  },
  {
   "cell_type": "code",
   "execution_count": 13,
   "id": "fdac3992",
   "metadata": {},
   "outputs": [
    {
     "name": "stdout",
     "output_type": "stream",
     "text": [
      "Line number 1\n",
      "Line number 2\n",
      "Line number 3\n",
      "Line number 4\n",
      "Line number 5\n"
     ]
    }
   ],
   "source": [
    "# how to read text file as a list of lines\n",
    "\n",
    "fd = open(\"textfile1.txt\", \"rt\") # opening for reading as text files\n",
    "\n",
    "# \\n - end line for Linux-based OS\n",
    "# \\r\\n - end line for Windows OS\n",
    "lines = fd.readlines()\n",
    "for line in lines:\n",
    "    print(line.strip())\n",
    "\n",
    "# close file\n",
    "fd.close()"
   ]
  },
  {
   "cell_type": "code",
   "execution_count": 17,
   "id": "02ef5c24",
   "metadata": {},
   "outputs": [],
   "source": [
    "# how to write the content to the text file\n",
    "\n",
    "fd = open(\"file-for-writing.txt\", \"wt\") # open file for writing (warning - existing file will be truncating)\n",
    "\n",
    "fd.write(\"Some data for storing in text file\\r\\n\")\n",
    "fd.write(\"additional text\\r\\n\")\n",
    "\n",
    "fd.writelines([\"Line A\\r\\n\",\"Line B\\r\\n\",\"Line C\\r\\n\"])\n",
    "\n",
    "fd.close()"
   ]
  },
  {
   "cell_type": "code",
   "execution_count": 25,
   "id": "434de85a",
   "metadata": {},
   "outputs": [],
   "source": [
    "# how to write the content to the text file\n",
    "\n",
    "fd = open(\"file-for-append.txt\", \"at\") # open file for writing (appending content)\n",
    "\n",
    "fd.write(\"Some data for storing in text file\\r\\n\")\n",
    "fd.write(\"additional text\\r\\n\")\n",
    "\n",
    "fd.writelines([\"Line A\\r\\n\",\"Line B\\r\\n\",\"Line C\\r\\n\"])\n",
    "\n",
    "fd.close()"
   ]
  },
  {
   "cell_type": "code",
   "execution_count": 27,
   "id": "b796eba6",
   "metadata": {},
   "outputs": [
    {
     "name": "stdout",
     "output_type": "stream",
     "text": [
      "Line number 1\n",
      "Line number 2\n",
      "Line number 3\n",
      "Line number 4\n",
      "Line number 5\n",
      "True\n"
     ]
    }
   ],
   "source": [
    "# Context manager for automatic relasing the file handle\n",
    "with open(\"textfile1.txt\", \"rt\") as fd:\n",
    "    s = fd.read()\n",
    "    print(s)\n",
    "    \n",
    "print(fd.closed)"
   ]
  },
  {
   "cell_type": "code",
   "execution_count": null,
   "id": "71f80f42",
   "metadata": {},
   "outputs": [],
   "source": []
  }
 ],
 "metadata": {
  "kernelspec": {
   "display_name": "Python 3 (ipykernel)",
   "language": "python",
   "name": "python3"
  },
  "language_info": {
   "codemirror_mode": {
    "name": "ipython",
    "version": 3
   },
   "file_extension": ".py",
   "mimetype": "text/x-python",
   "name": "python",
   "nbconvert_exporter": "python",
   "pygments_lexer": "ipython3",
   "version": "3.9.7"
  }
 },
 "nbformat": 4,
 "nbformat_minor": 5
}
