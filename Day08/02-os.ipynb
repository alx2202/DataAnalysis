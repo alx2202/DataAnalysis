{
 "cells": [
  {
   "cell_type": "code",
   "execution_count": 1,
   "id": "f75fe9e0",
   "metadata": {},
   "outputs": [],
   "source": [
    "import os\n",
    "import shutil"
   ]
  },
  {
   "cell_type": "code",
   "execution_count": 2,
   "id": "f00fe234",
   "metadata": {},
   "outputs": [
    {
     "data": {
      "text/plain": [
       "'/Users/marian/ALX2201/Day08'"
      ]
     },
     "execution_count": 2,
     "metadata": {},
     "output_type": "execute_result"
    }
   ],
   "source": [
    "# get the current working directory\n",
    "os.getcwd()"
   ]
  },
  {
   "cell_type": "code",
   "execution_count": 5,
   "id": "d1cb43cc",
   "metadata": {},
   "outputs": [
    {
     "name": "stdout",
     "output_type": "stream",
     "text": [
      "Removing folder sub1\n"
     ]
    }
   ],
   "source": [
    "# creating and removing directories\n",
    "\n",
    "subfolder_name = \"sub1\"\n",
    "# first check the subfolder exists\n",
    "if os.path.exists(subfolder_name):\n",
    "    os.removedirs(subfolder_name)\n",
    "    print(\"Removing folder\",subfolder_name)\n",
    "\n",
    "os.mkdir(subfolder_name)"
   ]
  },
  {
   "cell_type": "code",
   "execution_count": 7,
   "id": "3a56f159",
   "metadata": {},
   "outputs": [
    {
     "name": "stdout",
     "output_type": "stream",
     "text": [
      "File not exists\n"
     ]
    }
   ],
   "source": [
    "# check the file exists\n",
    "if os.path.exists(\"textfile1.txt\"):\n",
    "    print(\"File exists\")\n",
    "else:\n",
    "    print(\"File not exists\")"
   ]
  },
  {
   "cell_type": "code",
   "execution_count": 12,
   "id": "75537887",
   "metadata": {},
   "outputs": [
    {
     "name": "stdout",
     "output_type": "stream",
     "text": [
      "/Users/marian/ALX2201/Day08/sub1/test.txt\n",
      "True\n"
     ]
    }
   ],
   "source": [
    "# Obtain full path name to the file\n",
    "curr_dir = os.getcwd()\n",
    "# full_path_name = curr_dir + \"/\" + \"sub1\" + \"/\" + \"test.txt\" - pure version #1\n",
    "#full_path_name = curr_dir + os.sep + \"sub1\" + os.sep + \"test.txt\" # version #2\n",
    "full_path_name = os.path.join(curr_dir, \"sub1\", \"test.txt\") # more professional way !!! :)\n",
    "\n",
    "print(full_path_name)\n",
    "print(os.path.exists(full_path_name))"
   ]
  },
  {
   "cell_type": "code",
   "execution_count": 16,
   "id": "61c36417",
   "metadata": {},
   "outputs": [],
   "source": [
    "# delete the file\n",
    "if os.path.exists(full_path_name):\n",
    "    os.remove(full_path_name)\n",
    "    print(\"File removed\")"
   ]
  },
  {
   "cell_type": "code",
   "execution_count": 18,
   "id": "9ce1c53e",
   "metadata": {},
   "outputs": [
    {
     "name": "stdout",
     "output_type": "stream",
     "text": [
      "file-for-append.txt\n",
      "01-files.ipynb\n",
      "sub1\n",
      "file-for-writing.txt\n",
      "02-os.ipynb\n",
      ".ipynb_checkpoints\n",
      "textfile1.txt\n"
     ]
    }
   ],
   "source": [
    "# list files and folders (without subfolders)\n",
    "items = os.listdir(curr_dir)\n",
    "for item in items:\n",
    "    print(item)"
   ]
  },
  {
   "cell_type": "code",
   "execution_count": 21,
   "id": "1a2597d2",
   "metadata": {},
   "outputs": [
    {
     "data": {
      "text/plain": [
       "'textfile2.txt'"
      ]
     },
     "execution_count": 21,
     "metadata": {},
     "output_type": "execute_result"
    }
   ],
   "source": [
    "# copy files\n",
    "shutil.copy(\"textfile1.txt\", \"textfile2.txt\")"
   ]
  },
  {
   "cell_type": "code",
   "execution_count": 25,
   "id": "9b216afd",
   "metadata": {},
   "outputs": [],
   "source": [
    "# remove whole structure and content of folder\n",
    "shutil.rmtree(\"sub1\", ignore_errors=True)"
   ]
  },
  {
   "cell_type": "code",
   "execution_count": 28,
   "id": "03678f70",
   "metadata": {},
   "outputs": [
    {
     "data": {
      "text/plain": [
       "usage(total=245107195904, used=193659125760, free=51448070144)"
      ]
     },
     "execution_count": 28,
     "metadata": {},
     "output_type": "execute_result"
    }
   ],
   "source": [
    "# Return disk usage statistics about the given path.\n",
    "shutil.disk_usage(os.getcwd())"
   ]
  },
  {
   "cell_type": "code",
   "execution_count": 33,
   "id": "ac0dec44",
   "metadata": {},
   "outputs": [
    {
     "name": "stdout",
     "output_type": "stream",
     "text": [
      "Location of temp folder: /var/folders/11/hff4y9v9091g8skr6mkm__l40000gn/T\n",
      "/var/folders/11/hff4y9v9091g8skr6mkm__l40000gn/T/tmpeqiua2m2\n"
     ]
    }
   ],
   "source": [
    "# use temporary file\n",
    "import tempfile\n",
    "\n",
    "print(\"Location of temp folder:\", tempfile.gettempdir())\n",
    "with tempfile.NamedTemporaryFile(\"wt\", delete=True) as fd:\n",
    "    print(fd.name)\n",
    "    fd.write(\"abc\")\n",
    "    fd.flush() # purge of cache into physical object on disk\n",
    "    fd.write(\"def\")"
   ]
  },
  {
   "cell_type": "code",
   "execution_count": null,
   "id": "7f7a9682",
   "metadata": {},
   "outputs": [],
   "source": []
  }
 ],
 "metadata": {
  "kernelspec": {
   "display_name": "Python 3 (ipykernel)",
   "language": "python",
   "name": "python3"
  },
  "language_info": {
   "codemirror_mode": {
    "name": "ipython",
    "version": 3
   },
   "file_extension": ".py",
   "mimetype": "text/x-python",
   "name": "python",
   "nbconvert_exporter": "python",
   "pygments_lexer": "ipython3",
   "version": "3.9.12"
  }
 },
 "nbformat": 4,
 "nbformat_minor": 5
}
