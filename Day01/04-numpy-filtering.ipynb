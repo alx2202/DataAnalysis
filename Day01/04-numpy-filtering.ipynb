{
 "cells": [
  {
   "cell_type": "code",
   "execution_count": 1,
   "id": "8883219d",
   "metadata": {},
   "outputs": [],
   "source": [
    "import numpy as np"
   ]
  },
  {
   "cell_type": "code",
   "execution_count": 2,
   "id": "e1f23461",
   "metadata": {},
   "outputs": [
    {
     "data": {
      "text/plain": [
       "[10, 50, 100, 123, 432, 111]"
      ]
     },
     "execution_count": 2,
     "metadata": {},
     "output_type": "execute_result"
    }
   ],
   "source": [
    "# classic way in Python list for filtering\n",
    "numbers_list = [ -20, -1, 10, 50, -100, 100, -512, 123, 432, 111, -1024]\n",
    "# only positive numbers\n",
    "[x for x in numbers_list if x>0 ]"
   ]
  },
  {
   "cell_type": "code",
   "execution_count": 3,
   "id": "cdabf3d5",
   "metadata": {},
   "outputs": [
    {
     "data": {
      "text/plain": [
       "array([  -20,    -1,    10,    50,  -100,   100,  -512,   123,   432,\n",
       "         111, -1024])"
      ]
     },
     "execution_count": 3,
     "metadata": {},
     "output_type": "execute_result"
    }
   ],
   "source": [
    "arr = np.array(numbers_list)\n",
    "arr"
   ]
  },
  {
   "cell_type": "code",
   "execution_count": 5,
   "id": "0dfe7223",
   "metadata": {},
   "outputs": [
    {
     "data": {
      "text/plain": [
       "array([ 10,  50, 100, 123, 432, 111])"
      ]
     },
     "execution_count": 5,
     "metadata": {},
     "output_type": "execute_result"
    }
   ],
   "source": [
    "arr[ arr>0 ]"
   ]
  },
  {
   "cell_type": "code",
   "execution_count": 7,
   "id": "29b64889",
   "metadata": {},
   "outputs": [
    {
     "name": "stdout",
     "output_type": "stream",
     "text": [
      "ERROR\n"
     ]
    }
   ],
   "source": [
    "# find values >=0 and <=100\n",
    "# FALSE and FALSE -> FALSE\n",
    "# FALSE and TRUE -> FALSE\n",
    "# TRUE and FALSE -> FALSE\n",
    "# TRUE and TRUE -> TRUE\n",
    "a = -100\n",
    "if a>=0 and a<=100:\n",
    "    print(\"OK\")\n",
    "else:\n",
    "    print(\"ERROR\")"
   ]
  },
  {
   "cell_type": "code",
   "execution_count": 9,
   "id": "007b1fbb",
   "metadata": {},
   "outputs": [
    {
     "data": {
      "text/plain": [
       "array([ 10,  50, 100])"
      ]
     },
     "execution_count": 9,
     "metadata": {},
     "output_type": "execute_result"
    }
   ],
   "source": [
    "# & - bitwise and , similar to AND logical operator\n",
    "arr[ (arr>=0)&(arr<=100) ]"
   ]
  },
  {
   "cell_type": "code",
   "execution_count": 12,
   "id": "3f240921",
   "metadata": {},
   "outputs": [
    {
     "name": "stdout",
     "output_type": "stream",
     "text": [
      "OK\n"
     ]
    }
   ],
   "source": [
    "# find values <0 or >100\n",
    "# FALSE or FALSE -> FALSE\n",
    "# FALSE or TRUE -> TRUE\n",
    "# TRUE or FALSE -> TRUE\n",
    "# TRUE or TRUE -> TRUE\n",
    "a = 50\n",
    "if a>=0 or a<=100:\n",
    "    print(\"OK\")\n",
    "else:\n",
    "    print(\"ERROR\")"
   ]
  },
  {
   "cell_type": "code",
   "execution_count": 14,
   "id": "6842de6d",
   "metadata": {},
   "outputs": [
    {
     "data": {
      "text/plain": [
       "array([  -20,    -1,  -100,  -512,   123,   432,   111, -1024])"
      ]
     },
     "execution_count": 14,
     "metadata": {},
     "output_type": "execute_result"
    }
   ],
   "source": [
    "# | - bitwise or , similar to OR logical operator\n",
    "arr[ (arr<0)|(arr>100) ]"
   ]
  },
  {
   "cell_type": "code",
   "execution_count": 26,
   "id": "60643518",
   "metadata": {},
   "outputs": [
    {
     "name": "stdout",
     "output_type": "stream",
     "text": [
      "not > 10\n"
     ]
    }
   ],
   "source": [
    "# NOT operator example\n",
    "# FALSE -> not TRUE\n",
    "# TRUE -> not FALSE\n",
    "a = 0\n",
    "if not a>10:\n",
    "    print(\"not > 10\")\n",
    "else:\n",
    "    print(\"not <= 10\")"
   ]
  },
  {
   "cell_type": "code",
   "execution_count": 27,
   "id": "e930f398",
   "metadata": {},
   "outputs": [
    {
     "data": {
      "text/plain": [
       "False"
      ]
     },
     "execution_count": 27,
     "metadata": {},
     "output_type": "execute_result"
    }
   ],
   "source": [
    "not (4 % 2 == 0)"
   ]
  },
  {
   "cell_type": "code",
   "execution_count": 19,
   "id": "8b5f0fc0",
   "metadata": {},
   "outputs": [
    {
     "data": {
      "text/plain": [
       "True"
      ]
     },
     "execution_count": 19,
     "metadata": {},
     "output_type": "execute_result"
    }
   ],
   "source": [
    "(4 % 2 == 0)"
   ]
  },
  {
   "cell_type": "code",
   "execution_count": 23,
   "id": "1b9e17f1",
   "metadata": {},
   "outputs": [
    {
     "name": "stdout",
     "output_type": "stream",
     "text": [
      "False\n",
      "True\n"
     ]
    }
   ],
   "source": [
    "print(a>100)\n",
    "#print(a<=100)\n",
    "print(not a>100)"
   ]
  },
  {
   "cell_type": "code",
   "execution_count": 28,
   "id": "345be4b1",
   "metadata": {},
   "outputs": [
    {
     "data": {
      "text/plain": [
       "array([-1.,  4., 10., nan, 15., 20., nan])"
      ]
     },
     "execution_count": 28,
     "metadata": {},
     "output_type": "execute_result"
    }
   ],
   "source": [
    "# create array with NaN (not a number) or missing values\n",
    "arr = np.array([-1, 4, 10, np.NaN, 15, 20, np.NaN])\n",
    "arr"
   ]
  },
  {
   "cell_type": "code",
   "execution_count": 29,
   "id": "4a0f7783",
   "metadata": {},
   "outputs": [
    {
     "data": {
      "text/plain": [
       "dtype('float64')"
      ]
     },
     "execution_count": 29,
     "metadata": {},
     "output_type": "execute_result"
    }
   ],
   "source": [
    "arr.dtype"
   ]
  },
  {
   "cell_type": "code",
   "execution_count": 34,
   "id": "6529cfc7",
   "metadata": {},
   "outputs": [
    {
     "data": {
      "text/plain": [
       "array([ True,  True,  True, False,  True,  True, False])"
      ]
     },
     "execution_count": 34,
     "metadata": {},
     "output_type": "execute_result"
    }
   ],
   "source": [
    "# ~ - bitwise not operator (tilde) aka  swung dash \n",
    "~np.isnan(arr)"
   ]
  },
  {
   "cell_type": "code",
   "execution_count": 35,
   "id": "5356a65e",
   "metadata": {},
   "outputs": [
    {
     "data": {
      "text/plain": [
       "array([-1.,  4., 10., 15., 20.])"
      ]
     },
     "execution_count": 35,
     "metadata": {},
     "output_type": "execute_result"
    }
   ],
   "source": [
    "arr[ ~np.isnan(arr) ]"
   ]
  },
  {
   "cell_type": "code",
   "execution_count": 36,
   "id": "cd4d7c93",
   "metadata": {},
   "outputs": [
    {
     "ename": "ValueError",
     "evalue": "The truth value of an array with more than one element is ambiguous. Use a.any() or a.all()",
     "output_type": "error",
     "traceback": [
      "\u001b[0;31m---------------------------------------------------------------------------\u001b[0m",
      "\u001b[0;31mValueError\u001b[0m                                Traceback (most recent call last)",
      "Input \u001b[0;32mIn [36]\u001b[0m, in \u001b[0;36m<cell line: 1>\u001b[0;34m()\u001b[0m\n\u001b[0;32m----> 1\u001b[0m \u001b[38;5;129;43;01mnot\u001b[39;49;00m\u001b[43m \u001b[49m\u001b[43mnp\u001b[49m\u001b[38;5;241;43m.\u001b[39;49m\u001b[43misnan\u001b[49m\u001b[43m(\u001b[49m\u001b[43marr\u001b[49m\u001b[43m)\u001b[49m\n",
      "\u001b[0;31mValueError\u001b[0m: The truth value of an array with more than one element is ambiguous. Use a.any() or a.all()"
     ]
    }
   ],
   "source": [
    "not np.isnan(arr)"
   ]
  },
  {
   "cell_type": "code",
   "execution_count": null,
   "id": "61f790bb",
   "metadata": {},
   "outputs": [],
   "source": []
  }
 ],
 "metadata": {
  "kernelspec": {
   "display_name": "Python 3 (ipykernel)",
   "language": "python",
   "name": "python3"
  },
  "language_info": {
   "codemirror_mode": {
    "name": "ipython",
    "version": 3
   },
   "file_extension": ".py",
   "mimetype": "text/x-python",
   "name": "python",
   "nbconvert_exporter": "python",
   "pygments_lexer": "ipython3",
   "version": "3.9.12"
  }
 },
 "nbformat": 4,
 "nbformat_minor": 5
}
